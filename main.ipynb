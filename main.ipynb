{
  "cells": [
    {
      "cell_type": "markdown",
      "metadata": {
        "id": "view-in-github",
        "colab_type": "text"
      },
      "source": [
        "<a href=\"https://colab.research.google.com/github/Beatrix-droid/NN-for-text-classification-of-amazonreviews/blob/master/main.ipynb\" target=\"_parent\"><img src=\"https://colab.research.google.com/assets/colab-badge.svg\" alt=\"Open In Colab\"/></a>"
      ]
    },
    {
      "cell_type": "code",
      "source": [
        "from google.colab import drive\n",
        "drive.mount('/content/drive')"
      ],
      "metadata": {
        "colab": {
          "base_uri": "https://localhost:8080/"
        },
        "id": "e571nd1Tcby5",
        "outputId": "fcdc3a2b-525a-4e0c-e13d-122dabfedf5f"
      },
      "execution_count": 139,
      "outputs": [
        {
          "output_type": "stream",
          "name": "stdout",
          "text": [
            "Drive already mounted at /content/drive; to attempt to forcibly remount, call drive.mount(\"/content/drive\", force_remount=True).\n"
          ]
        }
      ]
    },
    {
      "cell_type": "markdown",
      "metadata": {
        "id": "mNZXjPZAcQlv"
      },
      "source": [
        "objective: trying to predict the score of a review given a text review.\n",
        "This machine learning model uses a dataset containing all sorts of amazon reviews.\n",
        "This dataset consists of reviews of fine foods from amazon. The data span a period of more than 10 years, including all ~500,000 reviews up to October 2012. Reviews include product and user information (, ratings, and a plain text review. It also includes reviews from all other Amazon categories."
      ]
    },
    {
      "cell_type": "code",
      "execution_count": 168,
      "metadata": {
        "id": "b67LXDm0cQlx"
      },
      "outputs": [],
      "source": [
        "import pandas as pd"
      ]
    },
    {
      "cell_type": "code",
      "execution_count": 169,
      "metadata": {
        "id": "cy3Yfh5PcQlz"
      },
      "outputs": [],
      "source": [
        "df = pd.read_csv('/content/drive/MyDrive/Reviews.csv')"
      ]
    },
    {
      "cell_type": "code",
      "execution_count": 170,
      "metadata": {
        "colab": {
          "base_uri": "https://localhost:8080/",
          "height": 739
        },
        "id": "dqfgHrUjcQl1",
        "outputId": "6feafbff-b42e-4f27-bbf4-5ef2a8584d00"
      },
      "outputs": [
        {
          "output_type": "execute_result",
          "data": {
            "text/plain": [
              "   Id   ProductId          UserId                      ProfileName  \\\n",
              "0   1  B001E4KFG0  A3SGXH7AUHU8GW                       delmartian   \n",
              "1   2  B00813GRG4  A1D87F6ZCVE5NK                           dll pa   \n",
              "2   3  B000LQOCH0   ABXLMWJIXXAIN  Natalia Corres \"Natalia Corres\"   \n",
              "3   4  B000UA0QIQ  A395BORC6FGVXV                             Karl   \n",
              "4   5  B006K2ZZ7K  A1UQRSCLF8GW1T    Michael D. Bigham \"M. Wassir\"   \n",
              "\n",
              "   HelpfulnessNumerator  HelpfulnessDenominator  Score        Time  \\\n",
              "0                     1                       1      5  1303862400   \n",
              "1                     0                       0      1  1346976000   \n",
              "2                     1                       1      4  1219017600   \n",
              "3                     3                       3      2  1307923200   \n",
              "4                     0                       0      5  1350777600   \n",
              "\n",
              "                 Summary                                               Text  \n",
              "0  Good Quality Dog Food  I have bought several of the Vitality canned d...  \n",
              "1      Not as Advertised  Product arrived labeled as Jumbo Salted Peanut...  \n",
              "2  \"Delight\" says it all  This is a confection that has been around a fe...  \n",
              "3         Cough Medicine  If you are looking for the secret ingredient i...  \n",
              "4            Great taffy  Great taffy at a great price.  There was a wid...  "
            ],
            "text/html": [
              "\n",
              "  <div id=\"df-1b97ef99-e429-4493-bd57-26a8b1ad0210\">\n",
              "    <div class=\"colab-df-container\">\n",
              "      <div>\n",
              "<style scoped>\n",
              "    .dataframe tbody tr th:only-of-type {\n",
              "        vertical-align: middle;\n",
              "    }\n",
              "\n",
              "    .dataframe tbody tr th {\n",
              "        vertical-align: top;\n",
              "    }\n",
              "\n",
              "    .dataframe thead th {\n",
              "        text-align: right;\n",
              "    }\n",
              "</style>\n",
              "<table border=\"1\" class=\"dataframe\">\n",
              "  <thead>\n",
              "    <tr style=\"text-align: right;\">\n",
              "      <th></th>\n",
              "      <th>Id</th>\n",
              "      <th>ProductId</th>\n",
              "      <th>UserId</th>\n",
              "      <th>ProfileName</th>\n",
              "      <th>HelpfulnessNumerator</th>\n",
              "      <th>HelpfulnessDenominator</th>\n",
              "      <th>Score</th>\n",
              "      <th>Time</th>\n",
              "      <th>Summary</th>\n",
              "      <th>Text</th>\n",
              "    </tr>\n",
              "  </thead>\n",
              "  <tbody>\n",
              "    <tr>\n",
              "      <th>0</th>\n",
              "      <td>1</td>\n",
              "      <td>B001E4KFG0</td>\n",
              "      <td>A3SGXH7AUHU8GW</td>\n",
              "      <td>delmartian</td>\n",
              "      <td>1</td>\n",
              "      <td>1</td>\n",
              "      <td>5</td>\n",
              "      <td>1303862400</td>\n",
              "      <td>Good Quality Dog Food</td>\n",
              "      <td>I have bought several of the Vitality canned d...</td>\n",
              "    </tr>\n",
              "    <tr>\n",
              "      <th>1</th>\n",
              "      <td>2</td>\n",
              "      <td>B00813GRG4</td>\n",
              "      <td>A1D87F6ZCVE5NK</td>\n",
              "      <td>dll pa</td>\n",
              "      <td>0</td>\n",
              "      <td>0</td>\n",
              "      <td>1</td>\n",
              "      <td>1346976000</td>\n",
              "      <td>Not as Advertised</td>\n",
              "      <td>Product arrived labeled as Jumbo Salted Peanut...</td>\n",
              "    </tr>\n",
              "    <tr>\n",
              "      <th>2</th>\n",
              "      <td>3</td>\n",
              "      <td>B000LQOCH0</td>\n",
              "      <td>ABXLMWJIXXAIN</td>\n",
              "      <td>Natalia Corres \"Natalia Corres\"</td>\n",
              "      <td>1</td>\n",
              "      <td>1</td>\n",
              "      <td>4</td>\n",
              "      <td>1219017600</td>\n",
              "      <td>\"Delight\" says it all</td>\n",
              "      <td>This is a confection that has been around a fe...</td>\n",
              "    </tr>\n",
              "    <tr>\n",
              "      <th>3</th>\n",
              "      <td>4</td>\n",
              "      <td>B000UA0QIQ</td>\n",
              "      <td>A395BORC6FGVXV</td>\n",
              "      <td>Karl</td>\n",
              "      <td>3</td>\n",
              "      <td>3</td>\n",
              "      <td>2</td>\n",
              "      <td>1307923200</td>\n",
              "      <td>Cough Medicine</td>\n",
              "      <td>If you are looking for the secret ingredient i...</td>\n",
              "    </tr>\n",
              "    <tr>\n",
              "      <th>4</th>\n",
              "      <td>5</td>\n",
              "      <td>B006K2ZZ7K</td>\n",
              "      <td>A1UQRSCLF8GW1T</td>\n",
              "      <td>Michael D. Bigham \"M. Wassir\"</td>\n",
              "      <td>0</td>\n",
              "      <td>0</td>\n",
              "      <td>5</td>\n",
              "      <td>1350777600</td>\n",
              "      <td>Great taffy</td>\n",
              "      <td>Great taffy at a great price.  There was a wid...</td>\n",
              "    </tr>\n",
              "  </tbody>\n",
              "</table>\n",
              "</div>\n",
              "      <button class=\"colab-df-convert\" onclick=\"convertToInteractive('df-1b97ef99-e429-4493-bd57-26a8b1ad0210')\"\n",
              "              title=\"Convert this dataframe to an interactive table.\"\n",
              "              style=\"display:none;\">\n",
              "        \n",
              "  <svg xmlns=\"http://www.w3.org/2000/svg\" height=\"24px\"viewBox=\"0 0 24 24\"\n",
              "       width=\"24px\">\n",
              "    <path d=\"M0 0h24v24H0V0z\" fill=\"none\"/>\n",
              "    <path d=\"M18.56 5.44l.94 2.06.94-2.06 2.06-.94-2.06-.94-.94-2.06-.94 2.06-2.06.94zm-11 1L8.5 8.5l.94-2.06 2.06-.94-2.06-.94L8.5 2.5l-.94 2.06-2.06.94zm10 10l.94 2.06.94-2.06 2.06-.94-2.06-.94-.94-2.06-.94 2.06-2.06.94z\"/><path d=\"M17.41 7.96l-1.37-1.37c-.4-.4-.92-.59-1.43-.59-.52 0-1.04.2-1.43.59L10.3 9.45l-7.72 7.72c-.78.78-.78 2.05 0 2.83L4 21.41c.39.39.9.59 1.41.59.51 0 1.02-.2 1.41-.59l7.78-7.78 2.81-2.81c.8-.78.8-2.07 0-2.86zM5.41 20L4 18.59l7.72-7.72 1.47 1.35L5.41 20z\"/>\n",
              "  </svg>\n",
              "      </button>\n",
              "      \n",
              "  <style>\n",
              "    .colab-df-container {\n",
              "      display:flex;\n",
              "      flex-wrap:wrap;\n",
              "      gap: 12px;\n",
              "    }\n",
              "\n",
              "    .colab-df-convert {\n",
              "      background-color: #E8F0FE;\n",
              "      border: none;\n",
              "      border-radius: 50%;\n",
              "      cursor: pointer;\n",
              "      display: none;\n",
              "      fill: #1967D2;\n",
              "      height: 32px;\n",
              "      padding: 0 0 0 0;\n",
              "      width: 32px;\n",
              "    }\n",
              "\n",
              "    .colab-df-convert:hover {\n",
              "      background-color: #E2EBFA;\n",
              "      box-shadow: 0px 1px 2px rgba(60, 64, 67, 0.3), 0px 1px 3px 1px rgba(60, 64, 67, 0.15);\n",
              "      fill: #174EA6;\n",
              "    }\n",
              "\n",
              "    [theme=dark] .colab-df-convert {\n",
              "      background-color: #3B4455;\n",
              "      fill: #D2E3FC;\n",
              "    }\n",
              "\n",
              "    [theme=dark] .colab-df-convert:hover {\n",
              "      background-color: #434B5C;\n",
              "      box-shadow: 0px 1px 3px 1px rgba(0, 0, 0, 0.15);\n",
              "      filter: drop-shadow(0px 1px 2px rgba(0, 0, 0, 0.3));\n",
              "      fill: #FFFFFF;\n",
              "    }\n",
              "  </style>\n",
              "\n",
              "      <script>\n",
              "        const buttonEl =\n",
              "          document.querySelector('#df-1b97ef99-e429-4493-bd57-26a8b1ad0210 button.colab-df-convert');\n",
              "        buttonEl.style.display =\n",
              "          google.colab.kernel.accessAllowed ? 'block' : 'none';\n",
              "\n",
              "        async function convertToInteractive(key) {\n",
              "          const element = document.querySelector('#df-1b97ef99-e429-4493-bd57-26a8b1ad0210');\n",
              "          const dataTable =\n",
              "            await google.colab.kernel.invokeFunction('convertToInteractive',\n",
              "                                                     [key], {});\n",
              "          if (!dataTable) return;\n",
              "\n",
              "          const docLinkHtml = 'Like what you see? Visit the ' +\n",
              "            '<a target=\"_blank\" href=https://colab.research.google.com/notebooks/data_table.ipynb>data table notebook</a>'\n",
              "            + ' to learn more about interactive tables.';\n",
              "          element.innerHTML = '';\n",
              "          dataTable['output_type'] = 'display_data';\n",
              "          await google.colab.output.renderOutput(dataTable, element);\n",
              "          const docLink = document.createElement('div');\n",
              "          docLink.innerHTML = docLinkHtml;\n",
              "          element.appendChild(docLink);\n",
              "        }\n",
              "      </script>\n",
              "    </div>\n",
              "  </div>\n",
              "  "
            ]
          },
          "metadata": {},
          "execution_count": 170
        }
      ],
      "source": [
        "#inspect a sample of the data\n",
        "df.head()"
      ]
    },
    {
      "cell_type": "code",
      "execution_count": 171,
      "metadata": {
        "id": "DIIAC9YtcQl3"
      },
      "outputs": [],
      "source": [
        "#drop unnecessary columns:\n",
        "df.drop([\"Id\", \"ProfileName\", \"UserId\", \"ProductId\", \"Summary\",\"Time\", \"HelpfulnessNumerator\", \"HelpfulnessDenominator\"], axis=1, inplace=True)"
      ]
    },
    {
      "cell_type": "code",
      "execution_count": 172,
      "metadata": {
        "colab": {
          "base_uri": "https://localhost:8080/",
          "height": 206
        },
        "id": "jvY_AInXcQl3",
        "outputId": "9be8984e-c9d8-4e0d-f300-57b373f9a4f7"
      },
      "outputs": [
        {
          "output_type": "execute_result",
          "data": {
            "text/plain": [
              "   Score                                               Text\n",
              "0      5  I have bought several of the Vitality canned d...\n",
              "1      1  Product arrived labeled as Jumbo Salted Peanut...\n",
              "2      4  This is a confection that has been around a fe...\n",
              "3      2  If you are looking for the secret ingredient i...\n",
              "4      5  Great taffy at a great price.  There was a wid..."
            ],
            "text/html": [
              "\n",
              "  <div id=\"df-0e7fceb8-40f2-4e7a-8a57-604b30031769\">\n",
              "    <div class=\"colab-df-container\">\n",
              "      <div>\n",
              "<style scoped>\n",
              "    .dataframe tbody tr th:only-of-type {\n",
              "        vertical-align: middle;\n",
              "    }\n",
              "\n",
              "    .dataframe tbody tr th {\n",
              "        vertical-align: top;\n",
              "    }\n",
              "\n",
              "    .dataframe thead th {\n",
              "        text-align: right;\n",
              "    }\n",
              "</style>\n",
              "<table border=\"1\" class=\"dataframe\">\n",
              "  <thead>\n",
              "    <tr style=\"text-align: right;\">\n",
              "      <th></th>\n",
              "      <th>Score</th>\n",
              "      <th>Text</th>\n",
              "    </tr>\n",
              "  </thead>\n",
              "  <tbody>\n",
              "    <tr>\n",
              "      <th>0</th>\n",
              "      <td>5</td>\n",
              "      <td>I have bought several of the Vitality canned d...</td>\n",
              "    </tr>\n",
              "    <tr>\n",
              "      <th>1</th>\n",
              "      <td>1</td>\n",
              "      <td>Product arrived labeled as Jumbo Salted Peanut...</td>\n",
              "    </tr>\n",
              "    <tr>\n",
              "      <th>2</th>\n",
              "      <td>4</td>\n",
              "      <td>This is a confection that has been around a fe...</td>\n",
              "    </tr>\n",
              "    <tr>\n",
              "      <th>3</th>\n",
              "      <td>2</td>\n",
              "      <td>If you are looking for the secret ingredient i...</td>\n",
              "    </tr>\n",
              "    <tr>\n",
              "      <th>4</th>\n",
              "      <td>5</td>\n",
              "      <td>Great taffy at a great price.  There was a wid...</td>\n",
              "    </tr>\n",
              "  </tbody>\n",
              "</table>\n",
              "</div>\n",
              "      <button class=\"colab-df-convert\" onclick=\"convertToInteractive('df-0e7fceb8-40f2-4e7a-8a57-604b30031769')\"\n",
              "              title=\"Convert this dataframe to an interactive table.\"\n",
              "              style=\"display:none;\">\n",
              "        \n",
              "  <svg xmlns=\"http://www.w3.org/2000/svg\" height=\"24px\"viewBox=\"0 0 24 24\"\n",
              "       width=\"24px\">\n",
              "    <path d=\"M0 0h24v24H0V0z\" fill=\"none\"/>\n",
              "    <path d=\"M18.56 5.44l.94 2.06.94-2.06 2.06-.94-2.06-.94-.94-2.06-.94 2.06-2.06.94zm-11 1L8.5 8.5l.94-2.06 2.06-.94-2.06-.94L8.5 2.5l-.94 2.06-2.06.94zm10 10l.94 2.06.94-2.06 2.06-.94-2.06-.94-.94-2.06-.94 2.06-2.06.94z\"/><path d=\"M17.41 7.96l-1.37-1.37c-.4-.4-.92-.59-1.43-.59-.52 0-1.04.2-1.43.59L10.3 9.45l-7.72 7.72c-.78.78-.78 2.05 0 2.83L4 21.41c.39.39.9.59 1.41.59.51 0 1.02-.2 1.41-.59l7.78-7.78 2.81-2.81c.8-.78.8-2.07 0-2.86zM5.41 20L4 18.59l7.72-7.72 1.47 1.35L5.41 20z\"/>\n",
              "  </svg>\n",
              "      </button>\n",
              "      \n",
              "  <style>\n",
              "    .colab-df-container {\n",
              "      display:flex;\n",
              "      flex-wrap:wrap;\n",
              "      gap: 12px;\n",
              "    }\n",
              "\n",
              "    .colab-df-convert {\n",
              "      background-color: #E8F0FE;\n",
              "      border: none;\n",
              "      border-radius: 50%;\n",
              "      cursor: pointer;\n",
              "      display: none;\n",
              "      fill: #1967D2;\n",
              "      height: 32px;\n",
              "      padding: 0 0 0 0;\n",
              "      width: 32px;\n",
              "    }\n",
              "\n",
              "    .colab-df-convert:hover {\n",
              "      background-color: #E2EBFA;\n",
              "      box-shadow: 0px 1px 2px rgba(60, 64, 67, 0.3), 0px 1px 3px 1px rgba(60, 64, 67, 0.15);\n",
              "      fill: #174EA6;\n",
              "    }\n",
              "\n",
              "    [theme=dark] .colab-df-convert {\n",
              "      background-color: #3B4455;\n",
              "      fill: #D2E3FC;\n",
              "    }\n",
              "\n",
              "    [theme=dark] .colab-df-convert:hover {\n",
              "      background-color: #434B5C;\n",
              "      box-shadow: 0px 1px 3px 1px rgba(0, 0, 0, 0.15);\n",
              "      filter: drop-shadow(0px 1px 2px rgba(0, 0, 0, 0.3));\n",
              "      fill: #FFFFFF;\n",
              "    }\n",
              "  </style>\n",
              "\n",
              "      <script>\n",
              "        const buttonEl =\n",
              "          document.querySelector('#df-0e7fceb8-40f2-4e7a-8a57-604b30031769 button.colab-df-convert');\n",
              "        buttonEl.style.display =\n",
              "          google.colab.kernel.accessAllowed ? 'block' : 'none';\n",
              "\n",
              "        async function convertToInteractive(key) {\n",
              "          const element = document.querySelector('#df-0e7fceb8-40f2-4e7a-8a57-604b30031769');\n",
              "          const dataTable =\n",
              "            await google.colab.kernel.invokeFunction('convertToInteractive',\n",
              "                                                     [key], {});\n",
              "          if (!dataTable) return;\n",
              "\n",
              "          const docLinkHtml = 'Like what you see? Visit the ' +\n",
              "            '<a target=\"_blank\" href=https://colab.research.google.com/notebooks/data_table.ipynb>data table notebook</a>'\n",
              "            + ' to learn more about interactive tables.';\n",
              "          element.innerHTML = '';\n",
              "          dataTable['output_type'] = 'display_data';\n",
              "          await google.colab.output.renderOutput(dataTable, element);\n",
              "          const docLink = document.createElement('div');\n",
              "          docLink.innerHTML = docLinkHtml;\n",
              "          element.appendChild(docLink);\n",
              "        }\n",
              "      </script>\n",
              "    </div>\n",
              "  </div>\n",
              "  "
            ]
          },
          "metadata": {},
          "execution_count": 172
        }
      ],
      "source": [
        "df.head()"
      ]
    },
    {
      "cell_type": "code",
      "source": [
        "df.shape"
      ],
      "metadata": {
        "colab": {
          "base_uri": "https://localhost:8080/"
        },
        "id": "MkH8X_c4kIIG",
        "outputId": "f16e0e25-fcb6-4ffd-c7d9-d23bee5a4bd9"
      },
      "execution_count": 173,
      "outputs": [
        {
          "output_type": "execute_result",
          "data": {
            "text/plain": [
              "(568454, 2)"
            ]
          },
          "metadata": {},
          "execution_count": 173
        }
      ]
    },
    {
      "cell_type": "code",
      "source": [
        "\n",
        "#as the dataframe is too big for the model to train, we are going to drop the last  15 000 rows\n",
        "# Dropping last n rows using drop\n",
        "df.drop(df.tail(500_000).index, inplace = True, axis=0)\n"
      ],
      "metadata": {
        "id": "OGaiIJCjjYT0"
      },
      "execution_count": 174,
      "outputs": []
    },
    {
      "cell_type": "code",
      "source": [
        "df.shape"
      ],
      "metadata": {
        "colab": {
          "base_uri": "https://localhost:8080/"
        },
        "id": "p54zjgKFkIrW",
        "outputId": "fb3415b5-8d6a-4370-e2f1-76542b7fce19"
      },
      "execution_count": 175,
      "outputs": [
        {
          "output_type": "execute_result",
          "data": {
            "text/plain": [
              "(68454, 2)"
            ]
          },
          "metadata": {},
          "execution_count": 175
        }
      ]
    },
    {
      "cell_type": "code",
      "execution_count": 176,
      "metadata": {
        "colab": {
          "base_uri": "https://localhost:8080/",
          "height": 295
        },
        "id": "laH169u7cQl7",
        "outputId": "9bb44c0c-3869-4894-c283-5d12d36cb7d0"
      },
      "outputs": [
        {
          "output_type": "display_data",
          "data": {
            "text/plain": [
              "<Figure size 432x288 with 1 Axes>"
            ],
            "image/png": "[encoded data removed]"
          },
          "metadata": {
            "needs_background": "light"
          }
        }
      ],
      "source": [
        "#plot a histogram to visualise the data (what the average review rating is)\n",
        "import matplotlib.pyplot as plt\n",
        "\n",
        "plt.hist(df.Score, bins=20)\n",
        "plt.title(\"Reviews Histogram\")\n",
        "plt.ylabel(\"number\")\n",
        "plt.xlabel(\" Reviews (out of 5)\")\n",
        "plt.show()"
      ]
    },
    {
      "cell_type": "code",
      "execution_count": 177,
      "metadata": {
        "id": "ldOTej0ocQl7"
      },
      "outputs": [],
      "source": [
        "# too many 5 star reviews. Let's drop 40 percent of them:\n",
        "#first sort df\n",
        "df.sort_values('Score', ascending=True, inplace=True)\n",
        "new_df = df[df['Score'].cumsum() / df['Score'].sum() < 0.5]"
      ]
    },
    {
      "cell_type": "code",
      "execution_count": 178,
      "metadata": {
        "colab": {
          "base_uri": "https://localhost:8080/",
          "height": 295
        },
        "id": "_afpvZ7HcQl8",
        "outputId": "b4e767f1-742c-4395-aa8f-48bb7c32b7f3"
      },
      "outputs": [
        {
          "output_type": "display_data",
          "data": {
            "text/plain": [
              "<Figure size 432x288 with 1 Axes>"
            ],
            "image/png": "[encoded data removed]"
          },
          "metadata": {
            "needs_background": "light"
          }
        }
      ],
      "source": [
        "plt.hist(new_df.Score, bins=20)\n",
        "plt.title(\"Reviews Histogram\")\n",
        "plt.ylabel(\"number\")\n",
        "plt.xlabel(\" Reviews (out of 5)\")\n",
        "plt.show()"
      ]
    },
    {
      "cell_type": "code",
      "execution_count": 179,
      "metadata": {
        "id": "YCPPhRpocQl8"
      },
      "outputs": [],
      "source": [
        "#randomly shuffle the dataframe as we had to order it to delete teh entries with mpore positive reviews\n",
        "shuffle_df=new_df.sample(frac=1)"
      ]
    },
    {
      "cell_type": "code",
      "execution_count": 180,
      "metadata": {
        "colab": {
          "base_uri": "https://localhost:8080/"
        },
        "id": "iPlorWL5cQl8",
        "outputId": "783419ca-104b-4840-bfff-1488347afbba"
      },
      "outputs": [
        {
          "output_type": "execute_result",
          "data": {
            "text/plain": [
              "(40055, 2)"
            ]
          },
          "metadata": {},
          "execution_count": 180
        }
      ],
      "source": [
        "shuffle_df.shape"
      ]
    },
    {
      "cell_type": "code",
      "execution_count": 185,
      "metadata": {
        "colab": {
          "base_uri": "https://localhost:8080/",
          "height": 206
        },
        "id": "0iYx62nzcQl8",
        "outputId": "fb4da853-0780-4fe9-e65e-865664e244c8"
      },
      "outputs": [
        {
          "output_type": "execute_result",
          "data": {
            "text/plain": [
              "       Score                                               Text  \\\n",
              "45757      5  I love ginger, especially the crystalized ging...   \n",
              "46462      4  I eat this daily. It isn't very sweet so I add...   \n",
              "31675      4  I have been happy with the quality of this foo...   \n",
              "1934       1  After I enptied the can, I noticed it was blac...   \n",
              "53479      5  Excellent price for a nice product.  Kashi is ...   \n",
              "\n",
              "       good/bad review  \n",
              "45757                1  \n",
              "46462                1  \n",
              "31675                1  \n",
              "1934                 0  \n",
              "53479                1  "
            ],
            "text/html": [
              "\n",
              "  <div id=\"df-9d74c3cc-81d4-4f65-a015-14399b2cc420\">\n",
              "    <div class=\"colab-df-container\">\n",
              "      <div>\n",
              "<style scoped>\n",
              "    .dataframe tbody tr th:only-of-type {\n",
              "        vertical-align: middle;\n",
              "    }\n",
              "\n",
              "    .dataframe tbody tr th {\n",
              "        vertical-align: top;\n",
              "    }\n",
              "\n",
              "    .dataframe thead th {\n",
              "        text-align: right;\n",
              "    }\n",
              "</style>\n",
              "<table border=\"1\" class=\"dataframe\">\n",
              "  <thead>\n",
              "    <tr style=\"text-align: right;\">\n",
              "      <th></th>\n",
              "      <th>Score</th>\n",
              "      <th>Text</th>\n",
              "      <th>good/bad review</th>\n",
              "    </tr>\n",
              "  </thead>\n",
              "  <tbody>\n",
              "    <tr>\n",
              "      <th>45757</th>\n",
              "      <td>5</td>\n",
              "      <td>I love ginger, especially the crystalized ging...</td>\n",
              "      <td>1</td>\n",
              "    </tr>\n",
              "    <tr>\n",
              "      <th>46462</th>\n",
              "      <td>4</td>\n",
              "      <td>I eat this daily. It isn't very sweet so I add...</td>\n",
              "      <td>1</td>\n",
              "    </tr>\n",
              "    <tr>\n",
              "      <th>31675</th>\n",
              "      <td>4</td>\n",
              "      <td>I have been happy with the quality of this foo...</td>\n",
              "      <td>1</td>\n",
              "    </tr>\n",
              "    <tr>\n",
              "      <th>1934</th>\n",
              "      <td>1</td>\n",
              "      <td>After I enptied the can, I noticed it was blac...</td>\n",
              "      <td>0</td>\n",
              "    </tr>\n",
              "    <tr>\n",
              "      <th>53479</th>\n",
              "      <td>5</td>\n",
              "      <td>Excellent price for a nice product.  Kashi is ...</td>\n",
              "      <td>1</td>\n",
              "    </tr>\n",
              "  </tbody>\n",
              "</table>\n",
              "</div>\n",
              "      <button class=\"colab-df-convert\" onclick=\"convertToInteractive('df-9d74c3cc-81d4-4f65-a015-14399b2cc420')\"\n",
              "              title=\"Convert this dataframe to an interactive table.\"\n",
              "              style=\"display:none;\">\n",
              "        \n",
              "  <svg xmlns=\"http://www.w3.org/2000/svg\" height=\"24px\"viewBox=\"0 0 24 24\"\n",
              "       width=\"24px\">\n",
              "    <path d=\"M0 0h24v24H0V0z\" fill=\"none\"/>\n",
              "    <path d=\"M18.56 5.44l.94 2.06.94-2.06 2.06-.94-2.06-.94-.94-2.06-.94 2.06-2.06.94zm-11 1L8.5 8.5l.94-2.06 2.06-.94-2.06-.94L8.5 2.5l-.94 2.06-2.06.94zm10 10l.94 2.06.94-2.06 2.06-.94-2.06-.94-.94-2.06-.94 2.06-2.06.94z\"/><path d=\"M17.41 7.96l-1.37-1.37c-.4-.4-.92-.59-1.43-.59-.52 0-1.04.2-1.43.59L10.3 9.45l-7.72 7.72c-.78.78-.78 2.05 0 2.83L4 21.41c.39.39.9.59 1.41.59.51 0 1.02-.2 1.41-.59l7.78-7.78 2.81-2.81c.8-.78.8-2.07 0-2.86zM5.41 20L4 18.59l7.72-7.72 1.47 1.35L5.41 20z\"/>\n",
              "  </svg>\n",
              "      </button>\n",
              "      \n",
              "  <style>\n",
              "    .colab-df-container {\n",
              "      display:flex;\n",
              "      flex-wrap:wrap;\n",
              "      gap: 12px;\n",
              "    }\n",
              "\n",
              "    .colab-df-convert {\n",
              "      background-color: #E8F0FE;\n",
              "      border: none;\n",
              "      border-radius: 50%;\n",
              "      cursor: pointer;\n",
              "      display: none;\n",
              "      fill: #1967D2;\n",
              "      height: 32px;\n",
              "      padding: 0 0 0 0;\n",
              "      width: 32px;\n",
              "    }\n",
              "\n",
              "    .colab-df-convert:hover {\n",
              "      background-color: #E2EBFA;\n",
              "      box-shadow: 0px 1px 2px rgba(60, 64, 67, 0.3), 0px 1px 3px 1px rgba(60, 64, 67, 0.15);\n",
              "      fill: #174EA6;\n",
              "    }\n",
              "\n",
              "    [theme=dark] .colab-df-convert {\n",
              "      background-color: #3B4455;\n",
              "      fill: #D2E3FC;\n",
              "    }\n",
              "\n",
              "    [theme=dark] .colab-df-convert:hover {\n",
              "      background-color: #434B5C;\n",
              "      box-shadow: 0px 1px 3px 1px rgba(0, 0, 0, 0.15);\n",
              "      filter: drop-shadow(0px 1px 2px rgba(0, 0, 0, 0.3));\n",
              "      fill: #FFFFFF;\n",
              "    }\n",
              "  </style>\n",
              "\n",
              "      <script>\n",
              "        const buttonEl =\n",
              "          document.querySelector('#df-9d74c3cc-81d4-4f65-a015-14399b2cc420 button.colab-df-convert');\n",
              "        buttonEl.style.display =\n",
              "          google.colab.kernel.accessAllowed ? 'block' : 'none';\n",
              "\n",
              "        async function convertToInteractive(key) {\n",
              "          const element = document.querySelector('#df-9d74c3cc-81d4-4f65-a015-14399b2cc420');\n",
              "          const dataTable =\n",
              "            await google.colab.kernel.invokeFunction('convertToInteractive',\n",
              "                                                     [key], {});\n",
              "          if (!dataTable) return;\n",
              "\n",
              "          const docLinkHtml = 'Like what you see? Visit the ' +\n",
              "            '<a target=\"_blank\" href=https://colab.research.google.com/notebooks/data_table.ipynb>data table notebook</a>'\n",
              "            + ' to learn more about interactive tables.';\n",
              "          element.innerHTML = '';\n",
              "          dataTable['output_type'] = 'display_data';\n",
              "          await google.colab.output.renderOutput(dataTable, element);\n",
              "          const docLink = document.createElement('div');\n",
              "          docLink.innerHTML = docLinkHtml;\n",
              "          element.appendChild(docLink);\n",
              "        }\n",
              "      </script>\n",
              "    </div>\n",
              "  </div>\n",
              "  "
            ]
          },
          "metadata": {},
          "execution_count": 185
        }
      ],
      "source": [
        "#can see that we have  a lot of positive reviews. \n",
        "#creating a new model\n",
        "\n",
        "shuffle_df[\"good/bad review\"] = (df.Score >= 4.0).astype(int)\n",
        "\n",
        "shuffle_df.head()"
      ]
    },
    {
      "cell_type": "markdown",
      "metadata": {
        "id": "9XrQmNaZcQl_"
      },
      "source": [
        "we have more positive reviews than negative ones. So let's resample"
      ]
    },
    {
      "cell_type": "code",
      "execution_count": 186,
      "metadata": {
        "id": "CBT3S9IJcQl_"
      },
      "outputs": [],
      "source": [
        "import numpy as np\n"
      ]
    },
    {
      "cell_type": "code",
      "execution_count": 187,
      "metadata": {
        "id": "o5aRS0DocQl_"
      },
      "outputs": [],
      "source": [
        "#split data\n",
        "train, val, test = np.split(shuffle_df.sample(frac=1), [int(0.8*len(shuffle_df)), int(0.9 * len(shuffle_df))])"
      ]
    },
    {
      "cell_type": "code",
      "execution_count": 188,
      "metadata": {
        "colab": {
          "base_uri": "https://localhost:8080/"
        },
        "id": "ZubqRtzGcQmA",
        "outputId": "fa028172-cfa3-43a5-ee2a-cdbabc02c281"
      },
      "outputs": [
        {
          "output_type": "execute_result",
          "data": {
            "text/plain": [
              "(32044, 4005, 4006)"
            ]
          },
          "metadata": {},
          "execution_count": 188
        }
      ],
      "source": [
        "len(train), len(val), len(test)"
      ]
    },
    {
      "cell_type": "markdown",
      "metadata": {
        "id": "ZEbGGmDpcQmA"
      },
      "source": [
        "Using a pretrained embedding layer"
      ]
    },
    {
      "cell_type": "markdown",
      "metadata": {
        "id": "PhK-Ju6YcQmA"
      },
      "source": [
        "tokenization: process of turning paragraphs into sentences, and sentences into words (so sentence is an arr of words (strings))\n",
        "\n",
        "text vectorization: turning text to numbers\n",
        "\n",
        "types of vectorization:\n",
        "count vectorization\n",
        "ngrams\n",
        "TFIDF"
      ]
    },
    {
      "cell_type": "code",
      "execution_count": 189,
      "metadata": {
        "id": "gFNmClWAcQmA"
      },
      "outputs": [],
      "source": [
        "import tensorflow_hub as hub\n",
        "import tensorflow as tf"
      ]
    },
    {
      "cell_type": "code",
      "execution_count": 157,
      "metadata": {
        "id": "_A0_81pwcQmA"
      },
      "outputs": [],
      "source": [
        "def df_to_dataset(data_df, shuffle=True, batch_size=10):\n",
        "    shuffle_df=data_df.copy()\n",
        "    labels=shuffle_df.pop(\"good/bad review\")\n",
        "    shuffle_df = shuffle_df[\"Text\"]\n",
        "    data_set = tf.data.Dataset.from_tensor_slices((shuffle_df, labels))#create a tf data.dataset object with data and its labels\n",
        "    if shuffle:\n",
        "        data_set=data_set.shuffle(buffer_size=len(data_df))#shuffle data\n",
        "    data_set = data_set.batch(batch_size) #split dataset into batches of 10 and repeat process for num of epochs\n",
        "    data_set = data_set.prefetch(tf.data.AUTOTUNE)\n",
        "    return data_set"
      ]
    },
    {
      "cell_type": "code",
      "execution_count": 190,
      "metadata": {
        "id": "PYD9HX2BcQmA"
      },
      "outputs": [],
      "source": [
        "train= df_to_dataset(train)\n",
        "valid= df_to_dataset(val)\n",
        "test= df_to_dataset(test)"
      ]
    },
    {
      "cell_type": "code",
      "execution_count": 191,
      "metadata": {
        "colab": {
          "base_uri": "https://localhost:8080/"
        },
        "id": "5MDN91xGcQmC",
        "outputId": "6b26c682-2de9-4a38-b1af-15c9cf05c14a"
      },
      "outputs": [
        {
          "output_type": "execute_result",
          "data": {
            "text/plain": [
              "(<tf.Tensor: shape=(10,), dtype=string, numpy=\n",
              " array([b'I don\\'t find the taste of this goat milk very pleasing if mixed to use in liquid form; I\\'ve had fresh goat milk and frankly, this does not come anywhere close even with reasonable expectations because of the powered form. It does however have its use in my kitchen in baked goods where the flavor even if slightly sour can be of use. Certain bread, pancakes and the like do very well if I add this mix instead of other milks or water. Good to have in the pantry for those \"just-in case\" days.',\n",
              "        b'If your dog goes through dog chews as fast as mine do, this is a great buy!  The chews were good quality too!',\n",
              "        b'These Bahlsen Butter Leaves are the best cookies! Not too sweet, not greasy, soooo \"just right!\" Order extra! They go fast!',\n",
              "        b\"We are vegan and so is our baby. When she turned about 14 months, I started giving her this vitamin, cutting it in half, since it's made for children 2 and up. She never had problems chewing it. I think she thinks it's candy...<br />I'm still nursing her and I give her the vitamin every other day or so, as a safety net, since she does eat a pretty good and complete diet.\",\n",
              "        b'I am definitely not a coffee connoisseur, but this stuff is bad.  It is a disappointment because I expected a Wolfgang Puck product to have more \"class.\"  This tastes artificial and it can\\'t stand alone without tons of cream and sweetener.  Will not buy again!',\n",
              "        b\"a solid bar, most bars this solid are flaky when you snap them, but not this one.  there's a tart taste,  so you know you're eating dark chocolate, and a creamy aftertaste probably because of the cocoa butter, and a longer lasting tartness on the tongue.  after a few bites i was missing maraschino cherries, and with some reflection, desiring a manhattan, with a cherry, to drink along with the chocolate.  according to the ingredients, my taste buds were on to something, chocolate liquor went into the mix.  i found the bar to be a great treat for adults.<br /><br />sugar 28g<br />total fat 22g<br />calories 330\",\n",
              "        b\"I hope this may help others whose dogs love this treat like my fussy Lhasa Apso but she's nearly 16 yrs. old and I found she suddenly developed an insatiable thirst; which then caused so many frequent late night forays to go outside to relieve herself we lost hours of sleep. Thinking it was her age we let it go for awhile then I decided to take her off the varied brands of dehydrated chicken breast (all without additives) and within a week she no longer empied bowls of water and had to go out all night long. It may react on her differently because of her age but for others who may experience this problem you may need to take your dog off this type of treat...I'm now using the Purina Chicken Carvers (I know chemicals) but she no longer is having problems..go figure... I guess dogs are all different too huh?\",\n",
              "        b'I bought two of these at a pet store. One for 100lb plus dogs. My lab is 45 lbs. She consumed it in minutes.<br />I also got a small one for my older chihuahua mix, she consumed it within minutes.<br />Long lasting they are not !<br /><br />Bull sticks are the only item I have found that last a while. However they smell bad. Even the so called orderless ones.',\n",
              "        b\"Can't get enough of these.  I think they just converted my vegetarian daughter!  Think I'll have to hide them from her.\",\n",
              "        b'There are quite a few coconut water products out there these days but this one is by far the best-tasting one I have tried.  Great balance of chocolate and coconut to be refreshing.  I add it to me post workout recovery after a strenuous long distance run or heavy weight lifting sessions.  Placebo effect or potassium effect, my recovery has been faster and I mentally feel better.  Great product!'],\n",
              "       dtype=object)>,\n",
              " <tf.Tensor: shape=(10,), dtype=int64, numpy=array([0, 1, 1, 1, 0, 1, 0, 0, 1, 1])>)"
            ]
          },
          "metadata": {},
          "execution_count": 191
        }
      ],
      "source": [
        "list(train)[0]  #tensor object converted to a list"
      ]
    },
    {
      "cell_type": "code",
      "execution_count": 192,
      "metadata": {
        "id": "D2MIFzB4cQmC"
      },
      "outputs": [],
      "source": [
        "embedding = \"https://tfhub.dev/google/nnlm-en-dim50/2\"  #Token based text embedding trained on English Google News 7B corpus.\n",
        "hub_layer = hub.KerasLayer(embedding, dtype=tf.string, trainable=True)\n"
      ]
    },
    {
      "cell_type": "code",
      "execution_count": 193,
      "metadata": {
        "colab": {
          "base_uri": "https://localhost:8080/"
        },
        "id": "gEWjVwCWcQmC",
        "outputId": "9b7ae0b7-d0e2-4d5d-95ab-01de4a69dcf1"
      },
      "outputs": [
        {
          "output_type": "execute_result",
          "data": {
            "text/plain": [
              "<tf.Tensor: shape=(10, 50), dtype=float32, numpy=\n",
              "array([[ 5.53351760e-01,  5.43046445e-02, -5.08965738e-02,\n",
              "         4.92583364e-01,  1.00790672e-01, -9.12346393e-02,\n",
              "         1.45510837e-01,  1.55478716e-01, -3.10386449e-01,\n",
              "         2.91849434e-01,  4.09193002e-02, -1.03915967e-01,\n",
              "        -2.00604144e-02, -2.13273223e-02, -1.99448466e-02,\n",
              "        -9.62169468e-03, -1.64037123e-01,  4.80220243e-02,\n",
              "         8.82317424e-02, -3.94104213e-01,  1.87394768e-02,\n",
              "        -2.41095588e-01,  2.38905266e-01, -5.54125607e-02,\n",
              "         7.74192438e-03,  2.07317844e-01, -5.03677964e-01,\n",
              "         7.43443742e-02, -3.59708406e-02, -3.46335173e-01,\n",
              "        -3.46080780e-01,  1.92298368e-01,  3.72445524e-01,\n",
              "        -2.43090034e-01, -4.67090070e-01,  7.40685835e-02,\n",
              "         1.49312228e-01, -8.89658481e-02,  1.37232199e-01,\n",
              "        -3.75124335e-01, -1.90548580e-02, -9.95747745e-02,\n",
              "        -1.50354385e-01,  7.08751306e-02,  1.24717526e-01,\n",
              "        -3.49844754e-01, -1.48363337e-01, -2.64286280e-01,\n",
              "         1.34004295e-01,  3.17412876e-02],\n",
              "       [ 7.68329620e-01, -2.29251653e-01,  1.36526525e-01,\n",
              "         2.12930396e-01,  1.32971451e-01, -1.51266962e-01,\n",
              "         1.38798626e-02,  2.43596837e-01, -3.40814263e-01,\n",
              "         3.86334747e-01,  2.05956593e-01,  6.36955276e-02,\n",
              "        -1.66329592e-02,  1.89131752e-01, -9.56984684e-02,\n",
              "        -2.38077894e-01, -9.73556936e-02,  1.33364737e-01,\n",
              "        -1.54493421e-01, -4.20110464e-01,  7.75142089e-02,\n",
              "        -4.72284883e-01, -1.22724846e-02,  9.62695852e-02,\n",
              "        -5.05936086e-01, -9.91796702e-02, -3.87457907e-01,\n",
              "         2.58109659e-01,  1.21039592e-01, -3.06441039e-01,\n",
              "        -1.83599014e-02,  3.01305264e-01,  3.21433783e-01,\n",
              "        -3.60265195e-01, -7.47661740e-02,  3.84492666e-01,\n",
              "        -7.32792616e-02,  1.33063242e-01,  1.42214552e-01,\n",
              "        -3.00712854e-01, -1.85375065e-02, -1.30599201e-01,\n",
              "        -1.73700154e-02,  8.46111551e-02, -2.35724479e-01,\n",
              "         7.06608817e-02, -2.48531818e-01,  1.04073793e-01,\n",
              "        -1.48308635e-01,  6.29819781e-02],\n",
              "       [ 5.72616816e-01, -1.13288753e-01, -1.94286872e-02,\n",
              "         2.51446031e-02,  3.89750414e-02, -2.24482432e-01,\n",
              "         2.06664026e-01,  4.16451901e-01, -1.82940692e-01,\n",
              "         1.25567526e-01,  1.43118933e-01,  4.75778580e-02,\n",
              "        -8.03738311e-02,  9.39653143e-02, -1.38222193e-02,\n",
              "        -3.19741160e-01,  7.99209103e-02,  2.54496366e-01,\n",
              "         2.04875678e-01, -3.66202027e-01, -2.82840878e-01,\n",
              "        -5.25468886e-01,  1.04456805e-01,  1.39926866e-01,\n",
              "        -2.29851201e-01,  2.48989940e-01, -4.71500367e-01,\n",
              "         2.12014347e-01,  3.21687132e-01, -3.71919036e-01,\n",
              "        -2.57769138e-01,  3.76981974e-01,  3.16777259e-01,\n",
              "        -5.13877630e-01, -2.98411697e-02,  2.11599037e-01,\n",
              "        -1.54923633e-01, -2.92470865e-02,  1.04046557e-02,\n",
              "        -2.64862746e-01, -1.31646499e-01, -1.28199175e-01,\n",
              "        -1.14291348e-01,  2.20373720e-01, -8.87305886e-02,\n",
              "        -7.91049227e-02, -2.16275686e-03, -1.45540178e-01,\n",
              "         7.85072371e-02, -1.09613528e-02],\n",
              "       [ 7.91988552e-01, -3.02538782e-01, -1.85867921e-01,\n",
              "         6.75158739e-01,  1.31086037e-01, -5.05182147e-01,\n",
              "         7.51319006e-02,  8.86007100e-02, -3.37062120e-01,\n",
              "        -1.49806694e-03,  1.09045468e-01, -5.42335436e-02,\n",
              "        -1.39736816e-01, -9.82847437e-02, -2.19934419e-01,\n",
              "         9.70761031e-02,  2.45116800e-02,  4.79411930e-01,\n",
              "         8.14549103e-02, -6.62400544e-01,  6.29410073e-02,\n",
              "        -2.08350778e-01,  5.80008447e-01,  1.51911274e-01,\n",
              "        -6.89719021e-01, -2.72143900e-01, -3.88869762e-01,\n",
              "         5.22683561e-01, -1.83321983e-01, -2.48843104e-01,\n",
              "         2.76034504e-01,  4.36702549e-01,  3.35818321e-01,\n",
              "        -5.78638852e-01,  1.10858083e-02,  6.73324943e-01,\n",
              "         2.07529403e-02,  1.22856542e-01,  9.40994844e-02,\n",
              "        -8.95892531e-02,  3.07531744e-01,  6.31844252e-02,\n",
              "        -9.37942564e-02,  3.02523553e-01, -1.25160888e-01,\n",
              "        -1.56861097e-01, -3.28001708e-01, -3.67449343e-01,\n",
              "        -3.37752774e-02,  1.88571200e-01],\n",
              "       [ 6.13232315e-01, -2.78459102e-01, -1.14026695e-01,\n",
              "         3.12052816e-01, -2.34314520e-02, -2.02844545e-01,\n",
              "         7.67274573e-02,  2.92074561e-01, -4.81427610e-01,\n",
              "         3.39418113e-01,  8.03670064e-02,  3.28282528e-02,\n",
              "        -1.70156330e-01, -1.11208573e-01, -1.78027853e-01,\n",
              "        -1.61232986e-02, -6.15752339e-02,  9.87224579e-02,\n",
              "         3.04194927e-01, -5.33630013e-01, -9.76920947e-02,\n",
              "        -1.78398654e-01,  3.59112144e-01, -1.05125688e-01,\n",
              "        -5.13113201e-01,  2.33070731e-01, -6.34481609e-01,\n",
              "         1.15798682e-01,  1.26679629e-01, -1.01953648e-01,\n",
              "        -1.45515218e-01,  3.57117116e-01,  3.39491278e-01,\n",
              "        -3.76673758e-01,  1.00584961e-01,  2.71556407e-01,\n",
              "        -7.78969824e-02,  1.48804039e-01,  4.30047847e-02,\n",
              "        -1.88998953e-01, -5.56021109e-02,  2.21264049e-01,\n",
              "         1.59307256e-01, -2.50861049e-02, -8.98539424e-02,\n",
              "         1.21334650e-01, -1.04053609e-01, -1.77869163e-02,\n",
              "         1.44270822e-01,  7.42593780e-02],\n",
              "       [ 5.16882002e-01,  1.39003739e-01,  1.14501286e-02,\n",
              "         2.17296198e-01, -2.22548167e-03, -3.44201863e-01,\n",
              "         1.05503142e-01,  1.19890220e-01, -3.53209943e-01,\n",
              "         4.58919778e-02,  5.62200919e-02, -1.22239394e-02,\n",
              "         2.54308991e-02,  1.12079950e-02, -2.51765866e-02,\n",
              "         1.16650134e-01,  6.24364577e-02,  3.61056887e-02,\n",
              "         3.29475313e-01, -5.29234588e-01, -1.17747478e-01,\n",
              "        -2.35392362e-01,  8.40605199e-02,  9.35515389e-02,\n",
              "        -2.30844006e-01,  3.20311904e-01, -3.25186461e-01,\n",
              "         1.45568937e-01, -8.70490097e-04, -7.98896775e-02,\n",
              "        -6.97190836e-02,  3.73519391e-01,  1.51156411e-01,\n",
              "        -2.72051126e-01,  5.40642850e-02,  4.70481157e-01,\n",
              "         3.43189053e-02, -1.78133667e-01,  2.15337470e-01,\n",
              "        -7.81404525e-02,  5.74055873e-02,  1.59965977e-01,\n",
              "        -1.32648826e-01,  2.28963509e-01, -4.01558459e-01,\n",
              "         4.24646176e-02,  1.83831677e-02, -2.92732269e-01,\n",
              "        -9.69910100e-02,  5.74904010e-02],\n",
              "       [ 8.17437232e-01, -3.79762538e-02,  5.83710186e-02,\n",
              "         4.44474787e-01,  1.20073594e-01, -3.21788996e-01,\n",
              "         1.27729684e-01,  6.98903948e-02, -3.89356226e-01,\n",
              "         1.32724652e-02,  2.06494674e-01, -3.36624011e-02,\n",
              "        -7.29787797e-02,  8.65929350e-02, -1.91567153e-01,\n",
              "        -1.25849962e-01,  1.49861529e-01,  8.90180692e-02,\n",
              "         2.84356680e-02, -4.03091639e-01,  1.48734421e-01,\n",
              "        -2.88819462e-01, -1.38009191e-01, -1.11824423e-01,\n",
              "        -3.18611741e-01, -3.23143341e-02, -3.11047077e-01,\n",
              "         1.54877350e-01,  5.09236529e-02, -4.19338280e-03,\n",
              "         1.52686030e-01,  4.43801135e-01,  5.77173650e-01,\n",
              "        -1.83130786e-01, -8.12285617e-02,  2.23488107e-01,\n",
              "         5.60669862e-02, -4.98419255e-02,  1.82906896e-01,\n",
              "         1.08919121e-01,  8.33535567e-02, -1.87495574e-02,\n",
              "        -1.68973833e-01,  2.10658625e-01, -2.51223654e-01,\n",
              "         1.08694687e-01, -2.75144298e-02, -4.21488732e-01,\n",
              "        -1.48126379e-01,  1.41948074e-01],\n",
              "       [ 7.59668589e-01, -7.85692111e-02, -9.39872935e-02,\n",
              "         5.96411526e-01,  7.33044371e-02, -1.44151419e-01,\n",
              "         1.70471203e-02,  3.03707540e-01, -4.20219570e-01,\n",
              "         4.04445171e-01,  4.08722237e-02,  1.23892531e-01,\n",
              "         4.82961582e-03,  1.99585736e-01, -1.17180213e-01,\n",
              "        -3.28682452e-01, -1.25976503e-01,  4.15151030e-01,\n",
              "        -2.11588472e-01, -5.40725052e-01,  5.96433803e-02,\n",
              "        -5.89295924e-01,  3.05002369e-03,  1.27892926e-01,\n",
              "        -2.73656368e-01,  1.40772879e-01, -3.39631319e-01,\n",
              "         1.62992895e-01, -2.81878978e-01, -1.00654393e-01,\n",
              "         3.90043378e-01,  4.13968801e-01,  4.33907777e-01,\n",
              "        -4.85658407e-01,  2.08888739e-01,  2.53980756e-01,\n",
              "         3.24676954e-03,  1.25265822e-01,  2.55310208e-01,\n",
              "        -4.73831028e-01,  9.78794247e-02, -5.92192300e-02,\n",
              "         8.20051413e-03,  8.61244351e-02, -4.30415392e-01,\n",
              "         1.97823625e-02, -1.00733638e-01, -1.88661397e-01,\n",
              "        -1.62026986e-01,  4.33427244e-02],\n",
              "       [ 1.12294205e-01, -3.52078788e-02, -2.40206301e-01,\n",
              "         3.05402696e-01,  7.76261389e-02, -1.14739574e-01,\n",
              "         3.74108732e-01,  7.23910518e-03, -7.82350674e-02,\n",
              "         3.41617882e-01,  3.44248503e-01,  1.35997638e-01,\n",
              "        -1.44239455e-01, -1.39919028e-01, -9.96706262e-02,\n",
              "         3.16447973e-01,  1.60736457e-01, -1.60969108e-01,\n",
              "         5.88447507e-03, -2.76899934e-01, -3.19732219e-01,\n",
              "        -4.70942147e-02, -5.77098243e-02, -7.38461390e-02,\n",
              "        -2.69535363e-01,  1.31285056e-01, -3.07399243e-01,\n",
              "         1.13448732e-01, -1.63224060e-02, -3.79919261e-02,\n",
              "         1.49107963e-01, -9.51464176e-02,  2.75885373e-01,\n",
              "        -4.51713979e-01,  1.18633337e-01,  1.75280105e-02,\n",
              "        -1.28163114e-01, -7.93838948e-02, -1.05997585e-01,\n",
              "         7.33078048e-02,  3.50291803e-02, -1.55324474e-01,\n",
              "        -2.06564620e-01,  4.55516949e-02,  2.65147444e-02,\n",
              "         3.98683175e-02,  2.92161498e-02, -2.02361718e-01,\n",
              "         2.23333836e-01,  2.06896305e-01],\n",
              "       [ 6.57115161e-01, -9.03839469e-02,  1.21218279e-01,\n",
              "         4.00930762e-01,  1.76075235e-01, -4.31764960e-01,\n",
              "         3.46777856e-01,  8.21887851e-02, -3.46863896e-01,\n",
              "         3.63116443e-01, -5.58817871e-02,  4.00363132e-02,\n",
              "        -2.26140290e-01,  7.05793798e-02, -1.20362425e-02,\n",
              "        -1.28113896e-01,  2.21848432e-02,  3.16756427e-01,\n",
              "         1.48795522e-03, -5.95961809e-01, -1.42576128e-01,\n",
              "        -4.41721171e-01,  1.36941090e-01,  3.78223181e-01,\n",
              "        -5.56859612e-01,  9.17265937e-02, -5.74397385e-01,\n",
              "         3.46756071e-01,  7.79054537e-02, -4.86071527e-01,\n",
              "         2.95466512e-01,  1.76923901e-01,  7.15484083e-01,\n",
              "        -7.27243900e-01, -2.32752273e-03,  3.64272028e-01,\n",
              "        -3.39406431e-01, -6.98359236e-02,  3.68852377e-01,\n",
              "        -3.82288754e-01, -5.34664374e-04,  3.45444344e-02,\n",
              "        -3.45004052e-02,  4.74735983e-02, -1.73977211e-01,\n",
              "         1.28254488e-01, -2.29890030e-02, -7.64832869e-02,\n",
              "        -1.82582483e-01,  3.04812402e-01]], dtype=float32)>"
            ]
          },
          "metadata": {},
          "execution_count": 193
        }
      ],
      "source": [
        "hub_layer(list(train)[0][0]) #sample of what the encoding layer looks like"
      ]
    },
    {
      "cell_type": "code",
      "execution_count": 199,
      "metadata": {
        "id": "5f9JW1_WcQmC"
      },
      "outputs": [],
      "source": [
        "callback = [tf.keras.callbacks.EarlyStopping(monitor='val_loss', patience=1),\n",
        "             tf.keras.callbacks.ModelCheckpoint(filepath='best_model.h5', monitor='val_loss', save_best_only=True)]"
      ]
    },
    {
      "cell_type": "code",
      "execution_count": 200,
      "metadata": {
        "id": "pAPRJfFicQmC"
      },
      "outputs": [],
      "source": [
        "model = tf.keras.Sequential()\n",
        "model.add(hub_layer) #embeds our words\n",
        "model.add(tf.keras.layers.Dense(16, activation=\"relu\")) #dense takes input from every preceding neuron\n",
        "model.add(tf.keras.layers.Dense(16, activation=\"relu\"))       \n",
        "model.add(tf.keras.layers.Dense(1, activation=\"sigmoid\")) #useful for binary classification as sigmoid maps our feature to a probability"
      ]
    },
    {
      "cell_type": "code",
      "execution_count": 201,
      "metadata": {
        "id": "Awp2o4uucQmC"
      },
      "outputs": [],
      "source": [
        "model.compile(optimizer=tf.keras.optimizers.Adam(learning_rate=0.001), \n",
        "             loss = tf.keras.losses.BinaryCrossentropy(), #binarycross entropy as binary classification problem\n",
        "                metrics=[\"accuracy\"])"
      ]
    },
    {
      "cell_type": "code",
      "execution_count": null,
      "metadata": {
        "colab": {
          "base_uri": "https://localhost:8080/"
        },
        "id": "RnUD7kxtcQmD",
        "outputId": "501ae5da-66d2-4a9b-ef2d-a37e7d5599ce"
      },
      "outputs": [
        {
          "output_type": "stream",
          "name": "stdout",
          "text": [
            "1395/3205 [============>.................] - ETA: 2:08 - loss: 0.7314 - accuracy: 0.4058"
          ]
        }
      ],
      "source": [
        "model.evaluate(train) #evaluate performance of model without training it first\n",
        "#accuracy is around 49%, loss is 0.69"
      ]
    },
    {
      "cell_type": "code",
      "execution_count": 198,
      "metadata": {
        "colab": {
          "base_uri": "https://localhost:8080/",
          "height": 495
        },
        "id": "S_4zKoX3cQmE",
        "outputId": "86910841-959f-4ff0-bfdb-ba3772ccff3a"
      },
      "outputs": [
        {
          "output_type": "stream",
          "name": "stdout",
          "text": [
            "Epoch 1/10\n",
            "3205/3205 [==============================] - 1671s 521ms/step - loss: 0.4345 - accuracy: 0.7970 - val_loss: 0.3863 - val_accuracy: 0.8317\n",
            "Epoch 2/10\n",
            "3205/3205 [==============================] - 1839s 573ms/step - loss: 0.2799 - accuracy: 0.8812 - val_loss: 0.3940 - val_accuracy: 0.8285\n",
            "Epoch 3/10\n",
            "3205/3205 [==============================] - 1730s 540ms/step - loss: 0.1947 - accuracy: 0.9221 - val_loss: 0.4964 - val_accuracy: 0.8172\n",
            "Epoch 4/10\n",
            "1455/3205 [============>.................] - ETA: 14:41 - loss: 0.1084 - accuracy: 0.9605"
          ]
        },
        {
          "output_type": "error",
          "ename": "KeyboardInterrupt",
          "evalue": "ignored",
          "traceback": [
            "\u001b[0;31m---------------------------------------------------------------------------\u001b[0m",
            "\u001b[0;31mKeyboardInterrupt\u001b[0m                         Traceback (most recent call last)",
            "\u001b[0;32m<ipython-input-198-7c4994571ab3>\u001b[0m in \u001b[0;36m<module>\u001b[0;34m\u001b[0m\n\u001b[0;32m----> 1\u001b[0;31m \u001b[0mhistory\u001b[0m\u001b[0;34m=\u001b[0m\u001b[0mmodel\u001b[0m\u001b[0;34m.\u001b[0m\u001b[0mfit\u001b[0m\u001b[0;34m(\u001b[0m\u001b[0mtrain\u001b[0m\u001b[0;34m,\u001b[0m \u001b[0mepochs\u001b[0m\u001b[0;34m=\u001b[0m \u001b[0;36m10\u001b[0m\u001b[0;34m,\u001b[0m \u001b[0mvalidation_data\u001b[0m\u001b[0;34m=\u001b[0m\u001b[0mvalid\u001b[0m\u001b[0;34m,\u001b[0m \u001b[0mcallbacks\u001b[0m\u001b[0;34m=\u001b[0m\u001b[0;34m[\u001b[0m\u001b[0mcallback\u001b[0m\u001b[0;34m]\u001b[0m \u001b[0;34m)\u001b[0m\u001b[0;34m\u001b[0m\u001b[0;34m\u001b[0m\u001b[0m\n\u001b[0m",
            "\u001b[0;32m/usr/local/lib/python3.7/dist-packages/keras/utils/traceback_utils.py\u001b[0m in \u001b[0;36merror_handler\u001b[0;34m(*args, **kwargs)\u001b[0m\n\u001b[1;32m     62\u001b[0m     \u001b[0mfiltered_tb\u001b[0m \u001b[0;34m=\u001b[0m \u001b[0;32mNone\u001b[0m\u001b[0;34m\u001b[0m\u001b[0;34m\u001b[0m\u001b[0m\n\u001b[1;32m     63\u001b[0m     \u001b[0;32mtry\u001b[0m\u001b[0;34m:\u001b[0m\u001b[0;34m\u001b[0m\u001b[0;34m\u001b[0m\u001b[0m\n\u001b[0;32m---> 64\u001b[0;31m       \u001b[0;32mreturn\u001b[0m \u001b[0mfn\u001b[0m\u001b[0;34m(\u001b[0m\u001b[0;34m*\u001b[0m\u001b[0margs\u001b[0m\u001b[0;34m,\u001b[0m \u001b[0;34m**\u001b[0m\u001b[0mkwargs\u001b[0m\u001b[0;34m)\u001b[0m\u001b[0;34m\u001b[0m\u001b[0;34m\u001b[0m\u001b[0m\n\u001b[0m\u001b[1;32m     65\u001b[0m     \u001b[0;32mexcept\u001b[0m \u001b[0mException\u001b[0m \u001b[0;32mas\u001b[0m \u001b[0me\u001b[0m\u001b[0;34m:\u001b[0m  \u001b[0;31m# pylint: disable=broad-except\u001b[0m\u001b[0;34m\u001b[0m\u001b[0;34m\u001b[0m\u001b[0m\n\u001b[1;32m     66\u001b[0m       \u001b[0mfiltered_tb\u001b[0m \u001b[0;34m=\u001b[0m \u001b[0m_process_traceback_frames\u001b[0m\u001b[0;34m(\u001b[0m\u001b[0me\u001b[0m\u001b[0;34m.\u001b[0m\u001b[0m__traceback__\u001b[0m\u001b[0;34m)\u001b[0m\u001b[0;34m\u001b[0m\u001b[0;34m\u001b[0m\u001b[0m\n",
            "\u001b[0;32m/usr/local/lib/python3.7/dist-packages/keras/engine/training.py\u001b[0m in \u001b[0;36mfit\u001b[0;34m(self, x, y, batch_size, epochs, verbose, callbacks, validation_split, validation_data, shuffle, class_weight, sample_weight, initial_epoch, steps_per_epoch, validation_steps, validation_batch_size, validation_freq, max_queue_size, workers, use_multiprocessing)\u001b[0m\n\u001b[1;32m   1407\u001b[0m                 _r=1):\n\u001b[1;32m   1408\u001b[0m               \u001b[0mcallbacks\u001b[0m\u001b[0;34m.\u001b[0m\u001b[0mon_train_batch_begin\u001b[0m\u001b[0;34m(\u001b[0m\u001b[0mstep\u001b[0m\u001b[0;34m)\u001b[0m\u001b[0;34m\u001b[0m\u001b[0;34m\u001b[0m\u001b[0m\n\u001b[0;32m-> 1409\u001b[0;31m               \u001b[0mtmp_logs\u001b[0m \u001b[0;34m=\u001b[0m \u001b[0mself\u001b[0m\u001b[0;34m.\u001b[0m\u001b[0mtrain_function\u001b[0m\u001b[0;34m(\u001b[0m\u001b[0miterator\u001b[0m\u001b[0;34m)\u001b[0m\u001b[0;34m\u001b[0m\u001b[0;34m\u001b[0m\u001b[0m\n\u001b[0m\u001b[1;32m   1410\u001b[0m               \u001b[0;32mif\u001b[0m \u001b[0mdata_handler\u001b[0m\u001b[0;34m.\u001b[0m\u001b[0mshould_sync\u001b[0m\u001b[0;34m:\u001b[0m\u001b[0;34m\u001b[0m\u001b[0;34m\u001b[0m\u001b[0m\n\u001b[1;32m   1411\u001b[0m                 \u001b[0mcontext\u001b[0m\u001b[0;34m.\u001b[0m\u001b[0masync_wait\u001b[0m\u001b[0;34m(\u001b[0m\u001b[0;34m)\u001b[0m\u001b[0;34m\u001b[0m\u001b[0;34m\u001b[0m\u001b[0m\n",
            "\u001b[0;32m/usr/local/lib/python3.7/dist-packages/tensorflow/python/util/traceback_utils.py\u001b[0m in \u001b[0;36merror_handler\u001b[0;34m(*args, **kwargs)\u001b[0m\n\u001b[1;32m    148\u001b[0m     \u001b[0mfiltered_tb\u001b[0m \u001b[0;34m=\u001b[0m \u001b[0;32mNone\u001b[0m\u001b[0;34m\u001b[0m\u001b[0;34m\u001b[0m\u001b[0m\n\u001b[1;32m    149\u001b[0m     \u001b[0;32mtry\u001b[0m\u001b[0;34m:\u001b[0m\u001b[0;34m\u001b[0m\u001b[0;34m\u001b[0m\u001b[0m\n\u001b[0;32m--> 150\u001b[0;31m       \u001b[0;32mreturn\u001b[0m \u001b[0mfn\u001b[0m\u001b[0;34m(\u001b[0m\u001b[0;34m*\u001b[0m\u001b[0margs\u001b[0m\u001b[0;34m,\u001b[0m \u001b[0;34m**\u001b[0m\u001b[0mkwargs\u001b[0m\u001b[0;34m)\u001b[0m\u001b[0;34m\u001b[0m\u001b[0;34m\u001b[0m\u001b[0m\n\u001b[0m\u001b[1;32m    151\u001b[0m     \u001b[0;32mexcept\u001b[0m \u001b[0mException\u001b[0m \u001b[0;32mas\u001b[0m \u001b[0me\u001b[0m\u001b[0;34m:\u001b[0m\u001b[0;34m\u001b[0m\u001b[0;34m\u001b[0m\u001b[0m\n\u001b[1;32m    152\u001b[0m       \u001b[0mfiltered_tb\u001b[0m \u001b[0;34m=\u001b[0m \u001b[0m_process_traceback_frames\u001b[0m\u001b[0;34m(\u001b[0m\u001b[0me\u001b[0m\u001b[0;34m.\u001b[0m\u001b[0m__traceback__\u001b[0m\u001b[0;34m)\u001b[0m\u001b[0;34m\u001b[0m\u001b[0;34m\u001b[0m\u001b[0m\n",
            "\u001b[0;32m/usr/local/lib/python3.7/dist-packages/tensorflow/python/eager/def_function.py\u001b[0m in \u001b[0;36m__call__\u001b[0;34m(self, *args, **kwds)\u001b[0m\n\u001b[1;32m    913\u001b[0m \u001b[0;34m\u001b[0m\u001b[0m\n\u001b[1;32m    914\u001b[0m       \u001b[0;32mwith\u001b[0m \u001b[0mOptionalXlaContext\u001b[0m\u001b[0;34m(\u001b[0m\u001b[0mself\u001b[0m\u001b[0;34m.\u001b[0m\u001b[0m_jit_compile\u001b[0m\u001b[0;34m)\u001b[0m\u001b[0;34m:\u001b[0m\u001b[0;34m\u001b[0m\u001b[0;34m\u001b[0m\u001b[0m\n\u001b[0;32m--> 915\u001b[0;31m         \u001b[0mresult\u001b[0m \u001b[0;34m=\u001b[0m \u001b[0mself\u001b[0m\u001b[0;34m.\u001b[0m\u001b[0m_call\u001b[0m\u001b[0;34m(\u001b[0m\u001b[0;34m*\u001b[0m\u001b[0margs\u001b[0m\u001b[0;34m,\u001b[0m \u001b[0;34m**\u001b[0m\u001b[0mkwds\u001b[0m\u001b[0;34m)\u001b[0m\u001b[0;34m\u001b[0m\u001b[0;34m\u001b[0m\u001b[0m\n\u001b[0m\u001b[1;32m    916\u001b[0m \u001b[0;34m\u001b[0m\u001b[0m\n\u001b[1;32m    917\u001b[0m       \u001b[0mnew_tracing_count\u001b[0m \u001b[0;34m=\u001b[0m \u001b[0mself\u001b[0m\u001b[0;34m.\u001b[0m\u001b[0mexperimental_get_tracing_count\u001b[0m\u001b[0;34m(\u001b[0m\u001b[0;34m)\u001b[0m\u001b[0;34m\u001b[0m\u001b[0;34m\u001b[0m\u001b[0m\n",
            "\u001b[0;32m/usr/local/lib/python3.7/dist-packages/tensorflow/python/eager/def_function.py\u001b[0m in \u001b[0;36m_call\u001b[0;34m(self, *args, **kwds)\u001b[0m\n\u001b[1;32m    945\u001b[0m       \u001b[0;31m# In this case we have created variables on the first call, so we run the\u001b[0m\u001b[0;34m\u001b[0m\u001b[0;34m\u001b[0m\u001b[0;34m\u001b[0m\u001b[0m\n\u001b[1;32m    946\u001b[0m       \u001b[0;31m# defunned version which is guaranteed to never create variables.\u001b[0m\u001b[0;34m\u001b[0m\u001b[0;34m\u001b[0m\u001b[0;34m\u001b[0m\u001b[0m\n\u001b[0;32m--> 947\u001b[0;31m       \u001b[0;32mreturn\u001b[0m \u001b[0mself\u001b[0m\u001b[0;34m.\u001b[0m\u001b[0m_stateless_fn\u001b[0m\u001b[0;34m(\u001b[0m\u001b[0;34m*\u001b[0m\u001b[0margs\u001b[0m\u001b[0;34m,\u001b[0m \u001b[0;34m**\u001b[0m\u001b[0mkwds\u001b[0m\u001b[0;34m)\u001b[0m  \u001b[0;31m# pylint: disable=not-callable\u001b[0m\u001b[0;34m\u001b[0m\u001b[0;34m\u001b[0m\u001b[0m\n\u001b[0m\u001b[1;32m    948\u001b[0m     \u001b[0;32melif\u001b[0m \u001b[0mself\u001b[0m\u001b[0;34m.\u001b[0m\u001b[0m_stateful_fn\u001b[0m \u001b[0;32mis\u001b[0m \u001b[0;32mnot\u001b[0m \u001b[0;32mNone\u001b[0m\u001b[0;34m:\u001b[0m\u001b[0;34m\u001b[0m\u001b[0;34m\u001b[0m\u001b[0m\n\u001b[1;32m    949\u001b[0m       \u001b[0;31m# Release the lock early so that multiple threads can perform the call\u001b[0m\u001b[0;34m\u001b[0m\u001b[0;34m\u001b[0m\u001b[0;34m\u001b[0m\u001b[0m\n",
            "\u001b[0;32m/usr/local/lib/python3.7/dist-packages/tensorflow/python/eager/function.py\u001b[0m in \u001b[0;36m__call__\u001b[0;34m(self, *args, **kwargs)\u001b[0m\n\u001b[1;32m   2452\u001b[0m        filtered_flat_args) = self._maybe_define_function(args, kwargs)\n\u001b[1;32m   2453\u001b[0m     return graph_function._call_flat(\n\u001b[0;32m-> 2454\u001b[0;31m         filtered_flat_args, captured_inputs=graph_function.captured_inputs)  # pylint: disable=protected-access\n\u001b[0m\u001b[1;32m   2455\u001b[0m \u001b[0;34m\u001b[0m\u001b[0m\n\u001b[1;32m   2456\u001b[0m   \u001b[0;34m@\u001b[0m\u001b[0mproperty\u001b[0m\u001b[0;34m\u001b[0m\u001b[0;34m\u001b[0m\u001b[0m\n",
            "\u001b[0;32m/usr/local/lib/python3.7/dist-packages/tensorflow/python/eager/function.py\u001b[0m in \u001b[0;36m_call_flat\u001b[0;34m(self, args, captured_inputs, cancellation_manager)\u001b[0m\n\u001b[1;32m   1859\u001b[0m       \u001b[0;31m# No tape is watching; skip to running the function.\u001b[0m\u001b[0;34m\u001b[0m\u001b[0;34m\u001b[0m\u001b[0;34m\u001b[0m\u001b[0m\n\u001b[1;32m   1860\u001b[0m       return self._build_call_outputs(self._inference_function.call(\n\u001b[0;32m-> 1861\u001b[0;31m           ctx, args, cancellation_manager=cancellation_manager))\n\u001b[0m\u001b[1;32m   1862\u001b[0m     forward_backward = self._select_forward_and_backward_functions(\n\u001b[1;32m   1863\u001b[0m         \u001b[0margs\u001b[0m\u001b[0;34m,\u001b[0m\u001b[0;34m\u001b[0m\u001b[0;34m\u001b[0m\u001b[0m\n",
            "\u001b[0;32m/usr/local/lib/python3.7/dist-packages/tensorflow/python/eager/function.py\u001b[0m in \u001b[0;36mcall\u001b[0;34m(self, ctx, args, cancellation_manager)\u001b[0m\n\u001b[1;32m    500\u001b[0m               \u001b[0minputs\u001b[0m\u001b[0;34m=\u001b[0m\u001b[0margs\u001b[0m\u001b[0;34m,\u001b[0m\u001b[0;34m\u001b[0m\u001b[0;34m\u001b[0m\u001b[0m\n\u001b[1;32m    501\u001b[0m               \u001b[0mattrs\u001b[0m\u001b[0;34m=\u001b[0m\u001b[0mattrs\u001b[0m\u001b[0;34m,\u001b[0m\u001b[0;34m\u001b[0m\u001b[0;34m\u001b[0m\u001b[0m\n\u001b[0;32m--> 502\u001b[0;31m               ctx=ctx)\n\u001b[0m\u001b[1;32m    503\u001b[0m         \u001b[0;32melse\u001b[0m\u001b[0;34m:\u001b[0m\u001b[0;34m\u001b[0m\u001b[0;34m\u001b[0m\u001b[0m\n\u001b[1;32m    504\u001b[0m           outputs = execute.execute_with_cancellation(\n",
            "\u001b[0;32m/usr/local/lib/python3.7/dist-packages/tensorflow/python/eager/execute.py\u001b[0m in \u001b[0;36mquick_execute\u001b[0;34m(op_name, num_outputs, inputs, attrs, ctx, name)\u001b[0m\n\u001b[1;32m     53\u001b[0m     \u001b[0mctx\u001b[0m\u001b[0;34m.\u001b[0m\u001b[0mensure_initialized\u001b[0m\u001b[0;34m(\u001b[0m\u001b[0;34m)\u001b[0m\u001b[0;34m\u001b[0m\u001b[0;34m\u001b[0m\u001b[0m\n\u001b[1;32m     54\u001b[0m     tensors = pywrap_tfe.TFE_Py_Execute(ctx._handle, device_name, op_name,\n\u001b[0;32m---> 55\u001b[0;31m                                         inputs, attrs, num_outputs)\n\u001b[0m\u001b[1;32m     56\u001b[0m   \u001b[0;32mexcept\u001b[0m \u001b[0mcore\u001b[0m\u001b[0;34m.\u001b[0m\u001b[0m_NotOkStatusException\u001b[0m \u001b[0;32mas\u001b[0m \u001b[0me\u001b[0m\u001b[0;34m:\u001b[0m\u001b[0;34m\u001b[0m\u001b[0;34m\u001b[0m\u001b[0m\n\u001b[1;32m     57\u001b[0m     \u001b[0;32mif\u001b[0m \u001b[0mname\u001b[0m \u001b[0;32mis\u001b[0m \u001b[0;32mnot\u001b[0m \u001b[0;32mNone\u001b[0m\u001b[0;34m:\u001b[0m\u001b[0;34m\u001b[0m\u001b[0;34m\u001b[0m\u001b[0m\n",
            "\u001b[0;31mKeyboardInterrupt\u001b[0m: "
          ]
        }
      ],
      "source": [
        "history=model.fit(train, epochs= 10, validation_data=valid, callbacks=[callback] )"
      ]
    },
    {
      "cell_type": "code",
      "source": [
        "#create a plot of the training accuracy and validation accuracy (both should increase)\n",
        "plt.plot(history.history[\"accuracy\"], label=\"Training Accuracy\")\n",
        "plt.plot(history.history[\"val_accuracy\"], label=\"Validation Accuracy\")\n",
        "plt.xlablel(\"Number of Epochs\")\n",
        "plt.ylabel(\"val acc  and training acc scores\")\n",
        "plt.title(\"A graph showhing the training loss and validation accuracy of the model for each Epoch\")\n",
        "plt.legend()\n",
        "plt.show()"
      ],
      "metadata": {
        "id": "EaCBncNrCn2C"
      },
      "execution_count": null,
      "outputs": []
    },
    {
      "cell_type": "code",
      "source": [
        "#create a plot of the loss and validation loss both should decrease as no of epochs increase\n",
        "plt.plot(history.history[\"loss\"], label=\"Training Loss\")\n",
        "plt.plot(history.history[\"val_loss\"], label=\"Validation Loss\")\n",
        "plt.xlablel(\"Number of Epochs\")\n",
        "plt.ylabel(\"val loss  and training loss scores\")\n",
        "plt.title(\"A graph showhing the training loss and validation loss of the model for each Epoch\")\n",
        "plt.legend()\n",
        "plt.show()"
      ],
      "metadata": {
        "id": "fqB-VwoEDsgn"
      },
      "execution_count": null,
      "outputs": []
    },
    {
      "cell_type": "code",
      "source": [
        "#evaluate model\n",
        "model.evaluate(valid)"
      ],
      "metadata": {
        "id": "CFCAlWWjGX6V"
      },
      "execution_count": null,
      "outputs": []
    },
    {
      "cell_type": "code",
      "source": [
        "model.evaluate(test)"
      ],
      "metadata": {
        "id": "htixjmAdGjhU"
      },
      "execution_count": null,
      "outputs": []
    },
    {
      "cell_type": "markdown",
      "source": [
        "problem: the model seems to overfit. This becomes even more apparent if one removes the optional Earlystopping parameter \n",
        " included in the demo given lack of time to train the model for the full 10 epochs\n",
        "\n",
        " One suggested way of fixing this would be adding a dropout layer to the model to increase randomness and force it to be more\n",
        " capable at generalising. This layer would be added after the first dense layer"
      ],
      "metadata": {
        "id": "hI3gkqagLz_J"
      }
    },
    {
      "cell_type": "markdown",
      "source": [
        "from the tf.keras docs:\n",
        "\n",
        "\" The Dropout layer randomly sets input units to 0 with a frequency of rate at each step during training time, which helps prevent overfitting. Inputs not set to 0 are scaled up by 1/(1 - rate) such that the sum over all inputs is unchanged.\" Note that the Dropout layer only applies when training is set to True such that no values are dropped during inference. "
      ],
      "metadata": {
        "id": "_SksF4XWLVld"
      }
    },
    {
      "cell_type": "code",
      "source": [
        "model2 = tf.keras.Sequential()\n",
        "model2.add(hub_layer) #embeds our words\n",
        "model2.add(tf.keras.layers.Dense(16, activation=\"relu\")) #dense takes input from every preceding neuron\n",
        "model2.add(tf.keras.layers.Dropout(0.4))\n",
        "model2.add(tf.keras.layers.Dense(16, activation=\"relu\"))    \n",
        "model2.add(tf.keras.layers.Dropout(0.4))\n",
        "model2.add(tf.keras.layers.Dense(1, activation=\"sigmoid\")) "
      ],
      "metadata": {
        "id": "veNPHXCiKI4H"
      },
      "execution_count": null,
      "outputs": []
    },
    {
      "cell_type": "code",
      "source": [
        "model2.compile(optimizer=tf.keras.optimizers.Adam(learning_rate=0.001), \n",
        "             loss = tf.keras.losses.BinaryCrossentropy(), #binarycross entropy as binary classification problem\n",
        "                metrics=[\"accuracy\"])"
      ],
      "metadata": {
        "id": "Q3kmhf13Kdca"
      },
      "execution_count": null,
      "outputs": []
    },
    {
      "cell_type": "code",
      "source": [],
      "metadata": {
        "id": "AesFO5E9LP22"
      },
      "execution_count": null,
      "outputs": []
    },
    {
      "cell_type": "code",
      "source": [
        "model2.evaluate(train) #evaluate performance of model without training it first\n",
        "#accuracy is around 50%, loss is 0.69"
      ],
      "metadata": {
        "id": "Xk-gKLwXK-Bt"
      },
      "execution_count": null,
      "outputs": []
    },
    {
      "cell_type": "code",
      "execution_count": null,
      "metadata": {
        "id": "U7_wuFO3cQmE"
      },
      "outputs": [],
      "source": [
        "encoder = tf.keras.layers.TextVectorization(max_tokens=2000)\n",
        "encoder.adapt(train.map(lambda x, y: x))"
      ]
    },
    {
      "cell_type": "code",
      "execution_count": null,
      "metadata": {
        "id": "9iQXlDF-cQmF"
      },
      "outputs": [],
      "source": []
    }
  ],
  "metadata": {
    "kernelspec": {
      "display_name": "Python 3.10.7 64-bit",
      "language": "python",
      "name": "python3"
    },
    "language_info": {
      "codemirror_mode": {
        "name": "ipython",
        "version": 3
      },
      "file_extension": ".py",
      "mimetype": "text/x-python",
      "name": "python",
      "nbconvert_exporter": "python",
      "pygments_lexer": "ipython3",
      "version": "3.10.7"
    },
    "orig_nbformat": 4,
    "vscode": {
      "interpreter": {
        "hash": "f3b44d0901b27b90b29836124934e882c64ed863e8408c20b31f73c13ca8ef04"
      }
    },
    "colab": {
      "provenance": [],
      "include_colab_link": true
    }
  },
  "nbformat": 4,
  "nbformat_minor": 0
}