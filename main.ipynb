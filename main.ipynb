{
 "cells": [
  {
   "cell_type": "code",
   "execution_count": 2,
   "metadata": {},
   "outputs": [
    {
     "name": "stdout",
     "output_type": "stream",
     "text": [
      "Requirement already satisfied: tensorflow_hub in c:\\users\\amilc\\appdata\\local\\programs\\python\\python310\\lib\\site-packages (0.12.0)\n",
      "Requirement already satisfied: tensorflow in c:\\users\\amilc\\appdata\\local\\programs\\python\\python310\\lib\\site-packages (2.10.0)\n",
      "Requirement already satisfied: matplotlib in c:\\users\\amilc\\appdata\\local\\programs\\python\\python310\\lib\\site-packages (3.6.1)\n",
      "Requirement already satisfied: sklearn in c:\\users\\amilc\\appdata\\local\\programs\\python\\python310\\lib\\site-packages (0.0)\n",
      "Requirement already satisfied: imblearn in c:\\users\\amilc\\appdata\\local\\programs\\python\\python310\\lib\\site-packages (0.0)\n",
      "Requirement already satisfied: pandas in c:\\users\\amilc\\appdata\\local\\programs\\python\\python310\\lib\\site-packages (1.5.0)\n",
      "Requirement already satisfied: numpy>=1.12.0 in c:\\users\\amilc\\appdata\\local\\programs\\python\\python310\\lib\\site-packages (from tensorflow_hub) (1.23.4)\n",
      "Requirement already satisfied: protobuf>=3.8.0 in c:\\users\\amilc\\appdata\\local\\programs\\python\\python310\\lib\\site-packages (from tensorflow_hub) (3.19.6)\n",
      "Requirement already satisfied: keras<2.11,>=2.10.0 in c:\\users\\amilc\\appdata\\local\\programs\\python\\python310\\lib\\site-packages (from tensorflow) (2.10.0)\n",
      "Requirement already satisfied: h5py>=2.9.0 in c:\\users\\amilc\\appdata\\local\\programs\\python\\python310\\lib\\site-packages (from tensorflow) (3.7.0)\n",
      "Requirement already satisfied: six>=1.12.0 in c:\\users\\amilc\\appdata\\roaming\\python\\python310\\site-packages (from tensorflow) (1.16.0)\n",
      "Requirement already satisfied: grpcio<2.0,>=1.24.3 in c:\\users\\amilc\\appdata\\local\\programs\\python\\python310\\lib\\site-packages (from tensorflow) (1.50.0)\n",
      "Requirement already satisfied: libclang>=13.0.0 in c:\\users\\amilc\\appdata\\local\\programs\\python\\python310\\lib\\site-packages (from tensorflow) (14.0.6)\n",
      "Requirement already satisfied: astunparse>=1.6.0 in c:\\users\\amilc\\appdata\\local\\programs\\python\\python310\\lib\\site-packages (from tensorflow) (1.6.3)\n",
      "Requirement already satisfied: opt-einsum>=2.3.2 in c:\\users\\amilc\\appdata\\local\\programs\\python\\python310\\lib\\site-packages (from tensorflow) (3.3.0)\n",
      "Requirement already satisfied: google-pasta>=0.1.1 in c:\\users\\amilc\\appdata\\local\\programs\\python\\python310\\lib\\site-packages (from tensorflow) (0.2.0)\n",
      "Requirement already satisfied: tensorboard<2.11,>=2.10 in c:\\users\\amilc\\appdata\\local\\programs\\python\\python310\\lib\\site-packages (from tensorflow) (2.10.1)\n",
      "Requirement already satisfied: packaging in c:\\users\\amilc\\appdata\\local\\programs\\python\\python310\\lib\\site-packages (from tensorflow) (21.3)\n",
      "Requirement already satisfied: absl-py>=1.0.0 in c:\\users\\amilc\\appdata\\local\\programs\\python\\python310\\lib\\site-packages (from tensorflow) (1.3.0)\n",
      "Requirement already satisfied: termcolor>=1.1.0 in c:\\users\\amilc\\appdata\\local\\programs\\python\\python310\\lib\\site-packages (from tensorflow) (2.0.1)\n",
      "Requirement already satisfied: flatbuffers>=2.0 in c:\\users\\amilc\\appdata\\local\\programs\\python\\python310\\lib\\site-packages (from tensorflow) (22.9.24)\n",
      "Requirement already satisfied: tensorflow-estimator<2.11,>=2.10.0 in c:\\users\\amilc\\appdata\\local\\programs\\python\\python310\\lib\\site-packages (from tensorflow) (2.10.0)\n",
      "Requirement already satisfied: gast<=0.4.0,>=0.2.1 in c:\\users\\amilc\\appdata\\local\\programs\\python\\python310\\lib\\site-packages (from tensorflow) (0.4.0)\n",
      "Requirement already satisfied: keras-preprocessing>=1.1.1 in c:\\users\\amilc\\appdata\\local\\programs\\python\\python310\\lib\\site-packages (from tensorflow) (1.1.2)\n",
      "Requirement already satisfied: setuptools in c:\\users\\amilc\\appdata\\local\\programs\\python\\python310\\lib\\site-packages (from tensorflow) (63.2.0)\n",
      "Requirement already satisfied: tensorflow-io-gcs-filesystem>=0.23.1 in c:\\users\\amilc\\appdata\\local\\programs\\python\\python310\\lib\\site-packages (from tensorflow) (0.27.0)\n",
      "Requirement already satisfied: typing-extensions>=3.6.6 in c:\\users\\amilc\\appdata\\local\\programs\\python\\python310\\lib\\site-packages (from tensorflow) (4.4.0)\n",
      "Requirement already satisfied: wrapt>=1.11.0 in c:\\users\\amilc\\appdata\\local\\programs\\python\\python310\\lib\\site-packages (from tensorflow) (1.14.1)\n",
      "Requirement already satisfied: pyparsing>=2.2.1 in c:\\users\\amilc\\appdata\\local\\programs\\python\\python310\\lib\\site-packages (from matplotlib) (3.0.9)\n",
      "Requirement already satisfied: pillow>=6.2.0 in c:\\users\\amilc\\appdata\\local\\programs\\python\\python310\\lib\\site-packages (from matplotlib) (9.2.0)\n",
      "Requirement already satisfied: cycler>=0.10 in c:\\users\\amilc\\appdata\\local\\programs\\python\\python310\\lib\\site-packages (from matplotlib) (0.11.0)\n",
      "Requirement already satisfied: fonttools>=4.22.0 in c:\\users\\amilc\\appdata\\local\\programs\\python\\python310\\lib\\site-packages (from matplotlib) (4.37.4)\n",
      "Requirement already satisfied: contourpy>=1.0.1 in c:\\users\\amilc\\appdata\\local\\programs\\python\\python310\\lib\\site-packages (from matplotlib) (1.0.5)\n",
      "Requirement already satisfied: kiwisolver>=1.0.1 in c:\\users\\amilc\\appdata\\local\\programs\\python\\python310\\lib\\site-packages (from matplotlib) (1.4.4)\n",
      "Requirement already satisfied: python-dateutil>=2.7 in c:\\users\\amilc\\appdata\\roaming\\python\\python310\\site-packages (from matplotlib) (2.8.2)\n",
      "Requirement already satisfied: scikit-learn in c:\\users\\amilc\\appdata\\local\\programs\\python\\python310\\lib\\site-packages (from sklearn) (1.1.2)\n",
      "Requirement already satisfied: imbalanced-learn in c:\\users\\amilc\\appdata\\local\\programs\\python\\python310\\lib\\site-packages (from imblearn) (0.9.1)\n",
      "Requirement already satisfied: pytz>=2020.1 in c:\\users\\amilc\\appdata\\local\\programs\\python\\python310\\lib\\site-packages (from pandas) (2022.4)\n",
      "Requirement already satisfied: wheel<1.0,>=0.23.0 in c:\\users\\amilc\\appdata\\local\\programs\\python\\python310\\lib\\site-packages (from astunparse>=1.6.0->tensorflow) (0.37.1)\n",
      "Requirement already satisfied: google-auth-oauthlib<0.5,>=0.4.1 in c:\\users\\amilc\\appdata\\local\\programs\\python\\python310\\lib\\site-packages (from tensorboard<2.11,>=2.10->tensorflow) (0.4.6)\n",
      "Requirement already satisfied: google-auth<3,>=1.6.3 in c:\\users\\amilc\\appdata\\local\\programs\\python\\python310\\lib\\site-packages (from tensorboard<2.11,>=2.10->tensorflow) (2.13.0)\n",
      "Requirement already satisfied: tensorboard-plugin-wit>=1.6.0 in c:\\users\\amilc\\appdata\\local\\programs\\python\\python310\\lib\\site-packages (from tensorboard<2.11,>=2.10->tensorflow) (1.8.1)\n",
      "Requirement already satisfied: requests<3,>=2.21.0 in c:\\users\\amilc\\appdata\\local\\programs\\python\\python310\\lib\\site-packages (from tensorboard<2.11,>=2.10->tensorflow) (2.28.1)\n",
      "Requirement already satisfied: tensorboard-data-server<0.7.0,>=0.6.0 in c:\\users\\amilc\\appdata\\local\\programs\\python\\python310\\lib\\site-packages (from tensorboard<2.11,>=2.10->tensorflow) (0.6.1)\n",
      "Requirement already satisfied: werkzeug>=1.0.1 in c:\\users\\amilc\\appdata\\local\\programs\\python\\python310\\lib\\site-packages (from tensorboard<2.11,>=2.10->tensorflow) (2.2.2)\n",
      "Requirement already satisfied: markdown>=2.6.8 in c:\\users\\amilc\\appdata\\local\\programs\\python\\python310\\lib\\site-packages (from tensorboard<2.11,>=2.10->tensorflow) (3.4.1)\n",
      "Requirement already satisfied: threadpoolctl>=2.0.0 in c:\\users\\amilc\\appdata\\local\\programs\\python\\python310\\lib\\site-packages (from imbalanced-learn->imblearn) (3.1.0)\n",
      "Requirement already satisfied: scipy>=1.3.2 in c:\\users\\amilc\\appdata\\local\\programs\\python\\python310\\lib\\site-packages (from imbalanced-learn->imblearn) (1.9.3)\n",
      "Requirement already satisfied: joblib>=1.0.0 in c:\\users\\amilc\\appdata\\local\\programs\\python\\python310\\lib\\site-packages (from imbalanced-learn->imblearn) (1.2.0)\n",
      "Requirement already satisfied: rsa<5,>=3.1.4 in c:\\users\\amilc\\appdata\\local\\programs\\python\\python310\\lib\\site-packages (from google-auth<3,>=1.6.3->tensorboard<2.11,>=2.10->tensorflow) (4.9)\n",
      "Requirement already satisfied: cachetools<6.0,>=2.0.0 in c:\\users\\amilc\\appdata\\local\\programs\\python\\python310\\lib\\site-packages (from google-auth<3,>=1.6.3->tensorboard<2.11,>=2.10->tensorflow) (5.2.0)\n",
      "Requirement already satisfied: pyasn1-modules>=0.2.1 in c:\\users\\amilc\\appdata\\local\\programs\\python\\python310\\lib\\site-packages (from google-auth<3,>=1.6.3->tensorboard<2.11,>=2.10->tensorflow) (0.2.8)\n",
      "Requirement already satisfied: requests-oauthlib>=0.7.0 in c:\\users\\amilc\\appdata\\local\\programs\\python\\python310\\lib\\site-packages (from google-auth-oauthlib<0.5,>=0.4.1->tensorboard<2.11,>=2.10->tensorflow) (1.3.1)\n",
      "Requirement already satisfied: urllib3<1.27,>=1.21.1 in c:\\users\\amilc\\appdata\\local\\programs\\python\\python310\\lib\\site-packages (from requests<3,>=2.21.0->tensorboard<2.11,>=2.10->tensorflow) (1.26.12)\n",
      "Requirement already satisfied: idna<4,>=2.5 in c:\\users\\amilc\\appdata\\local\\programs\\python\\python310\\lib\\site-packages (from requests<3,>=2.21.0->tensorboard<2.11,>=2.10->tensorflow) (3.4)\n",
      "Requirement already satisfied: charset-normalizer<3,>=2 in c:\\users\\amilc\\appdata\\local\\programs\\python\\python310\\lib\\site-packages (from requests<3,>=2.21.0->tensorboard<2.11,>=2.10->tensorflow) (2.1.1)\n",
      "Requirement already satisfied: certifi>=2017.4.17 in c:\\users\\amilc\\appdata\\local\\programs\\python\\python310\\lib\\site-packages (from requests<3,>=2.21.0->tensorboard<2.11,>=2.10->tensorflow) (2022.9.24)\n",
      "Requirement already satisfied: MarkupSafe>=2.1.1 in c:\\users\\amilc\\appdata\\local\\programs\\python\\python310\\lib\\site-packages (from werkzeug>=1.0.1->tensorboard<2.11,>=2.10->tensorflow) (2.1.1)\n",
      "Requirement already satisfied: pyasn1<0.5.0,>=0.4.6 in c:\\users\\amilc\\appdata\\local\\programs\\python\\python310\\lib\\site-packages (from pyasn1-modules>=0.2.1->google-auth<3,>=1.6.3->tensorboard<2.11,>=2.10->tensorflow) (0.4.8)\n",
      "Requirement already satisfied: oauthlib>=3.0.0 in c:\\users\\amilc\\appdata\\local\\programs\\python\\python310\\lib\\site-packages (from requests-oauthlib>=0.7.0->google-auth-oauthlib<0.5,>=0.4.1->tensorboard<2.11,>=2.10->tensorflow) (3.2.2)\n",
      "Note: you may need to restart the kernel to use updated packages.\n"
     ]
    },
    {
     "name": "stderr",
     "output_type": "stream",
     "text": [
      "\n",
      "[notice] A new release of pip available: 22.2.2 -> 22.3\n",
      "[notice] To update, run: python.exe -m pip install --upgrade pip\n"
     ]
    }
   ],
   "source": [
    "%pip install tensorflow_hub tensorflow matplotlib sklearn imblearn pandas\n",
    "#libraries used : pandas, matplotlib.py, sklearn, tensorflow, tensorflow_hub, imblearn"
   ]
  },
  {
   "cell_type": "markdown",
   "metadata": {},
   "source": [
    "objective: trying to predict the score of a review given a text review.\n",
    "This machine learning model uses a dataset containing all sorts of amazon reviews.\n",
    "This dataset consists of reviews of fine foods from amazon. The data span a period of more than 10 years, including all ~500,000 reviews up to October 2012. Reviews include product and user information (, ratings, and a plain text review. It also includes reviews from all other Amazon categories."
   ]
  },
  {
   "cell_type": "code",
   "execution_count": 100,
   "metadata": {},
   "outputs": [],
   "source": [
    "import pandas as pd"
   ]
  },
  {
   "cell_type": "code",
   "execution_count": 101,
   "metadata": {},
   "outputs": [],
   "source": [
    "df = pd.read_csv(\"Reviews.csv\")"
   ]
  },
  {
   "cell_type": "code",
   "execution_count": 102,
   "metadata": {},
   "outputs": [
    {
     "data": {
      "text/html": [
       "<div>\n",
       "<style scoped>\n",
       "    .dataframe tbody tr th:only-of-type {\n",
       "        vertical-align: middle;\n",
       "    }\n",
       "\n",
       "    .dataframe tbody tr th {\n",
       "        vertical-align: top;\n",
       "    }\n",
       "\n",
       "    .dataframe thead th {\n",
       "        text-align: right;\n",
       "    }\n",
       "</style>\n",
       "<table border=\"1\" class=\"dataframe\">\n",
       "  <thead>\n",
       "    <tr style=\"text-align: right;\">\n",
       "      <th></th>\n",
       "      <th>Id</th>\n",
       "      <th>ProductId</th>\n",
       "      <th>UserId</th>\n",
       "      <th>ProfileName</th>\n",
       "      <th>HelpfulnessNumerator</th>\n",
       "      <th>HelpfulnessDenominator</th>\n",
       "      <th>Score</th>\n",
       "      <th>Time</th>\n",
       "      <th>Summary</th>\n",
       "      <th>Text</th>\n",
       "    </tr>\n",
       "  </thead>\n",
       "  <tbody>\n",
       "    <tr>\n",
       "      <th>0</th>\n",
       "      <td>1</td>\n",
       "      <td>B001E4KFG0</td>\n",
       "      <td>A3SGXH7AUHU8GW</td>\n",
       "      <td>delmartian</td>\n",
       "      <td>1</td>\n",
       "      <td>1</td>\n",
       "      <td>5</td>\n",
       "      <td>1303862400</td>\n",
       "      <td>Good Quality Dog Food</td>\n",
       "      <td>I have bought several of the Vitality canned d...</td>\n",
       "    </tr>\n",
       "    <tr>\n",
       "      <th>1</th>\n",
       "      <td>2</td>\n",
       "      <td>B00813GRG4</td>\n",
       "      <td>A1D87F6ZCVE5NK</td>\n",
       "      <td>dll pa</td>\n",
       "      <td>0</td>\n",
       "      <td>0</td>\n",
       "      <td>1</td>\n",
       "      <td>1346976000</td>\n",
       "      <td>Not as Advertised</td>\n",
       "      <td>Product arrived labeled as Jumbo Salted Peanut...</td>\n",
       "    </tr>\n",
       "    <tr>\n",
       "      <th>2</th>\n",
       "      <td>3</td>\n",
       "      <td>B000LQOCH0</td>\n",
       "      <td>ABXLMWJIXXAIN</td>\n",
       "      <td>Natalia Corres \"Natalia Corres\"</td>\n",
       "      <td>1</td>\n",
       "      <td>1</td>\n",
       "      <td>4</td>\n",
       "      <td>1219017600</td>\n",
       "      <td>\"Delight\" says it all</td>\n",
       "      <td>This is a confection that has been around a fe...</td>\n",
       "    </tr>\n",
       "    <tr>\n",
       "      <th>3</th>\n",
       "      <td>4</td>\n",
       "      <td>B000UA0QIQ</td>\n",
       "      <td>A395BORC6FGVXV</td>\n",
       "      <td>Karl</td>\n",
       "      <td>3</td>\n",
       "      <td>3</td>\n",
       "      <td>2</td>\n",
       "      <td>1307923200</td>\n",
       "      <td>Cough Medicine</td>\n",
       "      <td>If you are looking for the secret ingredient i...</td>\n",
       "    </tr>\n",
       "    <tr>\n",
       "      <th>4</th>\n",
       "      <td>5</td>\n",
       "      <td>B006K2ZZ7K</td>\n",
       "      <td>A1UQRSCLF8GW1T</td>\n",
       "      <td>Michael D. Bigham \"M. Wassir\"</td>\n",
       "      <td>0</td>\n",
       "      <td>0</td>\n",
       "      <td>5</td>\n",
       "      <td>1350777600</td>\n",
       "      <td>Great taffy</td>\n",
       "      <td>Great taffy at a great price.  There was a wid...</td>\n",
       "    </tr>\n",
       "  </tbody>\n",
       "</table>\n",
       "</div>"
      ],
      "text/plain": [
       "   Id   ProductId          UserId                      ProfileName  \\\n",
       "0   1  B001E4KFG0  A3SGXH7AUHU8GW                       delmartian   \n",
       "1   2  B00813GRG4  A1D87F6ZCVE5NK                           dll pa   \n",
       "2   3  B000LQOCH0   ABXLMWJIXXAIN  Natalia Corres \"Natalia Corres\"   \n",
       "3   4  B000UA0QIQ  A395BORC6FGVXV                             Karl   \n",
       "4   5  B006K2ZZ7K  A1UQRSCLF8GW1T    Michael D. Bigham \"M. Wassir\"   \n",
       "\n",
       "   HelpfulnessNumerator  HelpfulnessDenominator  Score        Time  \\\n",
       "0                     1                       1      5  1303862400   \n",
       "1                     0                       0      1  1346976000   \n",
       "2                     1                       1      4  1219017600   \n",
       "3                     3                       3      2  1307923200   \n",
       "4                     0                       0      5  1350777600   \n",
       "\n",
       "                 Summary                                               Text  \n",
       "0  Good Quality Dog Food  I have bought several of the Vitality canned d...  \n",
       "1      Not as Advertised  Product arrived labeled as Jumbo Salted Peanut...  \n",
       "2  \"Delight\" says it all  This is a confection that has been around a fe...  \n",
       "3         Cough Medicine  If you are looking for the secret ingredient i...  \n",
       "4            Great taffy  Great taffy at a great price.  There was a wid...  "
      ]
     },
     "execution_count": 102,
     "metadata": {},
     "output_type": "execute_result"
    }
   ],
   "source": [
    "#inspect a sample of the data\n",
    "df.head()"
   ]
  },
  {
   "cell_type": "code",
   "execution_count": 103,
   "metadata": {},
   "outputs": [],
   "source": [
    "#drop unnecessary columns:\n",
    "df.drop([\"Id\", \"ProfileName\", \"UserId\", \"ProductId\", \"Summary\",\"Time\", \"HelpfulnessNumerator\", \"HelpfulnessDenominator\"], axis=1, inplace=True)"
   ]
  },
  {
   "cell_type": "code",
   "execution_count": 104,
   "metadata": {},
   "outputs": [
    {
     "data": {
      "text/html": [
       "<div>\n",
       "<style scoped>\n",
       "    .dataframe tbody tr th:only-of-type {\n",
       "        vertical-align: middle;\n",
       "    }\n",
       "\n",
       "    .dataframe tbody tr th {\n",
       "        vertical-align: top;\n",
       "    }\n",
       "\n",
       "    .dataframe thead th {\n",
       "        text-align: right;\n",
       "    }\n",
       "</style>\n",
       "<table border=\"1\" class=\"dataframe\">\n",
       "  <thead>\n",
       "    <tr style=\"text-align: right;\">\n",
       "      <th></th>\n",
       "      <th>Score</th>\n",
       "      <th>Text</th>\n",
       "    </tr>\n",
       "  </thead>\n",
       "  <tbody>\n",
       "    <tr>\n",
       "      <th>0</th>\n",
       "      <td>5</td>\n",
       "      <td>I have bought several of the Vitality canned d...</td>\n",
       "    </tr>\n",
       "    <tr>\n",
       "      <th>1</th>\n",
       "      <td>1</td>\n",
       "      <td>Product arrived labeled as Jumbo Salted Peanut...</td>\n",
       "    </tr>\n",
       "    <tr>\n",
       "      <th>2</th>\n",
       "      <td>4</td>\n",
       "      <td>This is a confection that has been around a fe...</td>\n",
       "    </tr>\n",
       "    <tr>\n",
       "      <th>3</th>\n",
       "      <td>2</td>\n",
       "      <td>If you are looking for the secret ingredient i...</td>\n",
       "    </tr>\n",
       "    <tr>\n",
       "      <th>4</th>\n",
       "      <td>5</td>\n",
       "      <td>Great taffy at a great price.  There was a wid...</td>\n",
       "    </tr>\n",
       "  </tbody>\n",
       "</table>\n",
       "</div>"
      ],
      "text/plain": [
       "   Score                                               Text\n",
       "0      5  I have bought several of the Vitality canned d...\n",
       "1      1  Product arrived labeled as Jumbo Salted Peanut...\n",
       "2      4  This is a confection that has been around a fe...\n",
       "3      2  If you are looking for the secret ingredient i...\n",
       "4      5  Great taffy at a great price.  There was a wid..."
      ]
     },
     "execution_count": 104,
     "metadata": {},
     "output_type": "execute_result"
    }
   ],
   "source": [
    "df.head()"
   ]
  },
  {
   "cell_type": "code",
   "execution_count": 105,
   "metadata": {},
   "outputs": [
    {
     "data": {
      "text/plain": [
       "0"
      ]
     },
     "execution_count": 105,
     "metadata": {},
     "output_type": "execute_result"
    }
   ],
   "source": [
    "#look for missing values:\n",
    "df.isnull().values.any()\n",
    "df.isnull().sum().sum()"
   ]
  },
  {
   "cell_type": "code",
   "execution_count": 106,
   "metadata": {},
   "outputs": [],
   "source": [
    "\n",
    "#There are 26 missing values. Not too many so we can just delete the rows that contain them.\n",
    "\n",
    "df.dropna(inplace=True)\n"
   ]
  },
  {
   "cell_type": "code",
   "execution_count": 107,
   "metadata": {},
   "outputs": [
    {
     "data": {
      "image/png": "[encoded data removed]",
      "text/plain": [
       "<Figure size 640x480 with 1 Axes>"
      ]
     },
     "metadata": {},
     "output_type": "display_data"
    }
   ],
   "source": [
    "#plot a histogram to visualise the data (what the average review rating is)\n",
    "import matplotlib.pyplot as plt\n",
    "\n",
    "plt.hist(df.Score, bins=20)\n",
    "plt.title(\"Reviews Histogram\")\n",
    "plt.ylabel(\"number\")\n",
    "plt.xlabel(\" Reviews (out of 5)\")\n",
    "plt.show()"
   ]
  },
  {
   "cell_type": "code",
   "execution_count": 112,
   "metadata": {},
   "outputs": [],
   "source": [
    "# too many 5 star reviews. Let's drop 20 percent of them:\n",
    "#first sort df\n",
    "df.sort_values('Score', ascending=True, inplace=True)\n",
    "df = df[df['Score'].cumsum() / df['Score'].sum() < 0.7]"
   ]
  },
  {
   "cell_type": "code",
   "execution_count": 113,
   "metadata": {},
   "outputs": [
    {
     "data": {
      "image/png": "[encoded data removed]",
      "text/plain": [
       "<Figure size 640x480 with 1 Axes>"
      ]
     },
     "metadata": {},
     "output_type": "display_data"
    }
   ],
   "source": [
    "plt.hist(df.Score, bins=20)\n",
    "plt.title(\"Reviews Histogram\")\n",
    "plt.ylabel(\"number\")\n",
    "plt.xlabel(\" Reviews (out of 5)\")\n",
    "plt.show()"
   ]
  },
  {
   "cell_type": "code",
   "execution_count": 114,
   "metadata": {},
   "outputs": [
    {
     "data": {
      "text/html": [
       "<div>\n",
       "<style scoped>\n",
       "    .dataframe tbody tr th:only-of-type {\n",
       "        vertical-align: middle;\n",
       "    }\n",
       "\n",
       "    .dataframe tbody tr th {\n",
       "        vertical-align: top;\n",
       "    }\n",
       "\n",
       "    .dataframe thead th {\n",
       "        text-align: right;\n",
       "    }\n",
       "</style>\n",
       "<table border=\"1\" class=\"dataframe\">\n",
       "  <thead>\n",
       "    <tr style=\"text-align: right;\">\n",
       "      <th></th>\n",
       "      <th>Score</th>\n",
       "      <th>Text</th>\n",
       "      <th>good/bad review</th>\n",
       "    </tr>\n",
       "  </thead>\n",
       "  <tbody>\n",
       "    <tr>\n",
       "      <th>445452</th>\n",
       "      <td>1</td>\n",
       "      <td>I don't eat cereal, but I bought these for my ...</td>\n",
       "      <td>0</td>\n",
       "    </tr>\n",
       "    <tr>\n",
       "      <th>178288</th>\n",
       "      <td>1</td>\n",
       "      <td>It has been over three weeks and I still have ...</td>\n",
       "      <td>0</td>\n",
       "    </tr>\n",
       "    <tr>\n",
       "      <th>78861</th>\n",
       "      <td>1</td>\n",
       "      <td>When I read the reviews for this product, I or...</td>\n",
       "      <td>0</td>\n",
       "    </tr>\n",
       "    <tr>\n",
       "      <th>178287</th>\n",
       "      <td>1</td>\n",
       "      <td>This tea tastes nasty.  Maybe I just dont like...</td>\n",
       "      <td>0</td>\n",
       "    </tr>\n",
       "    <tr>\n",
       "      <th>78860</th>\n",
       "      <td>1</td>\n",
       "      <td>The so-called crabmeat is pure mush. I don't t...</td>\n",
       "      <td>0</td>\n",
       "    </tr>\n",
       "  </tbody>\n",
       "</table>\n",
       "</div>"
      ],
      "text/plain": [
       "        Score                                               Text  \\\n",
       "445452      1  I don't eat cereal, but I bought these for my ...   \n",
       "178288      1  It has been over three weeks and I still have ...   \n",
       "78861       1  When I read the reviews for this product, I or...   \n",
       "178287      1  This tea tastes nasty.  Maybe I just dont like...   \n",
       "78860       1  The so-called crabmeat is pure mush. I don't t...   \n",
       "\n",
       "        good/bad review  \n",
       "445452                0  \n",
       "178288                0  \n",
       "78861                 0  \n",
       "178287                0  \n",
       "78860                 0  "
      ]
     },
     "execution_count": 114,
     "metadata": {},
     "output_type": "execute_result"
    }
   ],
   "source": [
    "#can see that we have  a lot of positive reviews. Might have to oversample.\n",
    "#creating a new model\n",
    "\n",
    "df[\"good/bad review\"] = (df.Score >= 4.0).astype(int)\n",
    "\n",
    "df.head()"
   ]
  },
  {
   "cell_type": "code",
   "execution_count": 115,
   "metadata": {},
   "outputs": [],
   "source": [
    "df = df[[\"Text\", \"good/bad review\"]]"
   ]
  },
  {
   "cell_type": "code",
   "execution_count": 116,
   "metadata": {},
   "outputs": [
    {
     "data": {
      "text/html": [
       "<div>\n",
       "<style scoped>\n",
       "    .dataframe tbody tr th:only-of-type {\n",
       "        vertical-align: middle;\n",
       "    }\n",
       "\n",
       "    .dataframe tbody tr th {\n",
       "        vertical-align: top;\n",
       "    }\n",
       "\n",
       "    .dataframe thead th {\n",
       "        text-align: right;\n",
       "    }\n",
       "</style>\n",
       "<table border=\"1\" class=\"dataframe\">\n",
       "  <thead>\n",
       "    <tr style=\"text-align: right;\">\n",
       "      <th></th>\n",
       "      <th>Text</th>\n",
       "      <th>good/bad review</th>\n",
       "    </tr>\n",
       "  </thead>\n",
       "  <tbody>\n",
       "    <tr>\n",
       "      <th>445452</th>\n",
       "      <td>I don't eat cereal, but I bought these for my ...</td>\n",
       "      <td>0</td>\n",
       "    </tr>\n",
       "    <tr>\n",
       "      <th>178288</th>\n",
       "      <td>It has been over three weeks and I still have ...</td>\n",
       "      <td>0</td>\n",
       "    </tr>\n",
       "    <tr>\n",
       "      <th>78861</th>\n",
       "      <td>When I read the reviews for this product, I or...</td>\n",
       "      <td>0</td>\n",
       "    </tr>\n",
       "    <tr>\n",
       "      <th>178287</th>\n",
       "      <td>This tea tastes nasty.  Maybe I just dont like...</td>\n",
       "      <td>0</td>\n",
       "    </tr>\n",
       "    <tr>\n",
       "      <th>78860</th>\n",
       "      <td>The so-called crabmeat is pure mush. I don't t...</td>\n",
       "      <td>0</td>\n",
       "    </tr>\n",
       "  </tbody>\n",
       "</table>\n",
       "</div>"
      ],
      "text/plain": [
       "                                                     Text  good/bad review\n",
       "445452  I don't eat cereal, but I bought these for my ...                0\n",
       "178288  It has been over three weeks and I still have ...                0\n",
       "78861   When I read the reviews for this product, I or...                0\n",
       "178287  This tea tastes nasty.  Maybe I just dont like...                0\n",
       "78860   The so-called crabmeat is pure mush. I don't t...                0"
      ]
     },
     "execution_count": 116,
     "metadata": {},
     "output_type": "execute_result"
    }
   ],
   "source": [
    "df.head()"
   ]
  },
  {
   "cell_type": "markdown",
   "metadata": {},
   "source": [
    "we have more positive reviews than negative ones. So let's resample"
   ]
  },
  {
   "cell_type": "code",
   "execution_count": 125,
   "metadata": {},
   "outputs": [],
   "source": [
    "import numpy as np\n"
   ]
  },
  {
   "cell_type": "code",
   "execution_count": 126,
   "metadata": {},
   "outputs": [],
   "source": [
    "#split data\n",
    "train, val, test = np.split(df.sample(frac=1), [int(0.8*len(df)), int(0.9 * len(df))])"
   ]
  },
  {
   "cell_type": "markdown",
   "metadata": {},
   "source": [
    "Using a pretrained embedding layer"
   ]
  },
  {
   "cell_type": "markdown",
   "metadata": {},
   "source": [
    "tokenization: process of turning paragraphs into sentences, and sentences into words (so sentence is an arr of words (strings))\n",
    "\n",
    "text vectorization: turning text to numbers\n",
    "\n",
    "types of vectorization:\n",
    "count vectorization\n",
    "ngrams\n",
    "TFIDF"
   ]
  },
  {
   "cell_type": "code",
   "execution_count": 119,
   "metadata": {},
   "outputs": [],
   "source": [
    "import tensorflow_hub as hub\n",
    "import tensorflow as tf"
   ]
  },
  {
   "cell_type": "code",
   "execution_count": 132,
   "metadata": {},
   "outputs": [],
   "source": [
    "def df_to_dataset(data_df, shuffle=True, batch_size=10):\n",
    "    df=data_df.copy()\n",
    "    labels=df.pop(\"good/bad review\")\n",
    "    df = df[\"Text\"]\n",
    "    data_set = tf.data.Dataset.from_tensor_slices((df, labels))#create a tf data.dataset object with data and its labels\n",
    "    if shuffle:\n",
    "        data_set=data_set.shuffle(buffer_size=len(data_df))#shuffle data\n",
    "    data_set = data_set.batch(batch_size) #split dataset into batches of 10 and repeat process for num of epochs\n",
    "    data_set = data_set.prefetch(tf.data.AUTOTUNE)\n",
    "    return data_set"
   ]
  },
  {
   "cell_type": "code",
   "execution_count": 133,
   "metadata": {},
   "outputs": [],
   "source": [
    "train= df_to_dataset(train)\n",
    "valid= df_to_dataset(val)\n",
    "test= df_to_dataset(test)"
   ]
  },
  {
   "cell_type": "code",
   "execution_count": 135,
   "metadata": {},
   "outputs": [
    {
     "data": {
      "text/plain": [
       "(<tf.Tensor: shape=(10,), dtype=string, numpy=\n",
       " array([b'We just bought this toy, and it is definetly something our dog loves and is interested in for a good period of time. It took her less than 20 minutes to figure out she just had to chew through the rope. If they could do a second version with a rope made of Kevlar or a metal chain with knots -that would be much better!',\n",
       "        b\"Why gamble with your dog's health? These are made in China.<br />Since Chinese manufacturers have proven that they don't care if they make Chinese children sick and die,<br />why would they care about American dogs??<br />I wouldn't have checked even ONE star but this review would not post<br />until I checked one.<br /><br />Check out Nature's Variety Brand products instead.\",\n",
       "        b\"This wasn't as spicy as I would have liked and I was suprised to find that sugar was the second ingredient 6gms/serving). It's definitely a good snack food to use for a party mix but I would've liked more spice/saltiness and less sugar. But they are a change from the wasabi peas you always find.\",\n",
       "        b'I have nothing but good service ever since I started ordering from amazon.com.  Keep up the good work.',\n",
       "        b\"If you can keep it in the house without overeating it, this stuff is great.  However, it's like dessert. It's so good, you just keep going back for more, and it's really high in calories. I love it, but I don't think I'll repurchase it until I get more willpower.\",\n",
       "        b\"I'm a college student and often in the mornings I don't have time for breakfast so I just mix up a water bottle of this the night before and grab it on my way out. I find that adding the full suggested amount of power, 1/3 cup plus 1 tablespoon is a little much, but still very tasty. It doesn't have that weird, protein powder taste and tastes a lot like nesquick powder! Overall it's great.\",\n",
       "        b'Delivery was fast, flavor is good. Being sugar free is a big plus for me, but the center is not white and I found no chips !<br />The White is a very thin layer on the outside.<br />Still good but no quite what I expected',\n",
       "        b\"This coffee says Dark Roast & Extra Bold and.... IT ISN'T! It's weak and barely beats out a cup of Folgers.\",\n",
       "        b\"I've been baking bread for my family for 15 years. This flour is darker than I expected, towards whole-wheat I would say. I tend to combine this with a whiter flour, maybe this would be 1/5th of mix. The bread comes out darker, textured, full of flavor. The flour rises well even when I use a higher proportion (tried 2/3rds). I wish Great River had a whiter flour that I can buy together with this one. I'm not sure I would use it for pastries, unless I sifted it myself.\",\n",
       "        b'My wife and i just finished off a bag of these this evening . We also just started eating these this evening . When finished , i told the Mrs. \"It\\'s just two servings though\" . She responded \"two-wonty\" . Feelin\\' kinda gross . Lip smackin\\' good . For the enlarged heart in all of us .'],\n",
       "       dtype=object)>,\n",
       " <tf.Tensor: shape=(10,), dtype=int32, numpy=array([0, 0, 0, 1, 1, 1, 0, 0, 1, 1])>)"
      ]
     },
     "execution_count": 135,
     "metadata": {},
     "output_type": "execute_result"
    }
   ],
   "source": [
    "list(train)[0]  #tensor object converted to a list"
   ]
  },
  {
   "cell_type": "code",
   "execution_count": 122,
   "metadata": {},
   "outputs": [],
   "source": [
    "embedding = \"https://tfhub.dev/google/nnlm-en-dim50/2\"  #Token based text embedding trained on English Google News 7B corpus.\n",
    "hub_layer = hub.KerasLayer(embedding, dtype=tf.string, trainable=True)\n"
   ]
  },
  {
   "cell_type": "code",
   "execution_count": 136,
   "metadata": {},
   "outputs": [
    {
     "data": {
      "text/plain": [
       "<tf.Tensor: shape=(10, 50), dtype=float32, numpy=\n",
       "array([[ 5.85223675e-01, -8.07330832e-02, -6.83509037e-02,\n",
       "         4.79992449e-01,  2.91544437e-01, -1.03346638e-01,\n",
       "         1.37970433e-01,  1.47493798e-02, -7.01081932e-01,\n",
       "         7.12039888e-01,  1.43396959e-01,  7.24401558e-03,\n",
       "        -3.95369530e-01,  2.79892892e-01, -2.40519896e-01,\n",
       "         1.19869173e-01, -1.27101585e-01,  1.95252791e-01,\n",
       "         1.43850699e-01, -4.39573675e-01, -1.17716812e-01,\n",
       "        -2.45792970e-01,  2.90360957e-01, -6.74513280e-02,\n",
       "        -5.76518536e-01,  1.99503526e-01, -8.79817426e-01,\n",
       "         3.91511545e-02,  1.67813569e-01, -1.55944780e-01,\n",
       "        -1.30777806e-01,  4.13330615e-01,  3.71720612e-01,\n",
       "        -4.67408858e-02, -1.12757042e-01,  5.14796793e-01,\n",
       "         2.55026609e-01,  1.84504494e-01,  3.22209656e-01,\n",
       "        -2.95138627e-01,  2.89472222e-01,  2.05410406e-01,\n",
       "        -2.69298196e-01,  2.74046715e-02, -2.78790206e-01,\n",
       "         1.14535071e-01, -3.48380953e-01, -2.43320420e-01,\n",
       "         5.27694076e-02,  1.12343214e-01],\n",
       "       [ 8.00139427e-01, -1.65947020e-01, -2.46437136e-02,\n",
       "         3.27051729e-01, -6.57091811e-02, -2.33006924e-01,\n",
       "        -5.92593011e-03,  1.59908786e-01, -4.38620865e-01,\n",
       "         2.59500504e-01,  2.40646943e-01,  6.97992444e-02,\n",
       "        -7.65773803e-02,  3.57012480e-01, -1.94302484e-01,\n",
       "        -1.15709454e-01,  3.51271592e-02,  3.07843447e-01,\n",
       "        -5.74637903e-03, -3.97716701e-01, -2.22958684e-01,\n",
       "        -2.50492752e-01,  1.40273124e-01,  3.02837230e-02,\n",
       "        -3.29700410e-01, -2.64677286e-01, -2.90389270e-01,\n",
       "         1.14803776e-01, -4.04376537e-02, -1.63926557e-01,\n",
       "         1.98245887e-02,  2.50725538e-01,  3.81261200e-01,\n",
       "        -4.90855843e-01, -5.67920543e-02,  1.85709164e-01,\n",
       "        -1.79717004e-01,  3.68130654e-01,  2.75886827e-03,\n",
       "        -2.90707827e-01, -1.85326189e-01,  2.35631242e-01,\n",
       "        -4.72100787e-02,  1.59369744e-02,  1.97339863e-01,\n",
       "         1.14285611e-01, -2.48521969e-01, -4.33894359e-02,\n",
       "        -4.40576002e-02,  3.35705549e-01],\n",
       "       [ 3.92188996e-01, -2.82121506e-02,  1.83730081e-01,\n",
       "         6.23139143e-01,  1.25877574e-01, -4.00685340e-01,\n",
       "         3.81535552e-02,  1.46435410e-01, -4.16601598e-01,\n",
       "         3.68019998e-01,  1.83996901e-01,  1.67786516e-02,\n",
       "        -3.65010023e-01, -9.52497795e-02,  1.28427342e-01,\n",
       "         5.36154248e-02,  2.37527769e-02,  2.46589724e-02,\n",
       "         1.52945193e-02, -5.91771662e-01, -4.65267599e-02,\n",
       "        -2.68327534e-01,  1.23999320e-01, -5.31548969e-02,\n",
       "        -6.15079343e-01, -1.25133488e-02, -5.27094781e-01,\n",
       "         2.36187667e-01, -2.75124609e-01, -2.97174424e-01,\n",
       "         3.07479203e-01,  2.44298428e-01,  2.66711801e-01,\n",
       "        -4.39337283e-01,  3.00444245e-01,  4.34739769e-01,\n",
       "         9.18027759e-02,  1.17261283e-01,  5.37484437e-02,\n",
       "        -1.43143967e-01,  2.75462836e-01,  1.77050188e-01,\n",
       "        -2.32419550e-01, -1.85179282e-02, -2.19224408e-01,\n",
       "         3.07696611e-01, -4.20842588e-01, -4.99116600e-01,\n",
       "         1.31979123e-01,  3.88707370e-01],\n",
       "       [ 4.55217212e-01,  1.44272819e-01, -5.96478395e-02,\n",
       "         1.97082520e-01, -2.19742283e-02, -3.16047460e-01,\n",
       "         5.45664765e-02,  1.71324849e-01, -2.97656268e-01,\n",
       "         3.12820822e-01, -1.35473302e-02,  1.10199256e-02,\n",
       "        -1.36195822e-02,  8.42939690e-02,  2.37312391e-02,\n",
       "        -1.88870132e-01, -1.93960726e-01,  1.24219500e-01,\n",
       "         8.03220943e-02, -6.70668304e-01, -5.46830408e-02,\n",
       "        -2.19183043e-01,  3.67533177e-01, -2.87538525e-02,\n",
       "        -5.18166840e-01,  8.33199844e-02, -4.94821876e-01,\n",
       "         1.29128352e-01,  3.07103753e-01, -3.20361584e-01,\n",
       "        -2.06671715e-01,  3.77853364e-01,  2.91926175e-01,\n",
       "        -3.31542760e-01, -2.36330524e-01,  3.83467436e-01,\n",
       "         2.26771142e-02,  1.25715733e-02,  1.27014801e-01,\n",
       "        -2.91563720e-01,  1.33212224e-01, -1.21069789e-01,\n",
       "         3.78373303e-02,  1.50041416e-01, -1.63738325e-01,\n",
       "        -1.28320158e-01, -2.23433062e-01, -3.50718379e-01,\n",
       "        -2.53337938e-02, -3.61933303e-03],\n",
       "       [ 6.12774372e-01, -1.47419065e-01, -1.83747023e-01,\n",
       "         2.35200837e-01,  2.72054851e-01, -3.20892721e-01,\n",
       "         2.15762220e-02,  8.82579237e-02, -4.10632372e-01,\n",
       "        -2.36757137e-02,  1.98398590e-01,  1.77597210e-01,\n",
       "        -9.36037153e-02,  3.16679180e-01, -1.13922857e-01,\n",
       "        -3.20066303e-01,  3.32371861e-01,  1.47016406e-01,\n",
       "        -8.26859251e-02, -9.46901500e-01, -1.47888571e-01,\n",
       "         8.78587887e-02,  2.30381280e-01,  1.94498003e-01,\n",
       "        -3.37935030e-01,  7.94115290e-02, -5.98175704e-01,\n",
       "         2.13801906e-01,  1.34475425e-01, -5.04761338e-01,\n",
       "        -1.05928004e-01,  3.00876081e-01,  6.16712987e-01,\n",
       "        -5.55876851e-01, -9.15030465e-02,  2.84650981e-01,\n",
       "         2.83850338e-02,  2.33312890e-01,  2.78916180e-01,\n",
       "        -5.27870893e-01, -2.03905582e-01,  4.76506352e-02,\n",
       "        -1.31916180e-01,  1.71665445e-01, -3.04280370e-01,\n",
       "         7.19519481e-02, -2.80857921e-01, -5.67752302e-01,\n",
       "        -2.68517323e-02,  1.36998579e-01],\n",
       "       [ 4.21821475e-01,  3.16945054e-02, -1.10122427e-01,\n",
       "         3.82165879e-01, -2.55541980e-01, -2.30413452e-01,\n",
       "         3.66994441e-02,  2.92385042e-01, -2.84494489e-01,\n",
       "         4.02136773e-01,  1.66203946e-01, -5.53948618e-02,\n",
       "         8.53058323e-03,  1.18081681e-01,  1.62319019e-01,\n",
       "         1.44443838e-02,  1.14399502e-02,  1.00128688e-01,\n",
       "        -1.18657991e-01, -5.32215476e-01, -1.11749351e-01,\n",
       "        -2.01700523e-01,  7.76703507e-02, -8.88642273e-04,\n",
       "        -3.62873763e-01,  1.69160679e-01, -6.44697070e-01,\n",
       "         9.93565544e-02,  1.04676522e-01, -4.37077135e-02,\n",
       "        -1.30349964e-01,  2.35172451e-01,  2.58328199e-01,\n",
       "        -2.05696777e-01,  1.32326528e-01,  2.20217586e-01,\n",
       "         3.30191731e-01, -1.39360046e-02,  2.65485257e-01,\n",
       "        -1.91136718e-01, -1.80465635e-02, -1.99148312e-01,\n",
       "         3.59999537e-02, -4.19074446e-02, -3.51194173e-01,\n",
       "         3.43763344e-02, -3.04647088e-01,  1.16249084e-01,\n",
       "         2.37569168e-01,  3.27030092e-01],\n",
       "       [ 6.23632669e-01, -7.20554441e-02,  2.59522647e-01,\n",
       "         3.11877608e-01, -7.37461224e-02, -3.52852821e-01,\n",
       "         3.21383953e-01,  2.13727415e-01, -7.22000539e-01,\n",
       "         5.27712166e-01,  1.77671134e-01, -1.72382370e-02,\n",
       "        -6.16251305e-02,  2.17630580e-01, -2.46724874e-01,\n",
       "        -8.16806108e-02, -2.75882900e-01,  2.34371603e-01,\n",
       "         2.12757170e-01, -7.51420796e-01, -1.62705228e-01,\n",
       "        -4.37338054e-01,  1.80630088e-01,  1.64995953e-01,\n",
       "        -3.13013852e-01,  4.86930348e-02, -5.88512599e-01,\n",
       "         1.86989248e-01,  2.31083512e-01, -2.49685988e-01,\n",
       "        -2.21552923e-01,  2.59801328e-01,  2.58276254e-01,\n",
       "        -5.06007731e-01, -5.44826798e-02,  2.36775413e-01,\n",
       "         2.21598670e-01, -1.38968185e-01,  2.15170309e-01,\n",
       "        -4.46817994e-01,  9.89806876e-02,  1.84077248e-01,\n",
       "        -6.53561056e-02,  9.40554887e-02, -3.51559341e-01,\n",
       "         2.48414073e-02, -1.05879359e-01, -2.38217860e-01,\n",
       "         3.97848114e-02,  2.65832901e-01],\n",
       "       [ 2.65364259e-01, -7.13526532e-02, -1.52861059e-01,\n",
       "         1.06903076e-01,  7.00614899e-02, -2.46903449e-01,\n",
       "        -2.83895787e-02,  8.65371078e-02, -2.17281967e-01,\n",
       "         1.78244680e-01,  3.53436112e-01, -1.83193073e-01,\n",
       "        -9.83238816e-02, -9.62454453e-02, -7.16296062e-02,\n",
       "        -3.50215659e-03,  1.05505683e-01,  1.51722014e-01,\n",
       "        -9.72670750e-05, -4.86874700e-01, -2.26973414e-01,\n",
       "        -2.80906677e-01,  4.37518917e-02, -2.74548121e-02,\n",
       "        -3.33459496e-01,  5.94843030e-02, -3.59230548e-01,\n",
       "         2.90569007e-01, -3.94876227e-02,  1.09023169e-01,\n",
       "        -8.21824074e-02,  8.19167569e-02,  7.20246360e-02,\n",
       "        -2.53244668e-01, -6.34048507e-02,  3.30024175e-02,\n",
       "         1.30890116e-01,  8.68347436e-02, -3.35432850e-02,\n",
       "        -2.60707051e-01, -6.34333044e-02,  7.90441558e-02,\n",
       "         1.03157729e-01, -1.98284477e-01, -3.04513313e-02,\n",
       "         1.88343897e-01, -5.97958788e-02, -1.29410148e-01,\n",
       "         5.15677594e-02, -5.01109064e-02],\n",
       "       [ 6.45089746e-01, -1.26048699e-01,  1.15502417e-01,\n",
       "         8.42727497e-02, -7.88371265e-03, -2.16356918e-01,\n",
       "        -7.31451884e-02,  1.05917037e-01, -5.46040870e-02,\n",
       "         3.02856147e-01,  2.22543702e-01,  6.85473904e-02,\n",
       "        -1.24236811e-02,  9.14438739e-02, -3.43787611e-01,\n",
       "        -5.88679016e-02, -9.63071212e-02, -1.37071803e-01,\n",
       "         1.26854688e-01, -4.75105375e-01,  5.80252893e-02,\n",
       "        -1.36851534e-01,  4.52153720e-02,  2.35377640e-01,\n",
       "        -3.35478008e-01, -1.07797913e-01,  2.62052305e-02,\n",
       "         1.84345677e-01,  7.51327164e-03, -1.04474068e-01,\n",
       "         1.18166625e-01,  2.09125400e-01,  4.04984564e-01,\n",
       "        -2.60007024e-01,  1.37028322e-01,  7.62271434e-02,\n",
       "        -1.24696352e-01,  1.90812692e-01,  2.68487900e-01,\n",
       "        -4.04875875e-02, -8.49844292e-02,  3.77957970e-02,\n",
       "         3.91984880e-02,  4.65924991e-03, -4.05643471e-02,\n",
       "         2.84261983e-02, -2.37126902e-01, -2.01412991e-01,\n",
       "         1.92798063e-01,  1.91950202e-01],\n",
       "       [ 2.63898849e-01,  7.32398331e-02, -1.00229599e-01,\n",
       "         1.88106313e-01, -2.17790157e-02, -9.82405525e-03,\n",
       "         1.89658597e-01, -6.77691996e-02, -2.98431486e-01,\n",
       "        -6.60995319e-02,  8.74600485e-02, -1.31297261e-01,\n",
       "        -1.58857182e-01,  4.59081829e-02,  2.21165568e-01,\n",
       "        -2.71068513e-01,  1.59184728e-02,  1.66215107e-01,\n",
       "         3.23879300e-03, -4.77566212e-01, -2.14846045e-01,\n",
       "        -2.67151594e-01,  6.26793951e-02, -1.17208235e-01,\n",
       "        -3.44385207e-01,  5.57607040e-02, -4.34349149e-01,\n",
       "        -1.26769766e-01,  1.40976653e-01, -2.11419225e-01,\n",
       "        -1.34826496e-01,  2.32799649e-01,  2.19525993e-01,\n",
       "        -1.54446170e-01, -3.05137396e-01,  2.08848074e-01,\n",
       "         1.41084790e-01,  2.06795827e-01,  3.01571470e-02,\n",
       "        -1.86053544e-01,  3.17832619e-01, -9.01186466e-02,\n",
       "        -4.40516397e-02,  3.25285234e-02, -1.26565948e-01,\n",
       "        -4.68119048e-02, -5.25576621e-02, -3.60441469e-02,\n",
       "         1.87461719e-01,  1.96231037e-01]], dtype=float32)>"
      ]
     },
     "execution_count": 136,
     "metadata": {},
     "output_type": "execute_result"
    }
   ],
   "source": [
    "hub_layer(list(train)[0][0])"
   ]
  },
  {
   "cell_type": "code",
   "execution_count": 134,
   "metadata": {},
   "outputs": [],
   "source": [
    "encoder = tf.keras.layers.TextVectorization(max_tokens=2000)\n",
    "encoder.adapt(train.map(lambda x, y: x))"
   ]
  },
  {
   "cell_type": "code",
   "execution_count": 99,
   "metadata": {},
   "outputs": [
    {
     "name": "stdout",
     "output_type": "stream",
     "text": [
      "Epoch 1/20\n"
     ]
    },
    {
     "ename": "TypeError",
     "evalue": "in user code:\n\n    File \"c:\\Users\\amilc\\AppData\\Local\\Programs\\Python\\Python310\\lib\\site-packages\\keras\\engine\\training.py\", line 1160, in train_function  *\n        return step_function(self, iterator)\n    File \"c:\\Users\\amilc\\AppData\\Local\\Programs\\Python\\Python310\\lib\\site-packages\\keras\\engine\\training.py\", line 1146, in step_function  **\n        outputs = model.distribute_strategy.run(run_step, args=(data,))\n    File \"c:\\Users\\amilc\\AppData\\Local\\Programs\\Python\\Python310\\lib\\site-packages\\keras\\engine\\training.py\", line 1135, in run_step  **\n        outputs = model.train_step(data)\n    File \"c:\\Users\\amilc\\AppData\\Local\\Programs\\Python\\Python310\\lib\\site-packages\\keras\\engine\\training.py\", line 994, in train_step\n        loss = self.compute_loss(x, y, y_pred, sample_weight)\n    File \"c:\\Users\\amilc\\AppData\\Local\\Programs\\Python\\Python310\\lib\\site-packages\\keras\\engine\\training.py\", line 1052, in compute_loss\n        return self.compiled_loss(\n    File \"c:\\Users\\amilc\\AppData\\Local\\Programs\\Python\\Python310\\lib\\site-packages\\keras\\engine\\compile_utils.py\", line 265, in __call__\n        loss_value = loss_obj(y_t, y_p, sample_weight=sw)\n    File \"c:\\Users\\amilc\\AppData\\Local\\Programs\\Python\\Python310\\lib\\site-packages\\keras\\losses.py\", line 152, in __call__\n        losses = call_fn(y_true, y_pred)\n    File \"c:\\Users\\amilc\\AppData\\Local\\Programs\\Python\\Python310\\lib\\site-packages\\keras\\losses.py\", line 272, in call  **\n        return ag_fn(y_true, y_pred, **self._fn_kwargs)\n    File \"c:\\Users\\amilc\\AppData\\Local\\Programs\\Python\\Python310\\lib\\site-packages\\keras\\losses.py\", line 2152, in binary_crossentropy\n        label_smoothing = tf.convert_to_tensor(label_smoothing, dtype=y_pred.dtype)\n\n    TypeError: Expected string, but got 0.0 of type 'float'.\n",
     "output_type": "error",
     "traceback": [
      "\u001b[1;31m---------------------------------------------------------------------------\u001b[0m",
      "\u001b[1;31mTypeError\u001b[0m                                 Traceback (most recent call last)",
      "Cell \u001b[1;32mIn [99], line 2\u001b[0m\n\u001b[0;32m      1\u001b[0m \u001b[39m#evaluating the model before training it\u001b[39;00m\n\u001b[1;32m----> 2\u001b[0m model\u001b[39m.\u001b[39;49mfit(X_train, y_train, batch_size\u001b[39m=\u001b[39;49m\u001b[39m16\u001b[39;49m, epochs\u001b[39m=\u001b[39;49m\u001b[39m20\u001b[39;49m, validation_data\u001b[39m=\u001b[39;49m(X_valid, y_valid))\n",
      "File \u001b[1;32mc:\\Users\\amilc\\AppData\\Local\\Programs\\Python\\Python310\\lib\\site-packages\\keras\\utils\\traceback_utils.py:70\u001b[0m, in \u001b[0;36mfilter_traceback.<locals>.error_handler\u001b[1;34m(*args, **kwargs)\u001b[0m\n\u001b[0;32m     67\u001b[0m     filtered_tb \u001b[39m=\u001b[39m _process_traceback_frames(e\u001b[39m.\u001b[39m__traceback__)\n\u001b[0;32m     68\u001b[0m     \u001b[39m# To get the full stack trace, call:\u001b[39;00m\n\u001b[0;32m     69\u001b[0m     \u001b[39m# `tf.debugging.disable_traceback_filtering()`\u001b[39;00m\n\u001b[1;32m---> 70\u001b[0m     \u001b[39mraise\u001b[39;00m e\u001b[39m.\u001b[39mwith_traceback(filtered_tb) \u001b[39mfrom\u001b[39;00m \u001b[39mNone\u001b[39m\n\u001b[0;32m     71\u001b[0m \u001b[39mfinally\u001b[39;00m:\n\u001b[0;32m     72\u001b[0m     \u001b[39mdel\u001b[39;00m filtered_tb\n",
      "File \u001b[1;32m~\\AppData\\Local\\Temp\\__autograph_generated_filetkp7npt9.py:15\u001b[0m, in \u001b[0;36mouter_factory.<locals>.inner_factory.<locals>.tf__train_function\u001b[1;34m(iterator)\u001b[0m\n\u001b[0;32m     13\u001b[0m \u001b[39mtry\u001b[39;00m:\n\u001b[0;32m     14\u001b[0m     do_return \u001b[39m=\u001b[39m \u001b[39mTrue\u001b[39;00m\n\u001b[1;32m---> 15\u001b[0m     retval_ \u001b[39m=\u001b[39m ag__\u001b[39m.\u001b[39mconverted_call(ag__\u001b[39m.\u001b[39mld(step_function), (ag__\u001b[39m.\u001b[39mld(\u001b[39mself\u001b[39m), ag__\u001b[39m.\u001b[39mld(iterator)), \u001b[39mNone\u001b[39;00m, fscope)\n\u001b[0;32m     16\u001b[0m \u001b[39mexcept\u001b[39;00m:\n\u001b[0;32m     17\u001b[0m     do_return \u001b[39m=\u001b[39m \u001b[39mFalse\u001b[39;00m\n",
      "\u001b[1;31mTypeError\u001b[0m: in user code:\n\n    File \"c:\\Users\\amilc\\AppData\\Local\\Programs\\Python\\Python310\\lib\\site-packages\\keras\\engine\\training.py\", line 1160, in train_function  *\n        return step_function(self, iterator)\n    File \"c:\\Users\\amilc\\AppData\\Local\\Programs\\Python\\Python310\\lib\\site-packages\\keras\\engine\\training.py\", line 1146, in step_function  **\n        outputs = model.distribute_strategy.run(run_step, args=(data,))\n    File \"c:\\Users\\amilc\\AppData\\Local\\Programs\\Python\\Python310\\lib\\site-packages\\keras\\engine\\training.py\", line 1135, in run_step  **\n        outputs = model.train_step(data)\n    File \"c:\\Users\\amilc\\AppData\\Local\\Programs\\Python\\Python310\\lib\\site-packages\\keras\\engine\\training.py\", line 994, in train_step\n        loss = self.compute_loss(x, y, y_pred, sample_weight)\n    File \"c:\\Users\\amilc\\AppData\\Local\\Programs\\Python\\Python310\\lib\\site-packages\\keras\\engine\\training.py\", line 1052, in compute_loss\n        return self.compiled_loss(\n    File \"c:\\Users\\amilc\\AppData\\Local\\Programs\\Python\\Python310\\lib\\site-packages\\keras\\engine\\compile_utils.py\", line 265, in __call__\n        loss_value = loss_obj(y_t, y_p, sample_weight=sw)\n    File \"c:\\Users\\amilc\\AppData\\Local\\Programs\\Python\\Python310\\lib\\site-packages\\keras\\losses.py\", line 152, in __call__\n        losses = call_fn(y_true, y_pred)\n    File \"c:\\Users\\amilc\\AppData\\Local\\Programs\\Python\\Python310\\lib\\site-packages\\keras\\losses.py\", line 272, in call  **\n        return ag_fn(y_true, y_pred, **self._fn_kwargs)\n    File \"c:\\Users\\amilc\\AppData\\Local\\Programs\\Python\\Python310\\lib\\site-packages\\keras\\losses.py\", line 2152, in binary_crossentropy\n        label_smoothing = tf.convert_to_tensor(label_smoothing, dtype=y_pred.dtype)\n\n    TypeError: Expected string, but got 0.0 of type 'float'.\n"
     ]
    }
   ],
   "source": [
    "#evaluating the model before training it\n",
    "model.fit(X_train, y_train, batch_size=16, epochs=20, validation_data=(X_valid, y_valid))"
   ]
  },
  {
   "cell_type": "code",
   "execution_count": null,
   "metadata": {},
   "outputs": [],
   "source": []
  }
 ],
 "metadata": {
  "kernelspec": {
   "display_name": "Python 3.10.7 64-bit",
   "language": "python",
   "name": "python3"
  },
  "language_info": {
   "codemirror_mode": {
    "name": "ipython",
    "version": 3
   },
   "file_extension": ".py",
   "mimetype": "text/x-python",
   "name": "python",
   "nbconvert_exporter": "python",
   "pygments_lexer": "ipython3",
   "version": "3.10.7"
  },
  "orig_nbformat": 4,
  "vscode": {
   "interpreter": {
    "hash": "f3b44d0901b27b90b29836124934e882c64ed863e8408c20b31f73c13ca8ef04"
   }
  }
 },
 "nbformat": 4,
 "nbformat_minor": 2
}
