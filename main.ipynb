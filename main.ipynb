{
  "cells": [
    {
      "cell_type": "markdown",
      "metadata": {
        "id": "view-in-github",
        "colab_type": "text"
      },
      "source": [
        "<a href=\"https://colab.research.google.com/github/Beatrix-droid/NN-for-text-classification-of-amazonreviews/blob/master/main.ipynb\" target=\"_parent\"><img src=\"https://colab.research.google.com/assets/colab-badge.svg\" alt=\"Open In Colab\"/></a>"
      ]
    },
    {
      "cell_type": "code",
      "source": [
        "from google.colab import drive\n",
        "drive.mount('/content/drive')"
      ],
      "metadata": {
        "colab": {
          "base_uri": "https://localhost:8080/"
        },
        "id": "e571nd1Tcby5",
        "outputId": "80479c65-e7fd-432a-cb51-9671ecc0e034"
      },
      "execution_count": 204,
      "outputs": [
        {
          "output_type": "stream",
          "name": "stdout",
          "text": [
            "Drive already mounted at /content/drive; to attempt to forcibly remount, call drive.mount(\"/content/drive\", force_remount=True).\n"
          ]
        }
      ]
    },
    {
      "cell_type": "markdown",
      "metadata": {
        "id": "mNZXjPZAcQlv"
      },
      "source": [
        "objective: trying to predict the score of a review given a text review.\n",
        "This machine learning model uses a dataset containing all sorts of amazon reviews.\n",
        "This dataset consists of reviews of fine foods from amazon. The data span a period of more than 10 years, including all ~500,000 reviews up to October 2012. Reviews include product and user information (, ratings, and a plain text review. It also includes reviews from all other Amazon categories."
      ]
    },
    {
      "cell_type": "code",
      "execution_count": 205,
      "metadata": {
        "id": "b67LXDm0cQlx"
      },
      "outputs": [],
      "source": [
        "import pandas as pd"
      ]
    },
    {
      "cell_type": "code",
      "execution_count": 206,
      "metadata": {
        "id": "cy3Yfh5PcQlz"
      },
      "outputs": [],
      "source": [
        "df = pd.read_csv('/content/drive/MyDrive/Reviews.csv')"
      ]
    },
    {
      "cell_type": "code",
      "execution_count": 207,
      "metadata": {
        "colab": {
          "base_uri": "https://localhost:8080/",
          "height": 739
        },
        "id": "dqfgHrUjcQl1",
        "outputId": "bd94e187-1ab7-4e49-850a-4a668fdceb2a"
      },
      "outputs": [
        {
          "output_type": "execute_result",
          "data": {
            "text/plain": [
              "   Id   ProductId          UserId                      ProfileName  \\\n",
              "0   1  B001E4KFG0  A3SGXH7AUHU8GW                       delmartian   \n",
              "1   2  B00813GRG4  A1D87F6ZCVE5NK                           dll pa   \n",
              "2   3  B000LQOCH0   ABXLMWJIXXAIN  Natalia Corres \"Natalia Corres\"   \n",
              "3   4  B000UA0QIQ  A395BORC6FGVXV                             Karl   \n",
              "4   5  B006K2ZZ7K  A1UQRSCLF8GW1T    Michael D. Bigham \"M. Wassir\"   \n",
              "\n",
              "   HelpfulnessNumerator  HelpfulnessDenominator  Score        Time  \\\n",
              "0                     1                       1      5  1303862400   \n",
              "1                     0                       0      1  1346976000   \n",
              "2                     1                       1      4  1219017600   \n",
              "3                     3                       3      2  1307923200   \n",
              "4                     0                       0      5  1350777600   \n",
              "\n",
              "                 Summary                                               Text  \n",
              "0  Good Quality Dog Food  I have bought several of the Vitality canned d...  \n",
              "1      Not as Advertised  Product arrived labeled as Jumbo Salted Peanut...  \n",
              "2  \"Delight\" says it all  This is a confection that has been around a fe...  \n",
              "3         Cough Medicine  If you are looking for the secret ingredient i...  \n",
              "4            Great taffy  Great taffy at a great price.  There was a wid...  "
            ],
            "text/html": [
              "\n",
              "  <div id=\"df-245e2c01-17b1-4bab-bf36-6e68b164026e\">\n",
              "    <div class=\"colab-df-container\">\n",
              "      <div>\n",
              "<style scoped>\n",
              "    .dataframe tbody tr th:only-of-type {\n",
              "        vertical-align: middle;\n",
              "    }\n",
              "\n",
              "    .dataframe tbody tr th {\n",
              "        vertical-align: top;\n",
              "    }\n",
              "\n",
              "    .dataframe thead th {\n",
              "        text-align: right;\n",
              "    }\n",
              "</style>\n",
              "<table border=\"1\" class=\"dataframe\">\n",
              "  <thead>\n",
              "    <tr style=\"text-align: right;\">\n",
              "      <th></th>\n",
              "      <th>Id</th>\n",
              "      <th>ProductId</th>\n",
              "      <th>UserId</th>\n",
              "      <th>ProfileName</th>\n",
              "      <th>HelpfulnessNumerator</th>\n",
              "      <th>HelpfulnessDenominator</th>\n",
              "      <th>Score</th>\n",
              "      <th>Time</th>\n",
              "      <th>Summary</th>\n",
              "      <th>Text</th>\n",
              "    </tr>\n",
              "  </thead>\n",
              "  <tbody>\n",
              "    <tr>\n",
              "      <th>0</th>\n",
              "      <td>1</td>\n",
              "      <td>B001E4KFG0</td>\n",
              "      <td>A3SGXH7AUHU8GW</td>\n",
              "      <td>delmartian</td>\n",
              "      <td>1</td>\n",
              "      <td>1</td>\n",
              "      <td>5</td>\n",
              "      <td>1303862400</td>\n",
              "      <td>Good Quality Dog Food</td>\n",
              "      <td>I have bought several of the Vitality canned d...</td>\n",
              "    </tr>\n",
              "    <tr>\n",
              "      <th>1</th>\n",
              "      <td>2</td>\n",
              "      <td>B00813GRG4</td>\n",
              "      <td>A1D87F6ZCVE5NK</td>\n",
              "      <td>dll pa</td>\n",
              "      <td>0</td>\n",
              "      <td>0</td>\n",
              "      <td>1</td>\n",
              "      <td>1346976000</td>\n",
              "      <td>Not as Advertised</td>\n",
              "      <td>Product arrived labeled as Jumbo Salted Peanut...</td>\n",
              "    </tr>\n",
              "    <tr>\n",
              "      <th>2</th>\n",
              "      <td>3</td>\n",
              "      <td>B000LQOCH0</td>\n",
              "      <td>ABXLMWJIXXAIN</td>\n",
              "      <td>Natalia Corres \"Natalia Corres\"</td>\n",
              "      <td>1</td>\n",
              "      <td>1</td>\n",
              "      <td>4</td>\n",
              "      <td>1219017600</td>\n",
              "      <td>\"Delight\" says it all</td>\n",
              "      <td>This is a confection that has been around a fe...</td>\n",
              "    </tr>\n",
              "    <tr>\n",
              "      <th>3</th>\n",
              "      <td>4</td>\n",
              "      <td>B000UA0QIQ</td>\n",
              "      <td>A395BORC6FGVXV</td>\n",
              "      <td>Karl</td>\n",
              "      <td>3</td>\n",
              "      <td>3</td>\n",
              "      <td>2</td>\n",
              "      <td>1307923200</td>\n",
              "      <td>Cough Medicine</td>\n",
              "      <td>If you are looking for the secret ingredient i...</td>\n",
              "    </tr>\n",
              "    <tr>\n",
              "      <th>4</th>\n",
              "      <td>5</td>\n",
              "      <td>B006K2ZZ7K</td>\n",
              "      <td>A1UQRSCLF8GW1T</td>\n",
              "      <td>Michael D. Bigham \"M. Wassir\"</td>\n",
              "      <td>0</td>\n",
              "      <td>0</td>\n",
              "      <td>5</td>\n",
              "      <td>1350777600</td>\n",
              "      <td>Great taffy</td>\n",
              "      <td>Great taffy at a great price.  There was a wid...</td>\n",
              "    </tr>\n",
              "  </tbody>\n",
              "</table>\n",
              "</div>\n",
              "      <button class=\"colab-df-convert\" onclick=\"convertToInteractive('df-245e2c01-17b1-4bab-bf36-6e68b164026e')\"\n",
              "              title=\"Convert this dataframe to an interactive table.\"\n",
              "              style=\"display:none;\">\n",
              "        \n",
              "  <svg xmlns=\"http://www.w3.org/2000/svg\" height=\"24px\"viewBox=\"0 0 24 24\"\n",
              "       width=\"24px\">\n",
              "    <path d=\"M0 0h24v24H0V0z\" fill=\"none\"/>\n",
              "    <path d=\"M18.56 5.44l.94 2.06.94-2.06 2.06-.94-2.06-.94-.94-2.06-.94 2.06-2.06.94zm-11 1L8.5 8.5l.94-2.06 2.06-.94-2.06-.94L8.5 2.5l-.94 2.06-2.06.94zm10 10l.94 2.06.94-2.06 2.06-.94-2.06-.94-.94-2.06-.94 2.06-2.06.94z\"/><path d=\"M17.41 7.96l-1.37-1.37c-.4-.4-.92-.59-1.43-.59-.52 0-1.04.2-1.43.59L10.3 9.45l-7.72 7.72c-.78.78-.78 2.05 0 2.83L4 21.41c.39.39.9.59 1.41.59.51 0 1.02-.2 1.41-.59l7.78-7.78 2.81-2.81c.8-.78.8-2.07 0-2.86zM5.41 20L4 18.59l7.72-7.72 1.47 1.35L5.41 20z\"/>\n",
              "  </svg>\n",
              "      </button>\n",
              "      \n",
              "  <style>\n",
              "    .colab-df-container {\n",
              "      display:flex;\n",
              "      flex-wrap:wrap;\n",
              "      gap: 12px;\n",
              "    }\n",
              "\n",
              "    .colab-df-convert {\n",
              "      background-color: #E8F0FE;\n",
              "      border: none;\n",
              "      border-radius: 50%;\n",
              "      cursor: pointer;\n",
              "      display: none;\n",
              "      fill: #1967D2;\n",
              "      height: 32px;\n",
              "      padding: 0 0 0 0;\n",
              "      width: 32px;\n",
              "    }\n",
              "\n",
              "    .colab-df-convert:hover {\n",
              "      background-color: #E2EBFA;\n",
              "      box-shadow: 0px 1px 2px rgba(60, 64, 67, 0.3), 0px 1px 3px 1px rgba(60, 64, 67, 0.15);\n",
              "      fill: #174EA6;\n",
              "    }\n",
              "\n",
              "    [theme=dark] .colab-df-convert {\n",
              "      background-color: #3B4455;\n",
              "      fill: #D2E3FC;\n",
              "    }\n",
              "\n",
              "    [theme=dark] .colab-df-convert:hover {\n",
              "      background-color: #434B5C;\n",
              "      box-shadow: 0px 1px 3px 1px rgba(0, 0, 0, 0.15);\n",
              "      filter: drop-shadow(0px 1px 2px rgba(0, 0, 0, 0.3));\n",
              "      fill: #FFFFFF;\n",
              "    }\n",
              "  </style>\n",
              "\n",
              "      <script>\n",
              "        const buttonEl =\n",
              "          document.querySelector('#df-245e2c01-17b1-4bab-bf36-6e68b164026e button.colab-df-convert');\n",
              "        buttonEl.style.display =\n",
              "          google.colab.kernel.accessAllowed ? 'block' : 'none';\n",
              "\n",
              "        async function convertToInteractive(key) {\n",
              "          const element = document.querySelector('#df-245e2c01-17b1-4bab-bf36-6e68b164026e');\n",
              "          const dataTable =\n",
              "            await google.colab.kernel.invokeFunction('convertToInteractive',\n",
              "                                                     [key], {});\n",
              "          if (!dataTable) return;\n",
              "\n",
              "          const docLinkHtml = 'Like what you see? Visit the ' +\n",
              "            '<a target=\"_blank\" href=https://colab.research.google.com/notebooks/data_table.ipynb>data table notebook</a>'\n",
              "            + ' to learn more about interactive tables.';\n",
              "          element.innerHTML = '';\n",
              "          dataTable['output_type'] = 'display_data';\n",
              "          await google.colab.output.renderOutput(dataTable, element);\n",
              "          const docLink = document.createElement('div');\n",
              "          docLink.innerHTML = docLinkHtml;\n",
              "          element.appendChild(docLink);\n",
              "        }\n",
              "      </script>\n",
              "    </div>\n",
              "  </div>\n",
              "  "
            ]
          },
          "metadata": {},
          "execution_count": 207
        }
      ],
      "source": [
        "#inspect a sample of the data\n",
        "df.head()"
      ]
    },
    {
      "cell_type": "code",
      "execution_count": 208,
      "metadata": {
        "id": "DIIAC9YtcQl3"
      },
      "outputs": [],
      "source": [
        "#drop unnecessary columns:\n",
        "df.drop([\"Id\", \"ProfileName\", \"UserId\", \"ProductId\", \"Summary\",\"Time\", \"HelpfulnessNumerator\", \"HelpfulnessDenominator\"], axis=1, inplace=True)"
      ]
    },
    {
      "cell_type": "code",
      "execution_count": 209,
      "metadata": {
        "colab": {
          "base_uri": "https://localhost:8080/",
          "height": 206
        },
        "id": "jvY_AInXcQl3",
        "outputId": "00a12fe7-37f6-414c-ee2e-28553b84bb0d"
      },
      "outputs": [
        {
          "output_type": "execute_result",
          "data": {
            "text/plain": [
              "   Score                                               Text\n",
              "0      5  I have bought several of the Vitality canned d...\n",
              "1      1  Product arrived labeled as Jumbo Salted Peanut...\n",
              "2      4  This is a confection that has been around a fe...\n",
              "3      2  If you are looking for the secret ingredient i...\n",
              "4      5  Great taffy at a great price.  There was a wid..."
            ],
            "text/html": [
              "\n",
              "  <div id=\"df-a03b2c7f-37b5-4262-8aee-70c9c89f7e58\">\n",
              "    <div class=\"colab-df-container\">\n",
              "      <div>\n",
              "<style scoped>\n",
              "    .dataframe tbody tr th:only-of-type {\n",
              "        vertical-align: middle;\n",
              "    }\n",
              "\n",
              "    .dataframe tbody tr th {\n",
              "        vertical-align: top;\n",
              "    }\n",
              "\n",
              "    .dataframe thead th {\n",
              "        text-align: right;\n",
              "    }\n",
              "</style>\n",
              "<table border=\"1\" class=\"dataframe\">\n",
              "  <thead>\n",
              "    <tr style=\"text-align: right;\">\n",
              "      <th></th>\n",
              "      <th>Score</th>\n",
              "      <th>Text</th>\n",
              "    </tr>\n",
              "  </thead>\n",
              "  <tbody>\n",
              "    <tr>\n",
              "      <th>0</th>\n",
              "      <td>5</td>\n",
              "      <td>I have bought several of the Vitality canned d...</td>\n",
              "    </tr>\n",
              "    <tr>\n",
              "      <th>1</th>\n",
              "      <td>1</td>\n",
              "      <td>Product arrived labeled as Jumbo Salted Peanut...</td>\n",
              "    </tr>\n",
              "    <tr>\n",
              "      <th>2</th>\n",
              "      <td>4</td>\n",
              "      <td>This is a confection that has been around a fe...</td>\n",
              "    </tr>\n",
              "    <tr>\n",
              "      <th>3</th>\n",
              "      <td>2</td>\n",
              "      <td>If you are looking for the secret ingredient i...</td>\n",
              "    </tr>\n",
              "    <tr>\n",
              "      <th>4</th>\n",
              "      <td>5</td>\n",
              "      <td>Great taffy at a great price.  There was a wid...</td>\n",
              "    </tr>\n",
              "  </tbody>\n",
              "</table>\n",
              "</div>\n",
              "      <button class=\"colab-df-convert\" onclick=\"convertToInteractive('df-a03b2c7f-37b5-4262-8aee-70c9c89f7e58')\"\n",
              "              title=\"Convert this dataframe to an interactive table.\"\n",
              "              style=\"display:none;\">\n",
              "        \n",
              "  <svg xmlns=\"http://www.w3.org/2000/svg\" height=\"24px\"viewBox=\"0 0 24 24\"\n",
              "       width=\"24px\">\n",
              "    <path d=\"M0 0h24v24H0V0z\" fill=\"none\"/>\n",
              "    <path d=\"M18.56 5.44l.94 2.06.94-2.06 2.06-.94-2.06-.94-.94-2.06-.94 2.06-2.06.94zm-11 1L8.5 8.5l.94-2.06 2.06-.94-2.06-.94L8.5 2.5l-.94 2.06-2.06.94zm10 10l.94 2.06.94-2.06 2.06-.94-2.06-.94-.94-2.06-.94 2.06-2.06.94z\"/><path d=\"M17.41 7.96l-1.37-1.37c-.4-.4-.92-.59-1.43-.59-.52 0-1.04.2-1.43.59L10.3 9.45l-7.72 7.72c-.78.78-.78 2.05 0 2.83L4 21.41c.39.39.9.59 1.41.59.51 0 1.02-.2 1.41-.59l7.78-7.78 2.81-2.81c.8-.78.8-2.07 0-2.86zM5.41 20L4 18.59l7.72-7.72 1.47 1.35L5.41 20z\"/>\n",
              "  </svg>\n",
              "      </button>\n",
              "      \n",
              "  <style>\n",
              "    .colab-df-container {\n",
              "      display:flex;\n",
              "      flex-wrap:wrap;\n",
              "      gap: 12px;\n",
              "    }\n",
              "\n",
              "    .colab-df-convert {\n",
              "      background-color: #E8F0FE;\n",
              "      border: none;\n",
              "      border-radius: 50%;\n",
              "      cursor: pointer;\n",
              "      display: none;\n",
              "      fill: #1967D2;\n",
              "      height: 32px;\n",
              "      padding: 0 0 0 0;\n",
              "      width: 32px;\n",
              "    }\n",
              "\n",
              "    .colab-df-convert:hover {\n",
              "      background-color: #E2EBFA;\n",
              "      box-shadow: 0px 1px 2px rgba(60, 64, 67, 0.3), 0px 1px 3px 1px rgba(60, 64, 67, 0.15);\n",
              "      fill: #174EA6;\n",
              "    }\n",
              "\n",
              "    [theme=dark] .colab-df-convert {\n",
              "      background-color: #3B4455;\n",
              "      fill: #D2E3FC;\n",
              "    }\n",
              "\n",
              "    [theme=dark] .colab-df-convert:hover {\n",
              "      background-color: #434B5C;\n",
              "      box-shadow: 0px 1px 3px 1px rgba(0, 0, 0, 0.15);\n",
              "      filter: drop-shadow(0px 1px 2px rgba(0, 0, 0, 0.3));\n",
              "      fill: #FFFFFF;\n",
              "    }\n",
              "  </style>\n",
              "\n",
              "      <script>\n",
              "        const buttonEl =\n",
              "          document.querySelector('#df-a03b2c7f-37b5-4262-8aee-70c9c89f7e58 button.colab-df-convert');\n",
              "        buttonEl.style.display =\n",
              "          google.colab.kernel.accessAllowed ? 'block' : 'none';\n",
              "\n",
              "        async function convertToInteractive(key) {\n",
              "          const element = document.querySelector('#df-a03b2c7f-37b5-4262-8aee-70c9c89f7e58');\n",
              "          const dataTable =\n",
              "            await google.colab.kernel.invokeFunction('convertToInteractive',\n",
              "                                                     [key], {});\n",
              "          if (!dataTable) return;\n",
              "\n",
              "          const docLinkHtml = 'Like what you see? Visit the ' +\n",
              "            '<a target=\"_blank\" href=https://colab.research.google.com/notebooks/data_table.ipynb>data table notebook</a>'\n",
              "            + ' to learn more about interactive tables.';\n",
              "          element.innerHTML = '';\n",
              "          dataTable['output_type'] = 'display_data';\n",
              "          await google.colab.output.renderOutput(dataTable, element);\n",
              "          const docLink = document.createElement('div');\n",
              "          docLink.innerHTML = docLinkHtml;\n",
              "          element.appendChild(docLink);\n",
              "        }\n",
              "      </script>\n",
              "    </div>\n",
              "  </div>\n",
              "  "
            ]
          },
          "metadata": {},
          "execution_count": 209
        }
      ],
      "source": [
        "df.head()"
      ]
    },
    {
      "cell_type": "code",
      "source": [
        "df.shape"
      ],
      "metadata": {
        "colab": {
          "base_uri": "https://localhost:8080/"
        },
        "id": "MkH8X_c4kIIG",
        "outputId": "6cef872d-e186-4d1a-8902-6e90f630e502"
      },
      "execution_count": 210,
      "outputs": [
        {
          "output_type": "execute_result",
          "data": {
            "text/plain": [
              "(568454, 2)"
            ]
          },
          "metadata": {},
          "execution_count": 210
        }
      ]
    },
    {
      "cell_type": "code",
      "source": [
        "\n",
        "#as the dataframe is too big for the model to train, we are going to drop the last  15 000 rows\n",
        "# Dropping last n rows using drop\n",
        "df.drop(df.tail(500_000).index, inplace = True, axis=0)\n"
      ],
      "metadata": {
        "id": "OGaiIJCjjYT0"
      },
      "execution_count": 211,
      "outputs": []
    },
    {
      "cell_type": "code",
      "source": [
        "df.shape"
      ],
      "metadata": {
        "colab": {
          "base_uri": "https://localhost:8080/"
        },
        "id": "p54zjgKFkIrW",
        "outputId": "eacd120b-ced2-4832-e0e3-12aab019b8bd"
      },
      "execution_count": 212,
      "outputs": [
        {
          "output_type": "execute_result",
          "data": {
            "text/plain": [
              "(68454, 2)"
            ]
          },
          "metadata": {},
          "execution_count": 212
        }
      ]
    },
    {
      "cell_type": "code",
      "execution_count": 213,
      "metadata": {
        "colab": {
          "base_uri": "https://localhost:8080/",
          "height": 295
        },
        "id": "laH169u7cQl7",
        "outputId": "cda86eb3-92b4-421e-ebfc-04aa5b810f6d"
      },
      "outputs": [
        {
          "output_type": "display_data",
          "data": {
            "text/plain": [
              "<Figure size 432x288 with 1 Axes>"
            ],
            "image/png": "[encoded data removed]"
          },
          "metadata": {
            "needs_background": "light"
          }
        }
      ],
      "source": [
        "#plot a histogram to visualise the data (what the average review rating is)\n",
        "import matplotlib.pyplot as plt\n",
        "\n",
        "plt.hist(df.Score, bins=20)\n",
        "plt.title(\"Reviews Histogram\")\n",
        "plt.ylabel(\"number\")\n",
        "plt.xlabel(\" Reviews (out of 5)\")\n",
        "plt.show()"
      ]
    },
    {
      "cell_type": "code",
      "execution_count": 214,
      "metadata": {
        "id": "ldOTej0ocQl7"
      },
      "outputs": [],
      "source": [
        "# too many 5 star reviews. Let's drop 40 percent of them:\n",
        "#first sort df\n",
        "df.sort_values('Score', ascending=True, inplace=True)\n",
        "new_df = df[df['Score'].cumsum() / df['Score'].sum() < 0.5]"
      ]
    },
    {
      "cell_type": "code",
      "execution_count": 215,
      "metadata": {
        "colab": {
          "base_uri": "https://localhost:8080/",
          "height": 295
        },
        "id": "_afpvZ7HcQl8",
        "outputId": "68fd38bd-3d68-419f-c9d9-4a0a70e27eb8"
      },
      "outputs": [
        {
          "output_type": "display_data",
          "data": {
            "text/plain": [
              "<Figure size 432x288 with 1 Axes>"
            ],
            "image/png": "[encoded data removed]"
          },
          "metadata": {
            "needs_background": "light"
          }
        }
      ],
      "source": [
        "plt.hist(new_df.Score, bins=20)\n",
        "plt.title(\"Reviews Histogram\")\n",
        "plt.ylabel(\"number\")\n",
        "plt.xlabel(\" Reviews (out of 5)\")\n",
        "plt.show()"
      ]
    },
    {
      "cell_type": "code",
      "execution_count": 216,
      "metadata": {
        "id": "YCPPhRpocQl8"
      },
      "outputs": [],
      "source": [
        "#randomly shuffle the dataframe as we had to order it to delete teh entries with mpore positive reviews\n",
        "shuffle_df=new_df.sample(frac=1)"
      ]
    },
    {
      "cell_type": "code",
      "execution_count": 217,
      "metadata": {
        "colab": {
          "base_uri": "https://localhost:8080/"
        },
        "id": "iPlorWL5cQl8",
        "outputId": "a78cc4b6-c434-461d-afa9-e699867e3dcc"
      },
      "outputs": [
        {
          "output_type": "execute_result",
          "data": {
            "text/plain": [
              "(40055, 2)"
            ]
          },
          "metadata": {},
          "execution_count": 217
        }
      ],
      "source": [
        "shuffle_df.shape"
      ]
    },
    {
      "cell_type": "code",
      "execution_count": 218,
      "metadata": {
        "colab": {
          "base_uri": "https://localhost:8080/",
          "height": 206
        },
        "id": "0iYx62nzcQl8",
        "outputId": "cf800b65-3dfb-4acd-e6ea-babb999d7114"
      },
      "outputs": [
        {
          "output_type": "execute_result",
          "data": {
            "text/plain": [
              "       Score                                               Text  \\\n",
              "3500       4  This is a very mild hot cocoa.  Perfect for th...   \n",
              "23056      4  I do love my morning coffee, but sometimes it ...   \n",
              "53934      5  This tea tastes great and really works to help...   \n",
              "20236      3  I tried these tea bags at work and they were a...   \n",
              "67717      3  The coffee is good, and you can taste the hint...   \n",
              "\n",
              "       good/bad review  \n",
              "3500                 1  \n",
              "23056                1  \n",
              "53934                1  \n",
              "20236                0  \n",
              "67717                0  "
            ],
            "text/html": [
              "\n",
              "  <div id=\"df-6337e83d-cbf3-4444-a36a-b1e8a62b6715\">\n",
              "    <div class=\"colab-df-container\">\n",
              "      <div>\n",
              "<style scoped>\n",
              "    .dataframe tbody tr th:only-of-type {\n",
              "        vertical-align: middle;\n",
              "    }\n",
              "\n",
              "    .dataframe tbody tr th {\n",
              "        vertical-align: top;\n",
              "    }\n",
              "\n",
              "    .dataframe thead th {\n",
              "        text-align: right;\n",
              "    }\n",
              "</style>\n",
              "<table border=\"1\" class=\"dataframe\">\n",
              "  <thead>\n",
              "    <tr style=\"text-align: right;\">\n",
              "      <th></th>\n",
              "      <th>Score</th>\n",
              "      <th>Text</th>\n",
              "      <th>good/bad review</th>\n",
              "    </tr>\n",
              "  </thead>\n",
              "  <tbody>\n",
              "    <tr>\n",
              "      <th>3500</th>\n",
              "      <td>4</td>\n",
              "      <td>This is a very mild hot cocoa.  Perfect for th...</td>\n",
              "      <td>1</td>\n",
              "    </tr>\n",
              "    <tr>\n",
              "      <th>23056</th>\n",
              "      <td>4</td>\n",
              "      <td>I do love my morning coffee, but sometimes it ...</td>\n",
              "      <td>1</td>\n",
              "    </tr>\n",
              "    <tr>\n",
              "      <th>53934</th>\n",
              "      <td>5</td>\n",
              "      <td>This tea tastes great and really works to help...</td>\n",
              "      <td>1</td>\n",
              "    </tr>\n",
              "    <tr>\n",
              "      <th>20236</th>\n",
              "      <td>3</td>\n",
              "      <td>I tried these tea bags at work and they were a...</td>\n",
              "      <td>0</td>\n",
              "    </tr>\n",
              "    <tr>\n",
              "      <th>67717</th>\n",
              "      <td>3</td>\n",
              "      <td>The coffee is good, and you can taste the hint...</td>\n",
              "      <td>0</td>\n",
              "    </tr>\n",
              "  </tbody>\n",
              "</table>\n",
              "</div>\n",
              "      <button class=\"colab-df-convert\" onclick=\"convertToInteractive('df-6337e83d-cbf3-4444-a36a-b1e8a62b6715')\"\n",
              "              title=\"Convert this dataframe to an interactive table.\"\n",
              "              style=\"display:none;\">\n",
              "        \n",
              "  <svg xmlns=\"http://www.w3.org/2000/svg\" height=\"24px\"viewBox=\"0 0 24 24\"\n",
              "       width=\"24px\">\n",
              "    <path d=\"M0 0h24v24H0V0z\" fill=\"none\"/>\n",
              "    <path d=\"M18.56 5.44l.94 2.06.94-2.06 2.06-.94-2.06-.94-.94-2.06-.94 2.06-2.06.94zm-11 1L8.5 8.5l.94-2.06 2.06-.94-2.06-.94L8.5 2.5l-.94 2.06-2.06.94zm10 10l.94 2.06.94-2.06 2.06-.94-2.06-.94-.94-2.06-.94 2.06-2.06.94z\"/><path d=\"M17.41 7.96l-1.37-1.37c-.4-.4-.92-.59-1.43-.59-.52 0-1.04.2-1.43.59L10.3 9.45l-7.72 7.72c-.78.78-.78 2.05 0 2.83L4 21.41c.39.39.9.59 1.41.59.51 0 1.02-.2 1.41-.59l7.78-7.78 2.81-2.81c.8-.78.8-2.07 0-2.86zM5.41 20L4 18.59l7.72-7.72 1.47 1.35L5.41 20z\"/>\n",
              "  </svg>\n",
              "      </button>\n",
              "      \n",
              "  <style>\n",
              "    .colab-df-container {\n",
              "      display:flex;\n",
              "      flex-wrap:wrap;\n",
              "      gap: 12px;\n",
              "    }\n",
              "\n",
              "    .colab-df-convert {\n",
              "      background-color: #E8F0FE;\n",
              "      border: none;\n",
              "      border-radius: 50%;\n",
              "      cursor: pointer;\n",
              "      display: none;\n",
              "      fill: #1967D2;\n",
              "      height: 32px;\n",
              "      padding: 0 0 0 0;\n",
              "      width: 32px;\n",
              "    }\n",
              "\n",
              "    .colab-df-convert:hover {\n",
              "      background-color: #E2EBFA;\n",
              "      box-shadow: 0px 1px 2px rgba(60, 64, 67, 0.3), 0px 1px 3px 1px rgba(60, 64, 67, 0.15);\n",
              "      fill: #174EA6;\n",
              "    }\n",
              "\n",
              "    [theme=dark] .colab-df-convert {\n",
              "      background-color: #3B4455;\n",
              "      fill: #D2E3FC;\n",
              "    }\n",
              "\n",
              "    [theme=dark] .colab-df-convert:hover {\n",
              "      background-color: #434B5C;\n",
              "      box-shadow: 0px 1px 3px 1px rgba(0, 0, 0, 0.15);\n",
              "      filter: drop-shadow(0px 1px 2px rgba(0, 0, 0, 0.3));\n",
              "      fill: #FFFFFF;\n",
              "    }\n",
              "  </style>\n",
              "\n",
              "      <script>\n",
              "        const buttonEl =\n",
              "          document.querySelector('#df-6337e83d-cbf3-4444-a36a-b1e8a62b6715 button.colab-df-convert');\n",
              "        buttonEl.style.display =\n",
              "          google.colab.kernel.accessAllowed ? 'block' : 'none';\n",
              "\n",
              "        async function convertToInteractive(key) {\n",
              "          const element = document.querySelector('#df-6337e83d-cbf3-4444-a36a-b1e8a62b6715');\n",
              "          const dataTable =\n",
              "            await google.colab.kernel.invokeFunction('convertToInteractive',\n",
              "                                                     [key], {});\n",
              "          if (!dataTable) return;\n",
              "\n",
              "          const docLinkHtml = 'Like what you see? Visit the ' +\n",
              "            '<a target=\"_blank\" href=https://colab.research.google.com/notebooks/data_table.ipynb>data table notebook</a>'\n",
              "            + ' to learn more about interactive tables.';\n",
              "          element.innerHTML = '';\n",
              "          dataTable['output_type'] = 'display_data';\n",
              "          await google.colab.output.renderOutput(dataTable, element);\n",
              "          const docLink = document.createElement('div');\n",
              "          docLink.innerHTML = docLinkHtml;\n",
              "          element.appendChild(docLink);\n",
              "        }\n",
              "      </script>\n",
              "    </div>\n",
              "  </div>\n",
              "  "
            ]
          },
          "metadata": {},
          "execution_count": 218
        }
      ],
      "source": [
        "#can see that we have  a lot of positive reviews. \n",
        "#creating a new model\n",
        "\n",
        "shuffle_df[\"good/bad review\"] = (df.Score >= 4.0).astype(int)\n",
        "\n",
        "shuffle_df.head()"
      ]
    },
    {
      "cell_type": "markdown",
      "metadata": {
        "id": "9XrQmNaZcQl_"
      },
      "source": [
        "we have more positive reviews than negative ones. So let's resample"
      ]
    },
    {
      "cell_type": "code",
      "execution_count": 219,
      "metadata": {
        "id": "CBT3S9IJcQl_"
      },
      "outputs": [],
      "source": [
        "import numpy as np\n"
      ]
    },
    {
      "cell_type": "code",
      "execution_count": 220,
      "metadata": {
        "id": "o5aRS0DocQl_"
      },
      "outputs": [],
      "source": [
        "#split data\n",
        "train, val, test = np.split(shuffle_df.sample(frac=1), [int(0.8*len(shuffle_df)), int(0.9 * len(shuffle_df))])"
      ]
    },
    {
      "cell_type": "code",
      "execution_count": 221,
      "metadata": {
        "colab": {
          "base_uri": "https://localhost:8080/"
        },
        "id": "ZubqRtzGcQmA",
        "outputId": "3fbd86f5-be15-4ab8-d0d7-4d6df2116ff0"
      },
      "outputs": [
        {
          "output_type": "execute_result",
          "data": {
            "text/plain": [
              "(32044, 4005, 4006)"
            ]
          },
          "metadata": {},
          "execution_count": 221
        }
      ],
      "source": [
        "len(train), len(val), len(test)"
      ]
    },
    {
      "cell_type": "markdown",
      "metadata": {
        "id": "ZEbGGmDpcQmA"
      },
      "source": [
        "Using a pretrained embedding layer"
      ]
    },
    {
      "cell_type": "markdown",
      "metadata": {
        "id": "PhK-Ju6YcQmA"
      },
      "source": [
        "tokenization: process of turning paragraphs into sentences, and sentences into words (so sentence is an arr of words (strings))\n",
        "\n",
        "text vectorization: turning text to numbers\n",
        "\n",
        "types of vectorization:\n",
        "count vectorization\n",
        "ngrams\n",
        "TFIDF"
      ]
    },
    {
      "cell_type": "code",
      "execution_count": 222,
      "metadata": {
        "id": "gFNmClWAcQmA"
      },
      "outputs": [],
      "source": [
        "import tensorflow_hub as hub\n",
        "import tensorflow as tf"
      ]
    },
    {
      "cell_type": "code",
      "execution_count": 223,
      "metadata": {
        "id": "_A0_81pwcQmA"
      },
      "outputs": [],
      "source": [
        "def df_to_dataset(data_df, shuffle=True, batch_size=10):\n",
        "    shuffle_df=data_df.copy()\n",
        "    labels=shuffle_df.pop(\"good/bad review\")\n",
        "    shuffle_df = shuffle_df[\"Text\"]\n",
        "    data_set = tf.data.Dataset.from_tensor_slices((shuffle_df, labels))#create a tf data.dataset object with data and its labels\n",
        "    if shuffle:\n",
        "        data_set=data_set.shuffle(buffer_size=len(data_df))#shuffle data\n",
        "    data_set = data_set.batch(batch_size) #split dataset into batches of 10 and repeat process for num of epochs\n",
        "    data_set = data_set.prefetch(tf.data.AUTOTUNE)\n",
        "    return data_set"
      ]
    },
    {
      "cell_type": "code",
      "execution_count": 224,
      "metadata": {
        "id": "PYD9HX2BcQmA"
      },
      "outputs": [],
      "source": [
        "train= df_to_dataset(train)\n",
        "valid= df_to_dataset(val)\n",
        "test= df_to_dataset(test)"
      ]
    },
    {
      "cell_type": "code",
      "execution_count": 225,
      "metadata": {
        "colab": {
          "base_uri": "https://localhost:8080/"
        },
        "id": "5MDN91xGcQmC",
        "outputId": "956fa8fe-d29e-4cde-eb08-e53a9596e308"
      },
      "outputs": [
        {
          "output_type": "execute_result",
          "data": {
            "text/plain": [
              "(<tf.Tensor: shape=(10,), dtype=string, numpy=\n",
              " array([b\"This is simply the best tea that I have ever found.  The flavors are incredible when combined with sweetener and half and half. Amazon offers this tea at a great price and shipping to my door so I don't have to take a chance on finding it at the store.  If you are looking for a fabulous tasting tea...look no further!  It's here!\",\n",
              "        b\"PB2 turned out to be a pretty good alternative to peanut butter. Although its definitely not as sweet it still tastes good on PB and jelly sandwiches and overall I thought it was pretty good. Its no Jiff, but if you are trying to cut back on calories it's a great substitute.\",\n",
              "        b\"I have three dogs.  They all loved the Greenies.  One dog does not chew her food, but gulps it whole.  I had to cut the Greenies into smaller portions for her.  It does help clean teeth, but caused diarrhea.  I think I'll look for another product for teeth cleaning.\",\n",
              "        b'I am a big fan of Primal Strips. In fact, I loved the first flavor so much (Texas BBQ) I decided to buy others and really enjoyed it all with the exception of Mesquite Lime. Luckily, this was the last flavor I purchased and I was displeasantly surprised. I had a rough time even swallowing my first bite! Yes, it was that bad. The \"lime\" in this was horridly instense, very vinegar like. It is really all you can taste. So... if you like biting into a meaty-textured product with an overbearing flavor of vinegar, you may probably enjoy this flavor. Otherwise, if you are like me, stick to the other enjoyable, tasty flavors this wonderful vegan product has to offer.',\n",
              "        b'We ordered the <a href=\"http://www.amazon.com/gp/product/B002AUHAHY\">Eden Organic Pinto Beans, 16-Ounce Boxes (Pack of 6)</a> and <a href=\"http://www.amazon.com/gp/product/B002AUBWA0\">Eden Organic Black Beans, 16-Ounce Boxes (Pack of 6)</a>. The quality of the beans is great, in my opinion...and of course I love that they are organic...but as another reviewer said - I thought the beans were out of date. I THOUGHT they were out of date, but after contacting the company though edenfoods.com I found out that the dates are just confusing on the packaging. When I saw \"Best Before: 12DE07\" I figured they expired December 12, 2007. The customer service representative that contacted me said the first two digits represent the year...meaning my beans are good until December 07, 2012. Good to know!<br /><br />And the contact on edenfoods.com was responded to quickly...I had an answer within half of a day.<br /><br />I\\'ll be buying these again!',\n",
              "        b\"I love the powdered coca tea, it is stronger but tea bags, while more expensive, are so easy to use, they are especially great for when you are in a hurry, I like 2 tea bags per cup, each coca tea bag only contains one gram or crushed coca leaf, while the  average tea bag sold in America contains 2 grams (2g) of tea.<br />This brand of coca tea has improved from last year's production, is fresh, aromatic, flavorful, and bursting with life\",\n",
              "        b\"I found them pretty tasty and If I don't chew them but just let chocolate melt, I can make 3-4 of them last 5 minutes, therefore eat 10-12 total instead of 1/2 of a can.\",\n",
              "        b'I suspect this drink is an acquired taste. After the first sip, I was reluctant to take another. The second sip was an improvement and the third even more so. By the end of the can, I was finding it fairly enjoyable.<br /><br />It was only after I had finished that I noted the Alka Seltzer-like aftermath. Yuck.<br /><br />Still, I am sure I could get used to it after a few more tries. This is, I think, the problem with the drink: I would drink it because it presents itself as being good for me, not because I was blown away with taste or a feeling of refreshment.<br /><br />I would not buy it again.',\n",
              "        b\"Not sure, but have been reading about Himalayan salt and apparently there is a high fluoride in this salt according to several reviews I've read, and that's not so good.  However, it looks very nice in my salt mill and tastes much better than Morton salt and I don't use it everyday.  Also, it's mined in Pakistan if that really matters.\",\n",
              "        b'If you read the first review and then read the company literature it will become obvious that the 1st review was either written by an employee or was copied from the literature. I will say the cheese straws are the best I have ever tasted. From the flavor to the crunchy feel in my mouth, I am addicted to Aunt Lizzies cheese straws. The negative? Customer service is non existent. An order that was placed on the internet was subsequently lost, even though I received a confirmation via email. I was offered no discount or upgraded shipping, no additional product with my order, no discount on my next order, not even an apology for the 7 day delay. Just an excuse that the email order was lost and that her IT guy would be on the problem tomorrow. Personally, I can count the number of times an email has been lost over the last 10 years on one hand. This is not the first problem I have had with an order. They do not give a tracking number with each order and when asked for one after the order is placed the odds of getting one are 50-50. I have had so many problems with my orders I will go without my Aunt Lizzies cheese straws. I will miss them greatly however I need the hassle associated with ordering them less than I need the cheese straws. ANN, I wish you the best in the future and suggest you participate in customer service training classes to refrain from losing additional customers in the future. FOLLOW UP: I just received an email notifying me that my order shipped on the Aug 9th. I have not placed an order! What more can they do?'],\n",
              "       dtype=object)>,\n",
              " <tf.Tensor: shape=(10,), dtype=int64, numpy=array([1, 0, 0, 0, 1, 1, 1, 0, 1, 1])>)"
            ]
          },
          "metadata": {},
          "execution_count": 225
        }
      ],
      "source": [
        "list(train)[0]  #tensor object converted to a list"
      ]
    },
    {
      "cell_type": "code",
      "execution_count": 226,
      "metadata": {
        "id": "D2MIFzB4cQmC"
      },
      "outputs": [],
      "source": [
        "embedding = \"https://tfhub.dev/google/nnlm-en-dim50/2\"  #Token based text embedding trained on English Google News 7B corpus.\n",
        "hub_layer = hub.KerasLayer(embedding, dtype=tf.string, trainable=True)\n"
      ]
    },
    {
      "cell_type": "code",
      "execution_count": 227,
      "metadata": {
        "colab": {
          "base_uri": "https://localhost:8080/"
        },
        "id": "gEWjVwCWcQmC",
        "outputId": "dff62999-7ba3-4cb9-8dcb-656948e7096d"
      },
      "outputs": [
        {
          "output_type": "execute_result",
          "data": {
            "text/plain": [
              "<tf.Tensor: shape=(10, 50), dtype=float32, numpy=\n",
              "array([[ 4.13822889e-01, -2.20726699e-01,  2.52028704e-01,\n",
              "         8.38954523e-02, -1.76592097e-01, -5.05339921e-01,\n",
              "         2.02273995e-01,  2.25381494e-01, -2.08707958e-01,\n",
              "         1.06622726e-01, -9.86190662e-02,  1.14561468e-02,\n",
              "        -8.89717862e-02,  1.98481411e-01, -3.64224762e-01,\n",
              "        -1.26244381e-01,  1.10348172e-01, -1.19572461e-01,\n",
              "         4.81777079e-02, -2.98153430e-01, -3.20606023e-01,\n",
              "        -6.59726918e-01, -2.30479598e-01,  2.05735974e-02,\n",
              "        -2.55767077e-01, -2.31092677e-01, -4.49654430e-01,\n",
              "         2.90904164e-01,  1.74041122e-01, -3.16106945e-01,\n",
              "         7.17811137e-02,  8.49566162e-02,  3.08161855e-01,\n",
              "        -5.99425673e-01, -8.87756422e-02,  1.07683048e-01,\n",
              "        -1.40924528e-01,  1.00653827e-01,  2.17472970e-01,\n",
              "        -3.53431642e-01, -1.50922790e-01,  1.67637169e-02,\n",
              "        -1.21956252e-01,  3.97201270e-01,  2.72294700e-01,\n",
              "        -2.34852850e-01,  1.98133543e-01, -4.31361467e-01,\n",
              "        -2.51075812e-02,  7.73792490e-02],\n",
              "       [ 3.88690144e-01,  9.29592550e-02, -5.97185344e-02,\n",
              "         1.00745611e-01,  1.39718711e-01, -2.59631842e-01,\n",
              "         1.92496702e-01,  1.34684548e-01, -4.05512333e-01,\n",
              "         3.40674780e-02,  8.06481242e-02, -2.47908115e-01,\n",
              "        -2.49913391e-02, -7.95440283e-03, -1.28668115e-01,\n",
              "         1.31940857e-01,  6.99837925e-03,  1.94016144e-01,\n",
              "         7.08208159e-02, -5.19286156e-01, -2.78544784e-01,\n",
              "        -2.06719294e-01, -6.95789009e-02,  1.35870546e-01,\n",
              "        -2.15977833e-01,  9.44094360e-02, -3.45956475e-01,\n",
              "         8.76427144e-02, -5.52703030e-02, -6.53557107e-02,\n",
              "        -1.36028454e-01,  2.64085263e-01,  5.47942258e-02,\n",
              "        -3.65614772e-01, -2.44554803e-01,  3.72910976e-01,\n",
              "         2.32448176e-01, -8.75198916e-02,  2.20907092e-01,\n",
              "        -2.38493070e-01,  3.01472962e-01,  1.32829458e-01,\n",
              "        -2.31390838e-02,  1.37352198e-01, -2.05639899e-01,\n",
              "         3.63668799e-02, -4.48207706e-01, -1.74423233e-01,\n",
              "         1.58686474e-01,  9.68301017e-03],\n",
              "       [ 1.14458370e+00, -2.32790679e-01,  1.57441333e-01,\n",
              "         7.55642831e-01,  1.48140207e-01, -1.42107129e-01,\n",
              "         6.27180263e-02,  1.89529747e-01, -5.38246393e-01,\n",
              "         6.63551569e-01,  3.75374220e-02, -5.22677973e-02,\n",
              "        -4.82083596e-02, -9.97643918e-03, -1.13270335e-01,\n",
              "        -2.18494684e-01, -3.88313055e-01,  2.08967000e-01,\n",
              "        -2.37238601e-01, -8.15810442e-01, -1.90469086e-01,\n",
              "        -1.49653971e-01,  2.98287183e-01, -1.17781376e-02,\n",
              "        -4.68541354e-01,  2.54396468e-01, -1.17528069e+00,\n",
              "         4.06451613e-01, -5.25533445e-02, -3.90124410e-01,\n",
              "        -1.34364694e-01,  6.23803973e-01,  6.52083635e-01,\n",
              "        -6.32922530e-01,  3.14966202e-01,  4.54676330e-01,\n",
              "         1.49675295e-01,  1.17928758e-01,  3.57786208e-01,\n",
              "        -2.69646794e-01, -1.38466612e-01,  3.47153664e-01,\n",
              "        -1.45616874e-01,  3.12391937e-01, -8.23663995e-02,\n",
              "        -1.99791357e-01, -5.67242503e-01, -1.65105045e-01,\n",
              "         1.33915588e-01,  3.25950116e-01],\n",
              "       [ 7.85123169e-01,  5.99742532e-02, -3.42381443e-03,\n",
              "         5.16137362e-01,  2.76169758e-02, -5.32015324e-01,\n",
              "         1.19739532e-01,  5.69087863e-01, -8.36061180e-01,\n",
              "         5.89336932e-01, -8.97508860e-02, -2.42034659e-01,\n",
              "        -9.74479988e-02, -3.23418826e-01, -5.43531358e-01,\n",
              "        -6.53428212e-02,  1.51658222e-01,  5.23893582e-03,\n",
              "         2.32815370e-01, -9.07425523e-01, -2.57995874e-01,\n",
              "        -3.82247329e-01,  8.17818522e-01, -1.52217105e-01,\n",
              "        -9.56622422e-01,  8.17649439e-02, -9.61514533e-01,\n",
              "         4.60377216e-01, -1.32293031e-01, -5.11626124e-01,\n",
              "        -2.55950615e-02,  5.12284338e-01,  8.63813519e-01,\n",
              "        -1.04852366e+00, -3.47969472e-01,  6.42545462e-01,\n",
              "         4.02248859e-01, -2.50319451e-01,  3.79454762e-01,\n",
              "        -5.45771182e-01,  1.84800029e-01,  4.13226932e-01,\n",
              "        -2.98685674e-02,  4.36216652e-01, -7.59792165e-05,\n",
              "        -1.44422993e-01, -4.28915650e-01, -4.74367440e-01,\n",
              "         4.07534897e-01,  5.69229484e-01],\n",
              "       [ 5.03773332e-01, -2.38942415e-01,  1.10364035e-02,\n",
              "         3.50487530e-01,  2.02259034e-01, -1.31837353e-01,\n",
              "         8.78820270e-02, -1.34519637e-01, -2.56534278e-01,\n",
              "         8.76151100e-02,  3.00369877e-02, -1.15265839e-01,\n",
              "        -6.00796081e-02,  6.97152242e-02, -5.67418262e-02,\n",
              "        -2.40776986e-01,  1.10877372e-01,  1.60051733e-01,\n",
              "        -4.71168868e-02, -5.28857768e-01, -4.39850539e-02,\n",
              "        -5.55238008e-01,  9.87136289e-02,  3.39674413e-01,\n",
              "        -3.99937868e-01, -6.60926150e-03, -4.50159341e-01,\n",
              "         1.24148414e-01,  1.75611675e-02, -8.94481167e-02,\n",
              "        -1.52495980e-01,  2.98050612e-01,  3.19948047e-01,\n",
              "        -1.92980662e-01, -1.11317493e-01,  3.86450648e-01,\n",
              "         8.38113204e-02,  3.58618468e-01,  2.18733370e-01,\n",
              "        -4.14151192e-01,  2.51898676e-01,  6.55968674e-04,\n",
              "        -6.29640296e-02,  2.09423929e-01, -1.02003247e-01,\n",
              "         9.77715626e-02, -1.99529409e-01, -3.87854278e-02,\n",
              "        -1.80138305e-01,  4.12883833e-02],\n",
              "       [ 5.43880463e-01,  9.95871201e-02, -1.79900736e-01,\n",
              "         2.13940680e-01, -1.64689302e-01, -4.20080155e-01,\n",
              "         8.48013088e-02,  6.19107746e-02, -2.42454752e-01,\n",
              "         2.68837482e-01,  1.62092105e-01, -1.37893602e-01,\n",
              "        -1.65770978e-01, -5.67726307e-02, -1.61847219e-01,\n",
              "         1.39269046e-02, -2.61463672e-01,  1.47113010e-01,\n",
              "        -1.61001578e-01, -4.25700754e-01,  2.03828420e-02,\n",
              "        -2.58860618e-01,  4.59700644e-01, -3.88154835e-02,\n",
              "        -1.89700335e-01, -7.22521683e-03, -7.13415265e-01,\n",
              "         3.02560657e-01, -7.83276111e-02, -3.62589329e-01,\n",
              "        -2.69658208e-01,  1.37842283e-01,  8.77093226e-02,\n",
              "        -1.49977788e-01, -2.59336412e-01,  1.67215943e-01,\n",
              "        -4.00422998e-02,  1.00822181e-01,  1.10705197e-02,\n",
              "        -2.59056896e-01,  7.58325756e-02,  1.94361523e-01,\n",
              "        -2.66378760e-01,  2.60319382e-01, -8.78958479e-02,\n",
              "        -1.20832488e-01, -2.31407747e-01, -6.80095777e-02,\n",
              "        -1.57083064e-01,  1.43116321e-02],\n",
              "       [ 3.47008228e-01,  9.44658145e-02, -9.53870639e-02,\n",
              "        -8.72890502e-02,  3.97982270e-01,  5.65914474e-02,\n",
              "         2.25164026e-01, -1.35119542e-01, -2.79044420e-01,\n",
              "         3.49703044e-01,  1.44071862e-01,  2.44231746e-01,\n",
              "         1.05597757e-01, -2.08456591e-02, -6.84146807e-02,\n",
              "        -1.39424145e-01,  1.40509322e-01, -1.04739979e-01,\n",
              "         2.41924658e-01, -3.81805569e-01, -1.22780479e-01,\n",
              "        -2.46462915e-02,  1.92640647e-01, -1.47774562e-01,\n",
              "        -1.09013192e-01, -1.30430296e-01, -5.27206004e-01,\n",
              "         2.04362884e-01,  9.69665796e-02, -2.01964676e-01,\n",
              "         8.28337967e-02,  1.38138942e-02,  2.49304250e-01,\n",
              "        -1.34193569e-01, -3.52935046e-01, -6.93102404e-02,\n",
              "         1.25560105e-01, -5.38724475e-02, -2.09862888e-02,\n",
              "         3.91628928e-02,  1.35193076e-02,  1.29718885e-01,\n",
              "        -2.93418437e-01,  1.17931087e-02,  4.09100354e-02,\n",
              "         1.77653164e-01, -5.27484789e-02, -3.19385141e-01,\n",
              "         9.41166058e-02,  1.35663286e-01],\n",
              "       [ 6.60836697e-01, -2.03020066e-01, -6.40269443e-02,\n",
              "         2.92281866e-01, -8.15510973e-02, -5.61536491e-01,\n",
              "        -1.43795470e-02,  3.58733475e-01, -7.13624239e-01,\n",
              "         4.20195520e-01,  1.54278278e-01, -1.13299765e-01,\n",
              "        -1.24787301e-01, -1.86401650e-01, -5.03025711e-01,\n",
              "        -4.39130247e-01,  5.20817712e-02,  6.86141491e-01,\n",
              "        -5.67070469e-02, -9.52902198e-01, -2.59643793e-01,\n",
              "        -7.32429266e-01,  3.46610576e-01,  2.12812647e-01,\n",
              "        -8.23260486e-01, -1.88683727e-04, -6.00168526e-01,\n",
              "         2.33784780e-01,  3.93234581e-01, -2.82726198e-01,\n",
              "        -2.25562409e-01,  6.28897965e-01,  3.44959289e-01,\n",
              "        -6.23399973e-01,  1.08839810e-01,  9.10485208e-01,\n",
              "         1.41071677e-01,  3.44302595e-01,  2.95860857e-01,\n",
              "        -7.64483273e-01, -2.23518647e-02,  3.42888832e-02,\n",
              "         2.33022571e-01,  1.19556047e-01, -4.51162755e-01,\n",
              "         1.13054961e-01, -3.74352574e-01, -2.52352268e-01,\n",
              "         1.57405123e-01, -1.06638081e-01],\n",
              "       [ 8.30310404e-01, -2.20317557e-01, -3.32656503e-01,\n",
              "         7.02857256e-01,  2.01831266e-01, -2.85642713e-01,\n",
              "         3.08364213e-01,  2.08757132e-01, -5.57634711e-01,\n",
              "         5.75075328e-01,  3.28720301e-01,  1.32966667e-01,\n",
              "        -2.12220654e-01,  5.07824682e-02, -5.71192682e-01,\n",
              "        -1.58605799e-01, -1.53060645e-01,  5.52115679e-01,\n",
              "        -1.40639737e-01, -8.66472840e-01, -2.09447388e-02,\n",
              "        -2.65535623e-01,  6.60282910e-01,  1.52379170e-01,\n",
              "        -6.38710618e-01,  2.64367998e-01, -1.11254478e+00,\n",
              "         3.51155430e-01,  2.95109272e-01, -3.79512280e-01,\n",
              "        -2.89512575e-01,  6.42833769e-01,  5.07931590e-01,\n",
              "        -4.36465263e-01, -1.82576120e-01,  7.29093075e-01,\n",
              "         4.62956503e-02,  3.88181247e-02,  3.12224686e-01,\n",
              "        -3.38703752e-01,  2.00210996e-02,  1.43406793e-01,\n",
              "        -7.00635165e-02,  4.06871915e-01, -2.40291417e-01,\n",
              "         1.31219268e-01, -6.37984812e-01, -2.68399417e-01,\n",
              "         2.47860536e-01, -8.42575729e-02],\n",
              "       [ 1.43474889e+00, -4.37560797e-01, -6.94910288e-02,\n",
              "         6.20779216e-01,  1.50117964e-01, -4.13399309e-01,\n",
              "         3.87109637e-01,  7.38747716e-01, -1.02000368e+00,\n",
              "         6.45745456e-01, -8.47328678e-02,  9.49558169e-02,\n",
              "        -2.11714685e-01, -1.97750643e-01, -3.69595200e-01,\n",
              "        -4.28521693e-01, -2.55266260e-02,  3.78258824e-01,\n",
              "         2.79823113e-02, -1.55760491e+00, -8.44485834e-02,\n",
              "        -7.09424376e-01,  8.32826376e-01,  2.48378709e-01,\n",
              "        -7.52926588e-01,  3.94446015e-01, -9.93455946e-01,\n",
              "         5.59261739e-01,  2.38996670e-01, -7.98542917e-01,\n",
              "        -9.98082832e-02,  8.57330203e-01,  9.37883258e-01,\n",
              "        -1.30011797e+00, -2.08146006e-01,  5.17728984e-01,\n",
              "        -9.06659365e-02,  4.04310614e-01,  4.75025713e-01,\n",
              "        -9.82898772e-01, -8.48694593e-02,  6.89358413e-01,\n",
              "         3.14501747e-02,  2.74326682e-01, -6.01944506e-01,\n",
              "        -9.69577581e-02, -3.45551670e-01, -5.05593002e-01,\n",
              "         3.55124623e-01,  7.84460902e-01]], dtype=float32)>"
            ]
          },
          "metadata": {},
          "execution_count": 227
        }
      ],
      "source": [
        "hub_layer(list(train)[0][0]) #sample of what the encoding layer looks like"
      ]
    },
    {
      "cell_type": "code",
      "execution_count": 228,
      "metadata": {
        "id": "5f9JW1_WcQmC"
      },
      "outputs": [],
      "source": [
        "callback = [tf.keras.callbacks.EarlyStopping(monitor='val_loss', patience=1),\n",
        "             tf.keras.callbacks.ModelCheckpoint(filepath='best_model.h5', monitor='val_loss', save_best_only=True)]"
      ]
    },
    {
      "cell_type": "code",
      "execution_count": 229,
      "metadata": {
        "id": "pAPRJfFicQmC"
      },
      "outputs": [],
      "source": [
        "model = tf.keras.Sequential()\n",
        "model.add(hub_layer) #embeds our words\n",
        "model.add(tf.keras.layers.Dense(16, activation=\"relu\")) #dense takes input from every preceding neuron\n",
        "model.add(tf.keras.layers.Dense(16, activation=\"relu\"))       \n",
        "model.add(tf.keras.layers.Dense(1, activation=\"sigmoid\")) #useful for binary classification as sigmoid maps our feature to a probability"
      ]
    },
    {
      "cell_type": "code",
      "execution_count": 230,
      "metadata": {
        "id": "Awp2o4uucQmC"
      },
      "outputs": [],
      "source": [
        "model.compile(optimizer=tf.keras.optimizers.Adam(learning_rate=0.001), \n",
        "             loss = tf.keras.losses.BinaryCrossentropy(), #binarycross entropy as binary classification problem\n",
        "                metrics=[\"accuracy\"])"
      ]
    },
    {
      "cell_type": "code",
      "execution_count": 231,
      "metadata": {
        "colab": {
          "base_uri": "https://localhost:8080/"
        },
        "id": "RnUD7kxtcQmD",
        "outputId": "51d932a3-c174-4ac5-fe44-bb093af1b291"
      },
      "outputs": [
        {
          "output_type": "stream",
          "name": "stdout",
          "text": [
            "3205/3205 [==============================] - 7s 2ms/step - loss: 0.6830 - accuracy: 0.5828\n"
          ]
        },
        {
          "output_type": "execute_result",
          "data": {
            "text/plain": [
              "[0.6830195188522339, 0.582823634147644]"
            ]
          },
          "metadata": {},
          "execution_count": 231
        }
      ],
      "source": [
        "model.evaluate(train) #evaluate performance of model without training it first\n",
        "#accuracy is around 58%, loss is 0.68"
      ]
    },
    {
      "cell_type": "code",
      "execution_count": null,
      "metadata": {
        "colab": {
          "base_uri": "https://localhost:8080/"
        },
        "id": "S_4zKoX3cQmE",
        "outputId": "05b19d73-1d98-4891-dd65-5a93bcdb04e7"
      },
      "outputs": [
        {
          "output_type": "stream",
          "name": "stdout",
          "text": [
            "Epoch 1/10\n",
            "3205/3205 [==============================] - 1785s 557ms/step - loss: 0.4351 - accuracy: 0.7963 - val_loss: 0.3940 - val_accuracy: 0.8260\n",
            "Epoch 2/10\n",
            " 123/3205 [>.............................] - ETA: 29:27 - loss: 0.2737 - accuracy: 0.8992"
          ]
        }
      ],
      "source": [
        "history=model.fit(train, epochs= 10, validation_data=valid, callbacks=[callback] )"
      ]
    },
    {
      "cell_type": "code",
      "source": [
        "#create a plot of the training accuracy and validation accuracy (both should increase)\n",
        "plt.plot(history.history[\"accuracy\"], label=\"Training Accuracy\")\n",
        "plt.plot(history.history[\"val_accuracy\"], label=\"Validation Accuracy\")\n",
        "plt.xlablel(\"Number of Epochs\")\n",
        "plt.ylabel(\"val acc  and training acc scores\")\n",
        "plt.title(\"A graph showhing the training loss and validation accuracy of the model for each Epoch\")\n",
        "plt.legend()\n",
        "plt.show()"
      ],
      "metadata": {
        "id": "EaCBncNrCn2C"
      },
      "execution_count": null,
      "outputs": []
    },
    {
      "cell_type": "code",
      "source": [
        "#create a plot of the loss and validation loss both should decrease as no of epochs increase\n",
        "plt.plot(history.history[\"loss\"], label=\"Training Loss\")\n",
        "plt.plot(history.history[\"val_loss\"], label=\"Validation Loss\")\n",
        "plt.xlablel(\"Number of Epochs\")\n",
        "plt.ylabel(\"val loss  and training loss scores\")\n",
        "plt.title(\"A graph showhing the training loss and validation loss of the model for each Epoch\")\n",
        "plt.legend()\n",
        "plt.show()"
      ],
      "metadata": {
        "id": "fqB-VwoEDsgn"
      },
      "execution_count": null,
      "outputs": []
    },
    {
      "cell_type": "code",
      "source": [
        "#evaluate model\n",
        "model.evaluate(valid)"
      ],
      "metadata": {
        "id": "CFCAlWWjGX6V"
      },
      "execution_count": null,
      "outputs": []
    },
    {
      "cell_type": "code",
      "source": [
        "model.evaluate(test)"
      ],
      "metadata": {
        "id": "htixjmAdGjhU"
      },
      "execution_count": null,
      "outputs": []
    },
    {
      "cell_type": "markdown",
      "source": [
        "problem: the model seems to overfit. This becomes even more apparent if one removes the optional Earlystopping parameter \n",
        " included in the demo given lack of time to train the model for the full 10 epochs\n",
        "\n",
        " One suggested way of fixing this would be adding a dropout layer to the model to increase randomness and force it to be more\n",
        " capable at generalising. This layer would be added after the first dense layer"
      ],
      "metadata": {
        "id": "hI3gkqagLz_J"
      }
    },
    {
      "cell_type": "markdown",
      "source": [
        "from the tf.keras docs:\n",
        "\n",
        "\" The Dropout layer randomly sets input units to 0 with a frequency of rate at each step during training time, which helps prevent overfitting. Inputs not set to 0 are scaled up by 1/(1 - rate) such that the sum over all inputs is unchanged.\" Note that the Dropout layer only applies when training is set to True such that no values are dropped during inference. "
      ],
      "metadata": {
        "id": "_SksF4XWLVld"
      }
    },
    {
      "cell_type": "code",
      "source": [
        "model2 = tf.keras.Sequential()\n",
        "model2.add(hub_layer) #embeds our words\n",
        "model2.add(tf.keras.layers.Dense(16, activation=\"relu\")) #dense takes input from every preceding neuron\n",
        "model2.add(tf.keras.layers.Dropout(0.4))\n",
        "model2.add(tf.keras.layers.Dense(16, activation=\"relu\"))    \n",
        "model2.add(tf.keras.layers.Dropout(0.4))\n",
        "model2.add(tf.keras.layers.Dense(1, activation=\"sigmoid\")) "
      ],
      "metadata": {
        "id": "veNPHXCiKI4H"
      },
      "execution_count": null,
      "outputs": []
    },
    {
      "cell_type": "code",
      "source": [
        "model2.compile(optimizer=tf.keras.optimizers.Adam(learning_rate=0.001), \n",
        "             loss = tf.keras.losses.BinaryCrossentropy(), #binarycross entropy as binary classification problem\n",
        "                metrics=[\"accuracy\"])"
      ],
      "metadata": {
        "id": "Q3kmhf13Kdca"
      },
      "execution_count": null,
      "outputs": []
    },
    {
      "cell_type": "code",
      "source": [],
      "metadata": {
        "id": "AesFO5E9LP22"
      },
      "execution_count": null,
      "outputs": []
    },
    {
      "cell_type": "code",
      "source": [
        "model2.evaluate(train) #evaluate performance of model without training it first\n",
        "#accuracy is around 50%, loss is 0.69"
      ],
      "metadata": {
        "id": "Xk-gKLwXK-Bt"
      },
      "execution_count": null,
      "outputs": []
    },
    {
      "cell_type": "code",
      "execution_count": null,
      "metadata": {
        "id": "U7_wuFO3cQmE"
      },
      "outputs": [],
      "source": [
        "encoder = tf.keras.layers.TextVectorization(max_tokens=2000)\n",
        "encoder.adapt(train.map(lambda x, y: x))"
      ]
    },
    {
      "cell_type": "code",
      "execution_count": null,
      "metadata": {
        "id": "9iQXlDF-cQmF"
      },
      "outputs": [],
      "source": []
    }
  ],
  "metadata": {
    "kernelspec": {
      "display_name": "Python 3.10.7 64-bit",
      "language": "python",
      "name": "python3"
    },
    "language_info": {
      "codemirror_mode": {
        "name": "ipython",
        "version": 3
      },
      "file_extension": ".py",
      "mimetype": "text/x-python",
      "name": "python",
      "nbconvert_exporter": "python",
      "pygments_lexer": "ipython3",
      "version": "3.10.7"
    },
    "orig_nbformat": 4,
    "vscode": {
      "interpreter": {
        "hash": "f3b44d0901b27b90b29836124934e882c64ed863e8408c20b31f73c13ca8ef04"
      }
    },
    "colab": {
      "provenance": [],
      "include_colab_link": true
    }
  },
  "nbformat": 4,
  "nbformat_minor": 0
}